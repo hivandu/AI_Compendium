{
 "cells": [
  {
   "cell_type": "markdown",
   "metadata": {},
   "source": [
    "# SECTION 03, Introduction 2"
   ]
  },
  {
   "cell_type": "code",
   "execution_count": 1,
   "metadata": {},
   "outputs": [],
   "source": [
    "import random"
   ]
  },
  {
   "cell_type": "code",
   "execution_count": 26,
   "metadata": {},
   "outputs": [],
   "source": [
    "grammar = \"\"\"\n",
    "sentence = s_sentence , Conjunction sentence | s_sentence\n",
    "conjunction = and | but | however\n",
    "s_sentence = Subject Predicate Object\n",
    "subject = you | I | he\n",
    "predicate = eat | play\n",
    "object = peach | ball\n",
    "\"\"\""
   ]
  },
  {
   "cell_type": "code",
   "execution_count": 32,
   "metadata": {},
   "outputs": [
    {
     "name": "stdout",
     "output_type": "stream",
     "text": [
      "play peach\n"
     ]
    }
   ],
   "source": [
    "import random\n",
    "\n",
    "def generate_verb():\n",
    "    return random.choice('eat|drink|play|hit'.split('|'))\n",
    "\n",
    "def generate_object():\n",
    "    return random.choice('ball|peach|dumpling'.split('|'))\n",
    "\n",
    "print(generate_verb() + ' ' + generate_object())"
   ]
  },
  {
   "cell_type": "code",
   "execution_count": 34,
   "metadata": {},
   "outputs": [],
   "source": [
    "grammar2 = \"\"\"\n",
    "sentence = greeting play activity ?\n",
    "greeting = hello | hi | long time no see\n",
    "play = need to play | like to play | want to play\n",
    "activity = horseback riding | playing ball | drinking tea\n",
    "\"\"\""
   ]
  },
  {
   "cell_type": "code",
   "execution_count": 35,
   "metadata": {},
   "outputs": [
    {
     "name": "stdout",
     "output_type": "stream",
     "text": [
      "sentence = s_sentence , Conjunction sentence | s_sentence\n",
      "conjunction = and | but | however\n",
      "s_sentence = Subject Predicate Object\n",
      "subject = you | I | he\n",
      "predicate = eat | play\n",
      "object = peach | ball\n",
      "{'sentence': ['s_sentence , Conjunction sentence', 's_sentence'], 'conjunction': ['and', 'but', 'however'], 's_sentence': ['Subject Predicate Object'], 'subject': ['you', 'I', 'he'], 'predicate': ['eat', 'play'], 'object': ['peach', 'ball']}\n"
     ]
    }
   ],
   "source": [
    "grammar_gen = dict()\n",
    "\n",
    "for line in grammar.split('\\n'):\n",
    "    if not line.strip(): continue\n",
    "    print(line)\n",
    "\n",
    "    stmt, expr = line.split('=')\n",
    "\n",
    "    expressions = expr.split('|')\n",
    "    grammar_gen[stmt.strip()] = [e.strip() for e in expressions]\n",
    "\n",
    "print(grammar_gen)"
   ]
  },
  {
   "cell_type": "code",
   "execution_count": 37,
   "metadata": {},
   "outputs": [
    {
     "name": "stdout",
     "output_type": "stream",
     "text": [
      "generated: \n",
      "Subject Predicate Object , Conjunction Subject Predicate Object , Conjunction Subject Predicate Object\n"
     ]
    }
   ],
   "source": [
    "def generate_sentence(gram, target='sentence'):\n",
    "    if target not in gram: return target\n",
    "\n",
    "    exp = random.choice(gram[target])\n",
    "\n",
    "    return ' '.join([generate_sentence(gram, e) for e in exp.split()])\n",
    "\n",
    "print('generated: \\n' + generate_sentence(grammar_gen))"
   ]
  },
  {
   "cell_type": "code",
   "execution_count": 38,
   "metadata": {},
   "outputs": [
    {
     "name": "stdout",
     "output_type": "stream",
     "text": [
      "generated: \n",
      "I eat peach\n",
      "generated: \n",
      "long time no see want to play drinking tea ?\n"
     ]
    }
   ],
   "source": [
    "grammar = \"\"\"\n",
    "Sentence = s_Sentence , Conjunction Sentence | s_Sentence\n",
    "Conjunction = and | but | however\n",
    "s_Sentence = Subject Predicate Object\n",
    "Subject = you | I | he\n",
    "Predicate = eat | play\n",
    "Object = peach | ball\n",
    "\"\"\"\n",
    "\n",
    "grammar2 = \"\"\"\n",
    "Sentence = Greeting Play Activity ?\n",
    "Greeting = hello | hi | long time no see\n",
    "Play = need to play | like to play | want to play\n",
    "Activity = horse riding | playing ball | drinking tea\n",
    "\"\"\"\n",
    "\n",
    "def get_grammar(grammar_string):\n",
    "    grammar_gen = dict()\n",
    "\n",
    "    for line in grammar_string.split('\\n'):\n",
    "        if not line.strip(): continue\n",
    "\n",
    "        stmt, expr = line.split('=')\n",
    "\n",
    "        expressions = expr.split('|')\n",
    "        grammar_gen[stmt.strip()] = [e.strip() for e in expressions]\n",
    "    \n",
    "    return grammar_gen\n",
    "\n",
    "choice = lambda t: random.choice(t)\n",
    "\n",
    "def generate_sentence(gram, target='Sentence'):\n",
    "    if target not in gram: return target\n",
    "\n",
    "    # exp = random.choice(gram[target])\n",
    "    # return ''.join([generate_sentence(gram, e) for e in exp.split()])\n",
    "    \n",
    "    return ' '.join([generate_sentence(gram, e) for e in choice(gram[target]).split()])\n",
    "\n",
    "print('generated: \\n'+generate_sentence(get_grammar(grammar)))\n",
    "print('generated: \\n'+generate_sentence(get_grammar(grammar2)))"
   ]
  },
  {
   "cell_type": "markdown",
   "metadata": {},
   "source": [
    "## Water Jug Problem"
   ]
  },
  {
   "cell_type": "code",
   "execution_count": 39,
   "metadata": {},
   "outputs": [
    {
     "name": "stdout",
     "output_type": "stream",
     "text": [
      "step:0,('init', (0, 0))\n",
      "step:1,('Fill y', (0, 4))\n",
      "step:2,('y => x', (4, 0))\n",
      "step:3,('Fill y', (4, 4))\n",
      "step:4,('y => x', (8, 0))\n",
      "step:5,('Fill y', (8, 4))\n",
      "step:6,('y => x', (9, 3))\n",
      "step:7,('Empty x', (0, 3))\n",
      "step:8,('y => x', (3, 0))\n",
      "step:9,('Fill y', (3, 4))\n",
      "step:10,('y => x', (7, 0))\n"
     ]
    }
   ],
   "source": [
    "def successors(x, y, X, Y):\n",
    "    return {\n",
    "        (x, 0): 'Empty y',\n",
    "        (0, y): 'Empty x',\n",
    "        (x, Y): 'Fill y',\n",
    "        (X, y): 'Fill x',\n",
    "        (0, x+y) if x+y <= Y else (x+y-Y, Y): 'x => y',\n",
    "        (x+y, 0) if x+y <= X else (X, x+y-X): 'y => x',\n",
    "    }\n",
    "\n",
    "def search_solution(capacity1, capacity2, goal, start=(0,0)):\n",
    "    if goal in start: return [start]\n",
    "\n",
    "    explored = set()\n",
    "\n",
    "    paths = [[('init', start)]]\n",
    "\n",
    "    while paths:\n",
    "        path = paths.pop(0)\n",
    "        (x, y)  = path[-1][-1]\n",
    "\n",
    "        for (state, action) in successors(x, y, capacity1, capacity2).items():\n",
    "\n",
    "            if state in explored: continue\n",
    "\n",
    "            new_path = path + [(action, state)]\n",
    "\n",
    "            if goal in state:\n",
    "                return new_path\n",
    "            else:\n",
    "                paths.append(new_path)\n",
    "\n",
    "            explored.add(state)\n",
    "    return []\n",
    "\n",
    "def get_solution(c1, c2, goal, start=(0, 0)):\n",
    "    solution = search_solution(c1, c2, goal, start)\n",
    "\n",
    "    for i, s in enumerate(solution):\n",
    "        print('step:{},{}'.format(i,s))\n",
    "\n",
    "if __name__ == '__main__':\n",
    "    get_solution(9, 4, 7)"
   ]
  },
  {
   "cell_type": "code",
   "execution_count": null,
   "metadata": {},
   "outputs": [],
   "source": []
  },
  {
   "cell_type": "code",
   "execution_count": null,
   "metadata": {},
   "outputs": [],
   "source": []
  }
 ],
 "metadata": {
  "kernelspec": {
   "display_name": "base",
   "language": "python",
   "name": "python3"
  },
  "language_info": {
   "codemirror_mode": {
    "name": "ipython",
    "version": 3
   },
   "file_extension": ".py",
   "mimetype": "text/x-python",
   "name": "python",
   "nbconvert_exporter": "python",
   "pygments_lexer": "ipython3",
   "version": "3.9.16"
  },
  "orig_nbformat": 4
 },
 "nbformat": 4,
 "nbformat_minor": 2
}
