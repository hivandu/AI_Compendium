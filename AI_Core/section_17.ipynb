{
 "cells": [
  {
   "cell_type": "markdown",
   "metadata": {},
   "source": [
    "# SECTION 17, Random Forest"
   ]
  },
  {
   "cell_type": "code",
   "execution_count": 1,
   "metadata": {},
   "outputs": [],
   "source": [
    "from sklearn.datasets import load_iris\n",
    "from sklearn.tree import DecisionTreeRegressor\n",
    "from sklearn.tree import DecisionTreeClassifier\n",
    "from sklearn.model_selection import train_test_split\n",
    "from sklearn.datasets import fetch_openml\n",
    "import numpy as np\n",
    "import pandas as pd\n",
    "from sklearn.metrics import r2_score"
   ]
  },
  {
   "cell_type": "code",
   "execution_count": 2,
   "metadata": {},
   "outputs": [],
   "source": [
    "iris = load_iris()"
   ]
  },
  {
   "cell_type": "code",
   "execution_count": 3,
   "metadata": {},
   "outputs": [],
   "source": [
    "x = iris.data\n",
    "y = iris.target"
   ]
  },
  {
   "cell_type": "code",
   "execution_count": 4,
   "metadata": {},
   "outputs": [
    {
     "name": "stdout",
     "output_type": "stream",
     "text": [
      "[[5.1 3.5 1.4 0.2]\n",
      " [4.9 3.  1.4 0.2]\n",
      " [4.7 3.2 1.3 0.2]\n",
      " [4.6 3.1 1.5 0.2]\n",
      " [5.  3.6 1.4 0.2]\n",
      " [5.4 3.9 1.7 0.4]\n",
      " [4.6 3.4 1.4 0.3]\n",
      " [5.  3.4 1.5 0.2]\n",
      " [4.4 2.9 1.4 0.2]\n",
      " [4.9 3.1 1.5 0.1]\n",
      " [5.4 3.7 1.5 0.2]\n",
      " [4.8 3.4 1.6 0.2]\n",
      " [4.8 3.  1.4 0.1]\n",
      " [4.3 3.  1.1 0.1]\n",
      " [5.8 4.  1.2 0.2]\n",
      " [5.7 4.4 1.5 0.4]\n",
      " [5.4 3.9 1.3 0.4]\n",
      " [5.1 3.5 1.4 0.3]\n",
      " [5.7 3.8 1.7 0.3]\n",
      " [5.1 3.8 1.5 0.3]\n",
      " [5.4 3.4 1.7 0.2]\n",
      " [5.1 3.7 1.5 0.4]\n",
      " [4.6 3.6 1.  0.2]\n",
      " [5.1 3.3 1.7 0.5]\n",
      " [4.8 3.4 1.9 0.2]\n",
      " [5.  3.  1.6 0.2]\n",
      " [5.  3.4 1.6 0.4]\n",
      " [5.2 3.5 1.5 0.2]\n",
      " [5.2 3.4 1.4 0.2]\n",
      " [4.7 3.2 1.6 0.2]\n",
      " [4.8 3.1 1.6 0.2]\n",
      " [5.4 3.4 1.5 0.4]\n",
      " [5.2 4.1 1.5 0.1]\n",
      " [5.5 4.2 1.4 0.2]\n",
      " [4.9 3.1 1.5 0.2]\n",
      " [5.  3.2 1.2 0.2]\n",
      " [5.5 3.5 1.3 0.2]\n",
      " [4.9 3.6 1.4 0.1]\n",
      " [4.4 3.  1.3 0.2]\n",
      " [5.1 3.4 1.5 0.2]\n",
      " [5.  3.5 1.3 0.3]\n",
      " [4.5 2.3 1.3 0.3]\n",
      " [4.4 3.2 1.3 0.2]\n",
      " [5.  3.5 1.6 0.6]\n",
      " [5.1 3.8 1.9 0.4]\n",
      " [4.8 3.  1.4 0.3]\n",
      " [5.1 3.8 1.6 0.2]\n",
      " [4.6 3.2 1.4 0.2]\n",
      " [5.3 3.7 1.5 0.2]\n",
      " [5.  3.3 1.4 0.2]\n",
      " [7.  3.2 4.7 1.4]\n",
      " [6.4 3.2 4.5 1.5]\n",
      " [6.9 3.1 4.9 1.5]\n",
      " [5.5 2.3 4.  1.3]\n",
      " [6.5 2.8 4.6 1.5]\n",
      " [5.7 2.8 4.5 1.3]\n",
      " [6.3 3.3 4.7 1.6]\n",
      " [4.9 2.4 3.3 1. ]\n",
      " [6.6 2.9 4.6 1.3]\n",
      " [5.2 2.7 3.9 1.4]\n",
      " [5.  2.  3.5 1. ]\n",
      " [5.9 3.  4.2 1.5]\n",
      " [6.  2.2 4.  1. ]\n",
      " [6.1 2.9 4.7 1.4]\n",
      " [5.6 2.9 3.6 1.3]\n",
      " [6.7 3.1 4.4 1.4]\n",
      " [5.6 3.  4.5 1.5]\n",
      " [5.8 2.7 4.1 1. ]\n",
      " [6.2 2.2 4.5 1.5]\n",
      " [5.6 2.5 3.9 1.1]\n",
      " [5.9 3.2 4.8 1.8]\n",
      " [6.1 2.8 4.  1.3]\n",
      " [6.3 2.5 4.9 1.5]\n",
      " [6.1 2.8 4.7 1.2]\n",
      " [6.4 2.9 4.3 1.3]\n",
      " [6.6 3.  4.4 1.4]\n",
      " [6.8 2.8 4.8 1.4]\n",
      " [6.7 3.  5.  1.7]\n",
      " [6.  2.9 4.5 1.5]\n",
      " [5.7 2.6 3.5 1. ]\n",
      " [5.5 2.4 3.8 1.1]\n",
      " [5.5 2.4 3.7 1. ]\n",
      " [5.8 2.7 3.9 1.2]\n",
      " [6.  2.7 5.1 1.6]\n",
      " [5.4 3.  4.5 1.5]\n",
      " [6.  3.4 4.5 1.6]\n",
      " [6.7 3.1 4.7 1.5]\n",
      " [6.3 2.3 4.4 1.3]\n",
      " [5.6 3.  4.1 1.3]\n",
      " [5.5 2.5 4.  1.3]\n",
      " [5.5 2.6 4.4 1.2]\n",
      " [6.1 3.  4.6 1.4]\n",
      " [5.8 2.6 4.  1.2]\n",
      " [5.  2.3 3.3 1. ]\n",
      " [5.6 2.7 4.2 1.3]\n",
      " [5.7 3.  4.2 1.2]\n",
      " [5.7 2.9 4.2 1.3]\n",
      " [6.2 2.9 4.3 1.3]\n",
      " [5.1 2.5 3.  1.1]\n",
      " [5.7 2.8 4.1 1.3]\n",
      " [6.3 3.3 6.  2.5]\n",
      " [5.8 2.7 5.1 1.9]\n",
      " [7.1 3.  5.9 2.1]\n",
      " [6.3 2.9 5.6 1.8]\n",
      " [6.5 3.  5.8 2.2]\n",
      " [7.6 3.  6.6 2.1]\n",
      " [4.9 2.5 4.5 1.7]\n",
      " [7.3 2.9 6.3 1.8]\n",
      " [6.7 2.5 5.8 1.8]\n",
      " [7.2 3.6 6.1 2.5]\n",
      " [6.5 3.2 5.1 2. ]\n",
      " [6.4 2.7 5.3 1.9]\n",
      " [6.8 3.  5.5 2.1]\n",
      " [5.7 2.5 5.  2. ]\n",
      " [5.8 2.8 5.1 2.4]\n",
      " [6.4 3.2 5.3 2.3]\n",
      " [6.5 3.  5.5 1.8]\n",
      " [7.7 3.8 6.7 2.2]\n",
      " [7.7 2.6 6.9 2.3]\n",
      " [6.  2.2 5.  1.5]\n",
      " [6.9 3.2 5.7 2.3]\n",
      " [5.6 2.8 4.9 2. ]\n",
      " [7.7 2.8 6.7 2. ]\n",
      " [6.3 2.7 4.9 1.8]\n",
      " [6.7 3.3 5.7 2.1]\n",
      " [7.2 3.2 6.  1.8]\n",
      " [6.2 2.8 4.8 1.8]\n",
      " [6.1 3.  4.9 1.8]\n",
      " [6.4 2.8 5.6 2.1]\n",
      " [7.2 3.  5.8 1.6]\n",
      " [7.4 2.8 6.1 1.9]\n",
      " [7.9 3.8 6.4 2. ]\n",
      " [6.4 2.8 5.6 2.2]\n",
      " [6.3 2.8 5.1 1.5]\n",
      " [6.1 2.6 5.6 1.4]\n",
      " [7.7 3.  6.1 2.3]\n",
      " [6.3 3.4 5.6 2.4]\n",
      " [6.4 3.1 5.5 1.8]\n",
      " [6.  3.  4.8 1.8]\n",
      " [6.9 3.1 5.4 2.1]\n",
      " [6.7 3.1 5.6 2.4]\n",
      " [6.9 3.1 5.1 2.3]\n",
      " [5.8 2.7 5.1 1.9]\n",
      " [6.8 3.2 5.9 2.3]\n",
      " [6.7 3.3 5.7 2.5]\n",
      " [6.7 3.  5.2 2.3]\n",
      " [6.3 2.5 5.  1.9]\n",
      " [6.5 3.  5.2 2. ]\n",
      " [6.2 3.4 5.4 2.3]\n",
      " [5.9 3.  5.1 1.8]] [0 0 0 0 0 0 0 0 0 0 0 0 0 0 0 0 0 0 0 0 0 0 0 0 0 0 0 0 0 0 0 0 0 0 0 0 0\n",
      " 0 0 0 0 0 0 0 0 0 0 0 0 0 1 1 1 1 1 1 1 1 1 1 1 1 1 1 1 1 1 1 1 1 1 1 1 1\n",
      " 1 1 1 1 1 1 1 1 1 1 1 1 1 1 1 1 1 1 1 1 1 1 1 1 1 1 2 2 2 2 2 2 2 2 2 2 2\n",
      " 2 2 2 2 2 2 2 2 2 2 2 2 2 2 2 2 2 2 2 2 2 2 2 2 2 2 2 2 2 2 2 2 2 2 2 2 2\n",
      " 2 2]\n"
     ]
    }
   ],
   "source": [
    "print(x, y)"
   ]
  },
  {
   "cell_type": "code",
   "execution_count": 5,
   "metadata": {},
   "outputs": [
    {
     "data": {
      "text/plain": [
       "array([0.        , 0.01333333, 0.06405596, 0.92261071])"
      ]
     },
     "execution_count": 5,
     "metadata": {},
     "output_type": "execute_result"
    }
   ],
   "source": [
    "tree_clf = DecisionTreeClassifier()\n",
    "tree_clf.fit(x, y)\n",
    "\n",
    "tree_clf.feature_importances_"
   ]
  },
  {
   "cell_type": "code",
   "execution_count": 6,
   "metadata": {},
   "outputs": [
    {
     "name": "stdout",
     "output_type": "stream",
     "text": [
      "1.0\n",
      "0.9777777777777777\n"
     ]
    }
   ],
   "source": [
    "train_x, test_x,train_y, test_y = train_test_split(x, y, test_size=0.3, random_state=0)\n",
    "\n",
    "tree_clf = DecisionTreeClassifier()\n",
    "tree_clf.fit(train_x, train_y)\n",
    "\n",
    "print(tree_clf.score(train_x, train_y))\n",
    "print(tree_clf.score(test_x, test_y))"
   ]
  },
  {
   "cell_type": "code",
   "execution_count": 7,
   "metadata": {},
   "outputs": [],
   "source": [
    "dataset = fetch_openml(name='boston', version=1, as_frame=True, return_X_y=False, parser='pandas')\n",
    "\n",
    "data = dataset['data']\n",
    "target = dataset['target']"
   ]
  },
  {
   "cell_type": "code",
   "execution_count": 8,
   "metadata": {},
   "outputs": [
    {
     "name": "stdout",
     "output_type": "stream",
     "text": [
      "whole dataset train acc: 1.0\n",
      "whole dataset test acc: 0.660933216856945\n"
     ]
    }
   ],
   "source": [
    "x_train, x_test, y_train, y_test = train_test_split(data, target, test_size=0.3, random_state=0)\n",
    "\n",
    "tree_reg = DecisionTreeRegressor()\n",
    "tree_reg.fit(x_train, y_train)\n",
    "\n",
    "print('whole dataset train acc: {}'.format(tree_reg.score(x_train, y_train)))\n",
    "print('whole dataset test acc: {}'.format(tree_reg.score(x_test, y_test)))"
   ]
  },
  {
   "cell_type": "code",
   "execution_count": 9,
   "metadata": {},
   "outputs": [],
   "source": [
    "def random_forest(x_train, y_train, x_test, y_test, drop_n=4):\n",
    "    features_random = np.random.choice(list(x_train.columns), size=len(x_train.columns)-drop_n)\n",
    "\n",
    "    x_sample = x_train[features_random]\n",
    "    y_sample = y_train\n",
    "\n",
    "    reg = DecisionTreeRegressor()\n",
    "    reg.fit(x_sample, y_sample)\n",
    "\n",
    "    score_train = reg.score(x_sample, y_sample)\n",
    "    score_test = reg.score(x_test[features_random], y_test)\n",
    "\n",
    "    print('sub sample :: train score: {}, test score: {}'.format(score_train, score_test))\n",
    "\n",
    "    y_predicated = reg.predict(x_test[features_random])\n",
    "\n",
    "    return y_predicated, score_test"
   ]
  },
  {
   "cell_type": "code",
   "execution_count": 10,
   "metadata": {},
   "outputs": [
    {
     "name": "stdout",
     "output_type": "stream",
     "text": [
      "sub sample :: train score: 1.0, test score: 0.5515375920300917\n"
     ]
    },
    {
     "data": {
      "text/plain": [
       "(array([24.8, 50. , 23.2, 12.5, 22.5, 23.1, 19.4, 22. , 15.3, 16.1, 10.5,\n",
       "        17.9, 17.1,  8.8, 50. , 34.9, 18.2, 34.6, 32.5, 22.1, 25. , 23.8,\n",
       "        20.1, 25. , 17.6, 15.3, 18.4, 13.1, 43.8, 21.4, 10.9, 13.4, 22.2,\n",
       "        22.2, 23.9, 18.4,  8.3, 50. , 10.9, 17.9, 23.4, 21.1, 23.9, 11.7,\n",
       "        24.4, 23.9, 16.6, 17.4, 14.6, 21. , 17.4, 17.5, 20.6, 21.9, 17.8,\n",
       "        18.9, 17.6, 18.5, 50. , 22.5, 21.2, 20.8, 35.1, 32.4, 11.7, 29.1,\n",
       "        16.4, 18.9, 14.1, 21.7, 20.8, 23.9, 23.7, 23.6, 26.5,  8.8, 41.7,\n",
       "        22.2, 22. , 19.9, 23.9, 14.3, 50. , 37.6, 48.8, 23.1, 20.6, 11.7,\n",
       "        25. , 12.7, 16.6, 11.8, 23.4, 37. , 36.2, 20.6, 11.9, 23.1, 16.4,\n",
       "        19.7, 24.5, 16.1, 30.7, 21.7, 37. , 21.1,  8.5, 15.3, 36.2, 22.9,\n",
       "        23.6, 17.9, 18.9, 18.8, 18.9, 22.4,  9.5, 23.1, 10.2, 48.5, 28.6,\n",
       "         8.8, 16.6, 19.4, 18.9, 18.8, 36.1, 16.6, 20.6, 36.1, 12.5,  9.5,\n",
       "        20.5, 18.4, 15. , 36.1, 18.2, 15.6, 24.5,  8.3, 10.2, 19.4, 23.6,\n",
       "        23.7, 25. , 14.8, 37.3, 37.9, 11.5,  8.8, 32.4, 23.7]),\n",
       " 0.5515375920300917)"
      ]
     },
     "execution_count": 10,
     "metadata": {},
     "output_type": "execute_result"
    }
   ],
   "source": [
    "random_forest(x_train, y_train, x_test, y_test, 4)"
   ]
  },
  {
   "cell_type": "code",
   "execution_count": 11,
   "metadata": {},
   "outputs": [],
   "source": [
    "with_feature_names = pd.DataFrame(data)\n",
    "with_feature_names.columns = dataset['feature_names']"
   ]
  },
  {
   "cell_type": "code",
   "execution_count": 12,
   "metadata": {},
   "outputs": [],
   "source": [
    "x_train, x_test, y_train, y_test = train_test_split(with_feature_names, target, test_size=0.3, random_state=0)"
   ]
  },
  {
   "cell_type": "code",
   "execution_count": 13,
   "metadata": {},
   "outputs": [
    {
     "name": "stdout",
     "output_type": "stream",
     "text": [
      "sub sample :: train score: 1.0, test score: 0.6157424851248163\n"
     ]
    },
    {
     "data": {
      "text/plain": [
       "(array([22.2, 50. , 24.6, 12.7, 25.2, 23.1, 18.5, 19. , 19.7, 21.7, 10.9,\n",
       "        14. , 17.1,  8.8, 48.5, 30.3, 19.6, 34.6, 32.5, 24.7, 24.2, 23.8,\n",
       "        19.3, 23.1, 16.2, 14.4, 13.2, 19.6, 37.6, 22.1, 21.4, 14.1, 25.2,\n",
       "        19.4, 22.3, 17.8,  7.2, 13.8, 16.1, 21.4, 20.5, 19.3, 36.2, 16.3,\n",
       "        23.1, 23.1, 20.3, 21.5, 14.6, 21.7, 21.5, 23.7, 24.7, 35.2, 16.2,\n",
       "        17.8, 17.4, 17.5, 20.8, 22.4, 26.4, 22.1, 34.9, 27.1, 20.8, 27.1,\n",
       "        14.9, 23.1, 50. , 22.5, 23.4, 23.4, 22. , 23.6, 26.5, 10.2, 41.7,\n",
       "        23.4, 22. , 19.8, 30.8, 18. , 13.8, 37.6, 37.6, 23.1, 25.3, 20.6,\n",
       "        21.5, 13.8, 23.1, 15.4, 20.9, 30.3, 18.4, 20.5, 11.9, 22.5, 14.9,\n",
       "        16. , 23.4, 20.1, 30.7, 20.9, 37. , 18.9, 10.2, 13.5, 18.4, 23.1,\n",
       "        30.7, 13.6, 25.3, 18.3, 17.4, 22.4, 12.8, 19.2, 11.5, 50. , 28.6,\n",
       "        11.3, 17.4, 21.8, 19.4, 21.4, 33.2, 17.6, 16. , 33.2, 12.5, 10.9,\n",
       "        20.1, 23.8, 10.4, 34.6, 24.7, 15.6, 28. , 10.9, 10.9, 21.8, 30.7,\n",
       "        23.1, 23.4, 23.1, 37.9, 37.3,  9.5,  8.8, 30.1, 24.5]),\n",
       " 0.6157424851248163)"
      ]
     },
     "execution_count": 13,
     "metadata": {},
     "output_type": "execute_result"
    }
   ],
   "source": [
    "random_forest(x_train, y_train, x_test, y_test, 4)"
   ]
  },
  {
   "cell_type": "code",
   "execution_count": 14,
   "metadata": {},
   "outputs": [
    {
     "name": "stdout",
     "output_type": "stream",
     "text": [
      "sub sample :: train score: 1.0, test score: 0.3698589197028964\n",
      "sub sample :: train score: 1.0, test score: 0.7534922422873487\n",
      "sub sample :: train score: 1.0, test score: 0.65015128268059\n",
      "sub sample :: train score: 1.0, test score: 0.6748400630710755\n",
      "the mean result is: 21.730756578947368\n",
      "the score of forest is: 0.747496983975937\n"
     ]
    }
   ],
   "source": [
    "tree_num = 4\n",
    "predicates = []\n",
    "for _ in range(tree_num):\n",
    "    predicated, score = random_forest(x_train, y_train, x_test, y_test)\n",
    "    predicates.append((predicated, score))\n",
    "\n",
    "predicates_value = [v for v, s in predicates]\n",
    "forest_scores = [s for v, s in predicates]\n",
    "\n",
    "print('the mean result is: {}'.format(np.mean(predicates_value), axis=0))\n",
    "print('the score of forest is: {}'.format(r2_score(y_test, np.mean(predicates_value, axis=0))))\n"
   ]
  },
  {
   "cell_type": "code",
   "execution_count": 15,
   "metadata": {},
   "outputs": [
    {
     "name": "stdout",
     "output_type": "stream",
     "text": [
      "the score of weighted forest is: 0.7699765952132285\n"
     ]
    }
   ],
   "source": [
    "weights = np.array(forest_scores) / np.sum(forest_scores)\n",
    "score_weights = np.zeros_like(np.mean(predicates_value, axis=0))\n",
    "\n",
    "for i, v in enumerate(predicates_value):\n",
    "    score_weights += v * weights[i]\n",
    "\n",
    "print('the score of weighted forest is: {}'.format(r2_score(y_test, score_weights)))"
   ]
  },
  {
   "cell_type": "code",
   "execution_count": null,
   "metadata": {},
   "outputs": [],
   "source": []
  }
 ],
 "metadata": {
  "kernelspec": {
   "display_name": "tf",
   "language": "python",
   "name": "python3"
  },
  "language_info": {
   "codemirror_mode": {
    "name": "ipython",
    "version": 3
   },
   "file_extension": ".py",
   "mimetype": "text/x-python",
   "name": "python",
   "nbconvert_exporter": "python",
   "pygments_lexer": "ipython3",
   "version": "3.9.16"
  }
 },
 "nbformat": 4,
 "nbformat_minor": 2
}
