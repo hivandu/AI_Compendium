{
 "cells": [
  {
   "cell_type": "markdown",
   "metadata": {},
   "source": [
    "# SECTION 20, Exception management"
   ]
  },
  {
   "cell_type": "code",
   "execution_count": 1,
   "metadata": {},
   "outputs": [
    {
     "ename": "IndexError",
     "evalue": "list index out of range",
     "output_type": "error",
     "traceback": [
      "\u001b[0;31m---------------------------------------------------------------------------\u001b[0m",
      "\u001b[0;31mIndexError\u001b[0m                                Traceback (most recent call last)",
      "Cell \u001b[0;32mIn[1], line 2\u001b[0m\n\u001b[1;32m      1\u001b[0m varlist \u001b[38;5;241m=\u001b[39m [\u001b[38;5;241m1\u001b[39m, \u001b[38;5;241m2\u001b[39m, \u001b[38;5;241m3\u001b[39m]\n\u001b[0;32m----> 2\u001b[0m \u001b[38;5;28mprint\u001b[39m(\u001b[43mvarlist\u001b[49m\u001b[43m[\u001b[49m\u001b[38;5;241;43m3\u001b[39;49m\u001b[43m]\u001b[49m)\n",
      "\u001b[0;31mIndexError\u001b[0m: list index out of range"
     ]
    }
   ],
   "source": [
    "varlist = [1, 2, 3]\n",
    "print(varlist[3])"
   ]
  },
  {
   "cell_type": "code",
   "execution_count": 2,
   "metadata": {},
   "outputs": [
    {
     "name": "stdout",
     "output_type": "stream",
     "text": [
      "Non-integer.\n"
     ]
    }
   ],
   "source": [
    "n2 = '3'\n",
    "if isinstance(n2, int):\n",
    "    res = 10+n2\n",
    "    print(res)\n",
    "else:\n",
    "    print('Non-integer.')"
   ]
  },
  {
   "cell_type": "code",
   "execution_count": null,
   "metadata": {},
   "outputs": [],
   "source": [
    "try:\n",
    "    Code for possible exception errors\n",
    "except:\n",
    "    If an exception occurs this goes to the except block for handling.\n",
    "\n",
    "After the exception is caught, the program continues down the line."
   ]
  },
  {
   "cell_type": "code",
   "execution_count": 5,
   "metadata": {},
   "outputs": [
    {
     "name": "stdout",
     "output_type": "stream",
     "text": [
      "File does not exist.\n",
      "Program continues to run...\n"
     ]
    }
   ],
   "source": [
    "# Assuming the file we're reading doesn't exist, an error occurs\n",
    "try:\n",
    "    with open('. /data/user5.txt', 'r') as fp:\n",
    "        res = fp.read()\n",
    "    print(res)\n",
    "except:\n",
    "    print('File does not exist.')\n",
    "\n",
    "print('Program continues to run...')"
   ]
  },
  {
   "cell_type": "code",
   "execution_count": 6,
   "metadata": {},
   "outputs": [
    {
     "ename": "ValueError",
     "evalue": "invalid literal for int() with base 10: 'hello'",
     "output_type": "error",
     "traceback": [
      "\u001b[0;31m---------------------------------------------------------------------------\u001b[0m",
      "\u001b[0;31mValueError\u001b[0m                                Traceback (most recent call last)",
      "Cell \u001b[0;32mIn[6], line 2\u001b[0m\n\u001b[1;32m      1\u001b[0m s1 \u001b[38;5;241m=\u001b[39m \u001b[38;5;124m'\u001b[39m\u001b[38;5;124mhello\u001b[39m\u001b[38;5;124m'\u001b[39m\n\u001b[0;32m----> 2\u001b[0m \u001b[38;5;28;43mint\u001b[39;49m\u001b[43m(\u001b[49m\u001b[43ms1\u001b[49m\u001b[43m)\u001b[49m\n",
      "\u001b[0;31mValueError\u001b[0m: invalid literal for int() with base 10: 'hello'"
     ]
    }
   ],
   "source": [
    "s1 = 'hello'\n",
    "int(s1)"
   ]
  },
  {
   "cell_type": "code",
   "execution_count": 22,
   "metadata": {},
   "outputs": [
    {
     "ename": "ValueError",
     "evalue": "invalid literal for int() with base 10: 'hello'",
     "output_type": "error",
     "traceback": [
      "\u001b[0;31m---------------------------------------------------------------------------\u001b[0m",
      "\u001b[0;31mValueError\u001b[0m                                Traceback (most recent call last)",
      "Cell \u001b[0;32mIn[22], line 3\u001b[0m\n\u001b[1;32m      1\u001b[0m \u001b[38;5;28;01mtry\u001b[39;00m:\n\u001b[1;32m      2\u001b[0m     s1 \u001b[38;5;241m=\u001b[39m \u001b[38;5;124m'\u001b[39m\u001b[38;5;124mhello\u001b[39m\u001b[38;5;124m'\u001b[39m\n\u001b[0;32m----> 3\u001b[0m     \u001b[38;5;28;43mint\u001b[39;49m\u001b[43m(\u001b[49m\u001b[43ms1\u001b[49m\u001b[43m)\u001b[49m\n\u001b[1;32m      4\u001b[0m \u001b[38;5;28;01mexcept\u001b[39;00m \u001b[38;5;167;01mIndexError\u001b[39;00m \u001b[38;5;28;01mas\u001b[39;00m e:\n\u001b[1;32m      5\u001b[0m     \u001b[38;5;28mprint\u001b[39m(\u001b[38;5;124m'\u001b[39m\u001b[38;5;124merror.\u001b[39m\u001b[38;5;124m'\u001b[39m)\n",
      "\u001b[0;31mValueError\u001b[0m: invalid literal for int() with base 10: 'hello'"
     ]
    }
   ],
   "source": [
    "try:\n",
    "    s1 = 'hello'\n",
    "    int(s1)\n",
    "except IndexError as e:\n",
    "    print('error.')"
   ]
  },
  {
   "cell_type": "code",
   "execution_count": 23,
   "metadata": {},
   "outputs": [
    {
     "name": "stdout",
     "output_type": "stream",
     "text": [
      "IndexError string index out of range\n"
     ]
    }
   ],
   "source": [
    "s1 = 'hello'\n",
    "try:\n",
    "    s1[5] # IndexError\n",
    "except IndexError as e:\n",
    "    print('IndexError', e)\n",
    "except KeyError as e:\n",
    "    print('KeyError', e)\n",
    "except ValueError as e:\n",
    "    print('ValueError', e)"
   ]
  },
  {
   "cell_type": "code",
   "execution_count": 14,
   "metadata": {},
   "outputs": [
    {
     "name": "stdout",
     "output_type": "stream",
     "text": [
      "Exception === invalid literal for int() with base 10: 'world'\n"
     ]
    }
   ],
   "source": [
    "s1 = 'world'\n",
    "try:\n",
    "    int(s1)\n",
    "except Exception as e:\n",
    "    print('Exception ===',e)\n",
    "except ValueError as e:\n",
    "    print('ValueError ===', e)"
   ]
  },
  {
   "cell_type": "code",
   "execution_count": 15,
   "metadata": {},
   "outputs": [
    {
     "name": "stdout",
     "output_type": "stream",
     "text": [
      "IndexError string index out of range\n"
     ]
    }
   ],
   "source": [
    "s1 = 'hello'\n",
    "try:\n",
    "    # int(s1) # ValueError\n",
    "    s1[5]    # IndexError\n",
    "except IndexError as e:\n",
    "    print('IndexError',e)\n",
    "except KeyError as e:\n",
    "    print('KeyError',e)\n",
    "except ValueError as e:\n",
    "    print('ValueError',e)\n",
    "except Exception as e:\n",
    "    print('Exception',e)"
   ]
  },
  {
   "cell_type": "code",
   "execution_count": 9,
   "metadata": {},
   "outputs": [
    {
     "name": "stdout",
     "output_type": "stream",
     "text": [
      "hello\n",
      "the code no error，run this...\n"
     ]
    }
   ],
   "source": [
    "s1 = 'hello'\n",
    "try:\n",
    "    str(s1)\n",
    "    print(s1)\n",
    "except IndexError as e:\n",
    "    print('IndexError',e)\n",
    "except ValueError as e:\n",
    "    print('ValueError',e)\n",
    "except Exception as e:\n",
    "    print('Exception',e)\n",
    "else:\n",
    "    print('the code no error，run this...')"
   ]
  },
  {
   "cell_type": "code",
   "execution_count": 10,
   "metadata": {},
   "outputs": [
    {
     "name": "stdout",
     "output_type": "stream",
     "text": [
      "ValueError invalid literal for int() with base 10: 'hello'\n",
      "This block will execute regardless of whether an exception was raised or not.\n",
      "If the above code had an exception and it was handled, the following code will continue executing.\n"
     ]
    }
   ],
   "source": [
    "s1 = 'hello'\n",
    "try:\n",
    "    int(s1)\n",
    "    print('If the above code raises an exception, this block will not continue executing.')\n",
    "except IndexError as e:\n",
    "    print('IndexError', e)\n",
    "except ValueError as e:\n",
    "    print('ValueError', e)\n",
    "except Exception as e:\n",
    "    print('Exception', e)\n",
    "else:\n",
    "    print('Executed when no exception is raised in the try block.')\n",
    "finally:\n",
    "    print('This block will execute regardless of whether an exception was raised or not.')\n",
    "\n",
    "print('If the above code had an exception and it was handled, the following code will continue executing.')"
   ]
  },
  {
   "cell_type": "code",
   "execution_count": 11,
   "metadata": {},
   "outputs": [
    {
     "name": "stdout",
     "output_type": "stream",
     "text": [
      "Exception error\n"
     ]
    }
   ],
   "source": [
    "try:\n",
    "    raise Exception('error')\n",
    "except Exception as e:\n",
    "    print('Exception', e)"
   ]
  },
  {
   "cell_type": "code",
   "execution_count": 12,
   "metadata": {},
   "outputs": [
    {
     "ename": "AssertionError",
     "evalue": "",
     "output_type": "error",
     "traceback": [
      "\u001b[0;31m---------------------------------------------------------------------------\u001b[0m",
      "\u001b[0;31mAssertionError\u001b[0m                            Traceback (most recent call last)",
      "Cell \u001b[0;32mIn[12], line 1\u001b[0m\n\u001b[0;32m----> 1\u001b[0m \u001b[38;5;28;01massert\u001b[39;00m \u001b[38;5;241m2\u001b[39m \u001b[38;5;241m>\u001b[39m \u001b[38;5;241m3\u001b[39m\n",
      "\u001b[0;31mAssertionError\u001b[0m: "
     ]
    }
   ],
   "source": [
    "assert 2 > 3"
   ]
  },
  {
   "cell_type": "code",
   "execution_count": 27,
   "metadata": {},
   "outputs": [],
   "source": [
    "assert 3 > 2"
   ]
  },
  {
   "cell_type": "markdown",
   "metadata": {},
   "source": [
    "## Custom exception handling"
   ]
  },
  {
   "cell_type": "code",
   "execution_count": 14,
   "metadata": {},
   "outputs": [],
   "source": [
    "# import package\n",
    "import traceback\n",
    "import logging"
   ]
  },
  {
   "cell_type": "code",
   "execution_count": 33,
   "metadata": {},
   "outputs": [
    {
     "name": "stdout",
     "output_type": "stream",
     "text": [
      "Traceback (most recent call last):\n",
      "  File \"/var/folders/h4/7cr1cmpn7v5b3x20_9wz8m740000gn/T/ipykernel_39689/2534911191.py\", line 2, in <module>\n",
      "    int('aaa')\n",
      "ValueError: invalid literal for int() with base 10: 'aaa'\n",
      "\n"
     ]
    }
   ],
   "source": [
    "try:\n",
    "    int('aaa')\n",
    "except:\n",
    "    # Retrieve exception information using `traceback`\n",
    "    errormsg = traceback.format_exc()\n",
    "    print(errormsg)"
   ]
  },
  {
   "cell_type": "code",
   "execution_count": 15,
   "metadata": {},
   "outputs": [],
   "source": [
    "# Basic configuration for logging\n",
    "logging.basicConfig(\n",
    "    filename = './data/error.log', # File and directory for storing logs\n",
    "    format='%(asctime)s %(levelname)s \\n %(message)s', # Format for storing logs\n",
    "    datefmt = '%Y-%m-%d %H:%M:%S'\n",
    ")\n",
    "\n",
    "# Write to log\n",
    "logging.error(traceback.format_exc())"
   ]
  },
  {
   "cell_type": "code",
   "execution_count": 16,
   "metadata": {},
   "outputs": [
    {
     "name": "stdout",
     "output_type": "stream",
     "text": [
      "Handling the exception here\n"
     ]
    }
   ],
   "source": [
    "def Myexception():\n",
    "    # Basic configuration for logging\n",
    "    logging.basicConfig(\n",
    "        filename = './data/error.log', # File and directory for storing logs\n",
    "        format='%(asctime)s %(levelname)s \\n %(message)s', # Format for storing logs\n",
    "        datefmt = '%Y-%m-%d %H:%M:%S'\n",
    "    )\n",
    "\n",
    "    # Write to log\n",
    "    logging.error(traceback.format_exc())\n",
    "\n",
    "# Using a custom exception handling class\n",
    "try:\n",
    "    int('bb')\n",
    "except:\n",
    "    print('Handling the exception here')\n",
    "    Myexception() # Call the custom exception handling class in the exception handling block"
   ]
  },
  {
   "cell_type": "markdown",
   "metadata": {},
   "source": []
  }
 ],
 "metadata": {
  "kernelspec": {
   "display_name": "base",
   "language": "python",
   "name": "python3"
  },
  "language_info": {
   "codemirror_mode": {
    "name": "ipython",
    "version": 3
   },
   "file_extension": ".py",
   "mimetype": "text/x-python",
   "name": "python",
   "nbconvert_exporter": "python",
   "pygments_lexer": "ipython3",
   "version": "3.9.16"
  },
  "orig_nbformat": 4
 },
 "nbformat": 4,
 "nbformat_minor": 2
}
