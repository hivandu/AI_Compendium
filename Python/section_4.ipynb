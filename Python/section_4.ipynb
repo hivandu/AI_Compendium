{
 "cells": [
  {
   "cell_type": "markdown",
   "metadata": {},
   "source": [
    "# SECTION 4, Flow control in Python"
   ]
  },
  {
   "cell_type": "code",
   "execution_count": 3,
   "metadata": {},
   "outputs": [
    {
     "name": "stdout",
     "output_type": "stream",
     "text": [
      "True\n"
     ]
    }
   ],
   "source": [
    "# Single-line code\n",
    "a = 123\n",
    "\n",
    "# Code blocks\n",
    "if a == 123:\n",
    "    print('True')\n",
    "else:\n",
    "    print('False')"
   ]
  },
  {
   "cell_type": "code",
   "execution_count": 4,
   "metadata": {},
   "outputs": [
    {
     "name": "stdout",
     "output_type": "stream",
     "text": [
      "True\n"
     ]
    }
   ],
   "source": [
    "a = True\n",
    "if a:\n",
    "    print(\"True\")"
   ]
  },
  {
   "cell_type": "code",
   "execution_count": 7,
   "metadata": {},
   "outputs": [
    {
     "name": "stdout",
     "output_type": "stream",
     "text": [
      "Buy 10 buns\n"
     ]
    }
   ],
   "source": [
    "buns = 10\n",
    "mxg = False\n",
    "if mxg:\n",
    "  buns = 1\n",
    "\n",
    "print(\"Buy %s buns\" %(buns))"
   ]
  },
  {
   "cell_type": "code",
   "execution_count": 9,
   "metadata": {},
   "outputs": [
    {
     "name": "stdout",
     "output_type": "stream",
     "text": [
      "Buy 1 buns\n"
     ]
    }
   ],
   "source": [
    "buns = 10\n",
    "mxg = False\n",
    "\n",
    "# Walked down the road and saw a watermelon seller, re-assign the value\n",
    "mxg = True\n",
    "\n",
    "if mxg:\n",
    "  buns = 1\n",
    "  \n",
    "print(\"Buy %s buns\" %(buns))"
   ]
  },
  {
   "cell_type": "code",
   "execution_count": 10,
   "metadata": {},
   "outputs": [
    {
     "name": "stdout",
     "output_type": "stream",
     "text": [
      "Going up to the person: pretty girl, can you add a wechat?\n"
     ]
    }
   ],
   "source": [
    "person = 'girl'\n",
    "if person == 'girl':\n",
    "    print(\"Going up to the person: pretty girl, can you add a wechat?\")\n",
    "else:\n",
    "    print(\"Just walk away.\")"
   ]
  },
  {
   "cell_type": "code",
   "execution_count": 12,
   "metadata": {},
   "outputs": [
    {
     "name": "stdout",
     "output_type": "stream",
     "text": [
      "Rewarded with a beating.\n"
     ]
    }
   ],
   "source": [
    "score = 59\n",
    "if score >= 90 and score <= 100:\n",
    "    print(\"Award a cell phone\")\n",
    "elif score >= 80 and score < 90:\n",
    "    print(\"Reward yourself with a nice meal tonight\")\n",
    "elif score >= 70 and score < 80:\n",
    "    print(\"Encouragement: try harder next time.\")\n",
    "elif score >= 60 and score < 70:\n",
    "    print(\"Keep an eye on your revision and try to improve next time.\")\n",
    "else:\n",
    "    print(\"Rewarded with a beating.\")"
   ]
  },
  {
   "cell_type": "code",
   "execution_count": null,
   "metadata": {},
   "outputs": [],
   "source": [
    "age = 25\n",
    "height = 177\n",
    "sex = 'male'\n",
    "\n",
    "if sex == 'male':\n",
    "    # can be judged backwards\n",
    "    if age >= 22 and age <= 35:\n",
    "        # The age is more appropriate\n",
    "        if height >= 175:\n",
    "            print(\"Try it on...\")\n",
    "    else:\n",
    "        print(\"Forget it...\")\n",
    "else:\n",
    "    print('Be a BFF.')"
   ]
  },
  {
   "cell_type": "markdown",
   "metadata": {},
   "source": [
    "## Exercise: Zodiac\n",
    "Chinese Zodiac\n",
    "Let the user enter a four-digit year to calculate the Chinese Zodiac year that corresponds to the current year.\n",
    "\n",
    "```\n",
    "申猴（Monkey）| 酉鸡（Rooster）| 戌狗（Dog）| 亥猪（Boar）| 子鼠（Rat）| 丑牛（Ox）| 寅虎（Tiger）| 卯兔（Hare）| 辰龙（Loong）| 巳蛇（Snake）| 午马（Horse）| 未羊（Sheep）\n",
    "\n",
    " 0 | 1 | 2 | 3 | 4 | 5 | 6 | 7 | 8 | 9 | 10 | 11\n",
    "```\n",
    "\n",
    " 2000 ==> 辰龙（Loong）\n",
    "\n",
    " 2019 ==> 亥猪（Boar）"
   ]
  },
  {
   "cell_type": "code",
   "execution_count": 13,
   "metadata": {},
   "outputs": [
    {
     "name": "stdout",
     "output_type": "stream",
     "text": [
      "2024 <class 'int'>\n"
     ]
    }
   ],
   "source": [
    "# Get the year entered by the user\n",
    "year = int(input(\"Please enter a four-digit year: \"))\n",
    "print(year, type(year))"
   ]
  },
  {
   "cell_type": "code",
   "execution_count": 14,
   "metadata": {},
   "outputs": [
    {
     "name": "stdout",
     "output_type": "stream",
     "text": [
      "2024 year is ==> Loong\n"
     ]
    }
   ],
   "source": [
    "# Get the year entered by the user\n",
    "year = int(input(\"Please enter a four-digit year: \"))\n",
    "\n",
    "#print(year%12)\n",
    "num = year % 12\n",
    "\n",
    "\"\"\"\n",
    "申猴（Monkey）| 酉鸡（Rooster）| 戌狗（Dog）| 亥猪（Boar）| 子鼠（Rat）| 丑牛（Ox）| 寅虎（Tiger）| 卯兔（Hare）| 辰龙（Loong）| 巳蛇（Snake）| 午马（Horse）| 未羊（Sheep）\n",
    "\"\"\"\n",
    "\n",
    "if num == 0:\n",
    "    print(f'{year} year is ==> Monkey')\n",
    "elif num == 1:\n",
    "    print(f'{year} year is ==> Rooste')\n",
    "elif num == 2:\n",
    "    print(f'{year} year is ==> Dog')\n",
    "elif num == 3:\n",
    "    print(f'{year} year is ==> Boar')\n",
    "elif num == 4:\n",
    "    print(f'{year} year is ==> Rat')\n",
    "elif num == 5:\n",
    "    print(f'{year} year is ==> Ox')\n",
    "elif num == 6:\n",
    "    print(f'{year} year is ==> Tiger')\n",
    "elif num == 7:\n",
    "    print(f'{year} year is ==> Hare')\n",
    "elif num == 8:\n",
    "    print(f'{year} year is ==> Loong')\n",
    "elif num == 9:\n",
    "    print(f'{year} year is ==> Snake')\n",
    "elif num == 10:\n",
    "    print(f'{year} year is ==> Horse')\n",
    "elif num == 11:\n",
    "    print(f'{year} year is ==> Sheep')\n",
    "else:\n",
    "    print(\"You entered a normal year for\")"
   ]
  },
  {
   "cell_type": "code",
   "execution_count": 15,
   "metadata": {},
   "outputs": [
    {
     "name": "stdout",
     "output_type": "stream",
     "text": [
      "2024 year is Loong\n"
     ]
    }
   ],
   "source": [
    "# Get the year entered by the user\n",
    "year = int(input(\"Please enter a four-digit year: \"))\n",
    "\n",
    "# Define Zodiac Signs List\n",
    "items = ['Monkey', 'Rooster', 'Dog', 'Boar', 'Rat', 'Ox', 'Tiger', 'Hare', 'Loong', 'Snake', 'Horse', 'Sheep']\n",
    "print(f'{year} year is %s' %(items[year % 12]))"
   ]
  },
  {
   "cell_type": "code",
   "execution_count": 16,
   "metadata": {},
   "outputs": [
    {
     "name": "stdout",
     "output_type": "stream",
     "text": [
      "num is 1\n",
      "num is 2\n",
      "num is 3\n",
      "num is 4\n",
      "num is 5\n",
      "num is 6\n",
      "num is 7\n",
      "num is 8\n",
      "num is 9\n",
      "num is 10\n"
     ]
    }
   ],
   "source": [
    "num = 1\n",
    "while num <=10:\n",
    "    print(f'num is {num}')\n",
    "    num += 1"
   ]
  },
  {
   "cell_type": "code",
   "execution_count": 17,
   "metadata": {},
   "outputs": [
    {
     "name": "stdout",
     "output_type": "stream",
     "text": [
      "1\n",
      "2\n",
      "3\n",
      "4\n",
      "5\n",
      "6\n",
      "7\n",
      "8\n",
      "9\n"
     ]
    }
   ],
   "source": [
    "n = '123456789'\n",
    "for i in n:\n",
    "    print(i)"
   ]
  },
  {
   "cell_type": "code",
   "execution_count": 18,
   "metadata": {},
   "outputs": [
    {
     "name": "stdout",
     "output_type": "stream",
     "text": [
      "1\n",
      "2\n",
      "3\n",
      "4\n",
      "5\n",
      "6\n",
      "7\n"
     ]
    }
   ],
   "source": [
    "for i in range(1, 8):\n",
    "    print(i)"
   ]
  },
  {
   "cell_type": "code",
   "execution_count": 19,
   "metadata": {},
   "outputs": [
    {
     "name": "stdout",
     "output_type": "stream",
     "text": [
      "3\n",
      "5\n"
     ]
    }
   ],
   "source": [
    "num = 1\n",
    "while num <= 10:\n",
    "    num += 1\n",
    "    # Determine if the current num is even\n",
    "    if num % 2 == 0:\n",
    "        continue # Skip this loop and run the next one.\n",
    "    if num == 7:\n",
    "        break # Jumps out and ends the loop.\n",
    "    print(num)\n",
    "    "
   ]
  },
  {
   "cell_type": "code",
   "execution_count": 20,
   "metadata": {},
   "outputs": [
    {
     "name": "stdout",
     "output_type": "stream",
     "text": [
      "☆ ☆ ☆ ☆ ☆ ☆ ☆ ☆ ☆ ☆ \n",
      "\n",
      "☆ ☆ ☆ ☆ ☆ ☆ ☆ ☆ ☆ ☆ \n",
      "\n",
      "☆ ☆ ☆ ☆ ☆ ☆ ☆ ☆ ☆ ☆ \n",
      "\n",
      "☆ ☆ ☆ ☆ ☆ ☆ ☆ ☆ ☆ ☆ \n",
      "\n",
      "☆ ☆ ☆ ☆ ☆ ☆ ☆ ☆ ☆ ☆ \n",
      "\n",
      "☆ ☆ ☆ ☆ ☆ ☆ ☆ ☆ ☆ ☆ \n",
      "\n",
      "☆ ☆ ☆ ☆ ☆ ☆ ☆ ☆ ☆ ☆ \n",
      "\n",
      "☆ ☆ ☆ ☆ ☆ ☆ ☆ ☆ ☆ ☆ \n",
      "\n",
      "☆ ☆ ☆ ☆ ☆ ☆ ☆ ☆ ☆ ☆ \n",
      "\n",
      "☆ ☆ ☆ ☆ ☆ ☆ ☆ ☆ ☆ ☆ \n",
      "\n"
     ]
    }
   ],
   "source": [
    "num = 0\n",
    "while num < 100:\n",
    "    print('☆', end = \" \")\n",
    "    # Determine if line breaks are needed\n",
    "    if num % 10 == 9:\n",
    "        print('\\n')\n",
    "    num += 1"
   ]
  },
  {
   "cell_type": "markdown",
   "metadata": {},
   "source": [
    "### Column breaks"
   ]
  },
  {
   "cell_type": "code",
   "execution_count": 21,
   "metadata": {},
   "outputs": [
    {
     "name": "stdout",
     "output_type": "stream",
     "text": [
      "☆ ★ ☆ ★ ☆ ★ ☆ ★ ☆ ★ \n",
      "\n",
      "☆ ★ ☆ ★ ☆ ★ ☆ ★ ☆ ★ \n",
      "\n",
      "☆ ★ ☆ ★ ☆ ★ ☆ ★ ☆ ★ \n",
      "\n",
      "☆ ★ ☆ ★ ☆ ★ ☆ ★ ☆ ★ \n",
      "\n",
      "☆ ★ ☆ ★ ☆ ★ ☆ ★ ☆ ★ \n",
      "\n",
      "☆ ★ ☆ ★ ☆ ★ ☆ ★ ☆ ★ \n",
      "\n",
      "☆ ★ ☆ ★ ☆ ★ ☆ ★ ☆ ★ \n",
      "\n",
      "☆ ★ ☆ ★ ☆ ★ ☆ ★ ☆ ★ \n",
      "\n",
      "☆ ★ ☆ ★ ☆ ★ ☆ ★ ☆ ★ \n",
      "\n",
      "☆ ★ ☆ ★ ☆ ★ ☆ ★ ☆ ★ \n",
      "\n"
     ]
    }
   ],
   "source": [
    "# Colors in columns\n",
    "num = 0\n",
    "while num < 100:\n",
    "    # Determine if the current number is base or even\n",
    "    if num % 2 == 0:\n",
    "        print('☆', end = \" \")\n",
    "    else:\n",
    "        print('★', end = \" \")\n",
    "    # Determine if a newline is needed\n",
    "    if num % 10 == 9:\n",
    "        print('\\n')\n",
    "    num += 1"
   ]
  },
  {
   "cell_type": "markdown",
   "metadata": {},
   "source": [
    "### Interlaced color changes"
   ]
  },
  {
   "cell_type": "code",
   "execution_count": 22,
   "metadata": {},
   "outputs": [
    {
     "name": "stdout",
     "output_type": "stream",
     "text": [
      "☆ ☆ ☆ ☆ ☆ ☆ ☆ ☆ ☆ ☆ \n",
      "\n",
      "★ ★ ★ ★ ★ ★ ★ ★ ★ ★ \n",
      "\n",
      "☆ ☆ ☆ ☆ ☆ ☆ ☆ ☆ ☆ ☆ \n",
      "\n",
      "★ ★ ★ ★ ★ ★ ★ ★ ★ ★ \n",
      "\n",
      "☆ ☆ ☆ ☆ ☆ ☆ ☆ ☆ ☆ ☆ \n",
      "\n",
      "★ ★ ★ ★ ★ ★ ★ ★ ★ ★ \n",
      "\n",
      "☆ ☆ ☆ ☆ ☆ ☆ ☆ ☆ ☆ ☆ \n",
      "\n",
      "★ ★ ★ ★ ★ ★ ★ ★ ★ ★ \n",
      "\n",
      "☆ ☆ ☆ ☆ ☆ ☆ ☆ ☆ ☆ ☆ \n",
      "\n",
      "★ ★ ★ ★ ★ ★ ★ ★ ★ ★ \n",
      "\n"
     ]
    }
   ],
   "source": [
    "# Interlace color\n",
    "num = 0\n",
    "while num < 100:\n",
    "    # Use the current line number as the base, take the remainder of 2 and determine parity \n",
    "    if num // 10 % 2 == 0:\n",
    "        print('☆', end = \" \")\n",
    "    else:\n",
    "        print('★', end = \" \")\n",
    "    # Determine if a newline is needed \n",
    "    if num % 10 == 9:\n",
    "        print('\\n')\n",
    "    num += 1"
   ]
  },
  {
   "cell_type": "markdown",
   "metadata": {},
   "source": [
    "### Multiplication tables"
   ]
  },
  {
   "cell_type": "code",
   "execution_count": 23,
   "metadata": {},
   "outputs": [
    {
     "name": "stdout",
     "output_type": "stream",
     "text": [
      "1x1=1 \n",
      "2x1=2 2x2=4 \n",
      "3x1=3 3x2=6 3x3=9 \n",
      "4x1=4 4x2=8 4x3=12 4x4=16 \n",
      "5x1=5 5x2=10 5x3=15 5x4=20 5x5=25 \n",
      "6x1=6 6x2=12 6x3=18 6x4=24 6x5=30 6x6=36 \n",
      "7x1=7 7x2=14 7x3=21 7x4=28 7x5=35 7x6=42 7x7=49 \n",
      "8x1=8 8x2=16 8x3=24 8x4=32 8x5=40 8x6=48 8x7=56 8x8=64 \n",
      "9x1=9 9x2=18 9x3=27 9x4=36 9x5=45 9x6=54 9x7=63 9x8=72 9x9=81 \n"
     ]
    }
   ],
   "source": [
    "# Multiplication tables\n",
    "for x in range(1, 10):\n",
    "    # The second level of the loop, the inner loop\n",
    "    # The inner loop takes care of the function for the current row, first row 1 column 2 rows 2 columns... ..9 rows, 9 columns.\n",
    "    for y in range(1, x+1):\n",
    "        print(f'{x}x{y}={x*y}', end=\" \")\n",
    "    # Enter\n",
    "    print()"
   ]
  },
  {
   "cell_type": "markdown",
   "metadata": {},
   "source": [
    "### The Fibonacci sequence"
   ]
  },
  {
   "cell_type": "code",
   "execution_count": 26,
   "metadata": {},
   "outputs": [
    {
     "name": "stdout",
     "output_type": "stream",
     "text": [
      "Fibonacci series: 0, 1, 1, 2, 3, 5, 8, 13, 21, 34, 55, 89, "
     ]
    }
   ],
   "source": [
    "\"\"\"\n",
    "0, 1, 1, 2, 3, 5, 8, 13...\n",
    "\"\"\"\n",
    "# Get user input data\n",
    "num = int(input('你需要计算多少项？'))\n",
    "n1 = 0\n",
    "n2 = 1\n",
    "count = 2\n",
    "# Starting with the number after that\n",
    "if num <= 0:\n",
    "    print('Please enter a positive integer.')\n",
    "elif num == 1:\n",
    "    print(f'Fibonacci series. {n1}')\n",
    "else:\n",
    "    print(f'Fibonacci series: {n1}, {n2}', end = \", \")\n",
    "    while count < num:\n",
    "        n3 = n1 + n2\n",
    "        print(n3, end = \", \")\n",
    "        # update data\n",
    "        n1, n2 = n2, n3\n",
    "        count += 1"
   ]
  },
  {
   "cell_type": "markdown",
   "metadata": {},
   "source": [
    "lit. buy a hundred chickens with a hundred coins (idiom); fig. a great deal of money for a good cause  \n",
    "> There are 100 dollars in total and you need to buy 100 chickens. \n",
    "> A rooster costs 3 yuan per chicken, a hen costs 1 yuan per chicken, and a chick costs 50 cents per chicken. \n",
    "> Calculate how many options there are for buying 100 chickens for 100 dollars."
   ]
  },
  {
   "cell_type": "code",
   "execution_count": 30,
   "metadata": {},
   "outputs": [
    {
     "name": "stdout",
     "output_type": "stream",
     "text": [
      "1 roosters，95 hen，4 chick， total $100.0\n",
      "2 roosters，90 hen，8 chick， total $100.0\n",
      "3 roosters，85 hen，12 chick， total $100.0\n",
      "4 roosters，80 hen，16 chick， total $100.0\n",
      "5 roosters，75 hen，20 chick， total $100.0\n",
      "6 roosters，70 hen，24 chick， total $100.0\n",
      "7 roosters，65 hen，28 chick， total $100.0\n",
      "8 roosters，60 hen，32 chick， total $100.0\n",
      "9 roosters，55 hen，36 chick， total $100.0\n",
      "10 roosters，50 hen，40 chick， total $100.0\n",
      "11 roosters，45 hen，44 chick， total $100.0\n",
      "12 roosters，40 hen，48 chick， total $100.0\n",
      "13 roosters，35 hen，52 chick， total $100.0\n",
      "14 roosters，30 hen，56 chick， total $100.0\n",
      "15 roosters，25 hen，60 chick， total $100.0\n",
      "16 roosters，20 hen，64 chick， total $100.0\n",
      "17 roosters，15 hen，68 chick， total $100.0\n",
      "18 roosters，10 hen，72 chick， total $100.0\n",
      "19 roosters，5 hen，76 chick， total $100.0\n",
      "There are 20 combinations in total.\n",
      "There are currently 3300 calculations.\n"
     ]
    }
   ],
   "source": [
    "count = 0\n",
    "num = 1\n",
    "# Inefficient code\n",
    "# for rooster in range(1, 34):\n",
    "#     for hen in range(1, 101):\n",
    "#         for chick in range(1, 201):\n",
    "#             count += 1\n",
    "#             # Determine if it's 100 and if it costs $100\n",
    "#             if rooster + hen + chick == 100 and rooster*3 + hen + chick*0.5 == 100:\n",
    "#                 print(f'roosters{rooster}，hen{hen}，chick{chick}， total ${rooster*3 + hen + chick*0.5}')\n",
    "#                 num += 1\n",
    "\n",
    "# Optimized code\n",
    "for rooster in range(1, 34):\n",
    "    for hen in range(1, 101):\n",
    "        chick = 100 - rooster - hen\n",
    "        count += 1\n",
    "        # Determine if it's 100 and if it costs $100\n",
    "        if rooster + hen + chick == 100 and rooster*3 + hen + chick*0.5 == 100:\n",
    "            print(f'{rooster} roosters，{hen} hen，{chick} chick， total ${rooster*3 + hen + chick*0.5}')\n",
    "            num += 1\n",
    "print(f'There are {num} combinations in total.')\n",
    "print(f'There are currently {count} calculations.')"
   ]
  },
  {
   "cell_type": "code",
   "execution_count": null,
   "metadata": {},
   "outputs": [],
   "source": []
  }
 ],
 "metadata": {
  "kernelspec": {
   "display_name": "ml",
   "language": "python",
   "name": "python3"
  },
  "language_info": {
   "codemirror_mode": {
    "name": "ipython",
    "version": 3
   },
   "file_extension": ".py",
   "mimetype": "text/x-python",
   "name": "python",
   "nbconvert_exporter": "python",
   "pygments_lexer": "ipython3",
   "version": "3.9.16"
  }
 },
 "nbformat": 4,
 "nbformat_minor": 2
}
