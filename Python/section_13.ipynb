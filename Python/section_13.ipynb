{
 "cells": [
  {
   "cell_type": "markdown",
   "metadata": {},
   "source": [
    "# SECTION 13, File operations"
   ]
  },
  {
   "cell_type": "code",
   "execution_count": null,
   "metadata": {},
   "outputs": [],
   "source": [
    "'''\n",
    "Open file open()\n",
    "    Parameter 1: file path\n",
    "        path url Uniform Resource Locator\n",
    "        Relative path:\n",
    "        Absolute path\n",
    "    Parameter 2: How to open\n",
    "\n",
    "'''"
   ]
  },
  {
   "cell_type": "code",
   "execution_count": 17,
   "metadata": {},
   "outputs": [
    {
     "name": "stdout",
     "output_type": "stream",
     "text": [
      "<_io.TextIOWrapper name='./data/13-1.txt' mode='w' encoding='utf-8'> <class '_io.TextIOWrapper'>\n"
     ]
    }
   ],
   "source": [
    "fp = open('./data/13-1.txt', 'w', encoding='utf-8')\n",
    "print(fp, type(fp))\n",
    "fp.write('Relative path: For example, if we are asked for directions by a passerby, we say: This street goes forward, the intersection in front of it is the crossroads, then turn left and walk for another 100 meters or so. \\n absolute path: this is very good to understand, Beijing Xicheng District Gulou East Street No. 28, especially accurate, right?')\n",
    "fp.close()"
   ]
  },
  {
   "cell_type": "code",
   "execution_count": 19,
   "metadata": {},
   "outputs": [
    {
     "name": "stdout",
     "output_type": "stream",
     "text": [
      "Relative path: For example, if we are asked for directions by a passerby, we say: This street goes forward, the intersection in front of it is the crossroads, then turn left and walk for another 100 meters or so. \n",
      " absolute path: this is very good to understand, Beijing Xicheng District Gulou East Street No. 28, especially accurate, right?\n"
     ]
    }
   ],
   "source": [
    "fp = open('./data/13-1.txt', 'r', encoding='utf-8')\n",
    "res = fp.read()\n",
    "fp.close()\n",
    "\n",
    "print(res)"
   ]
  },
  {
   "cell_type": "code",
   "execution_count": 20,
   "metadata": {},
   "outputs": [
    {
     "name": "stdout",
     "output_type": "stream",
     "text": [
      "Relative path: For example, if we are asked for directions by a passerby, we say: This street goes forward, the intersection in front of it is the crossroads, then turn left and walk for another 100 meters or so. \n",
      " absolute path: this is very good to understand, Beijing Xicheng District Gulou East Street No. 28, especially accurate, right?\n"
     ]
    }
   ],
   "source": [
    "with open('./data/13-1.txt', 'r+', encoding='utf-8') as fp:\n",
    "    res = fp.read()\n",
    "    print(res)\n",
    "    fp.write(res)"
   ]
  },
  {
   "cell_type": "code",
   "execution_count": 16,
   "metadata": {},
   "outputs": [
    {
     "ename": "FileExistsError",
     "evalue": "[Errno 17] File exists: './data/13-1.txt'",
     "output_type": "error",
     "traceback": [
      "\u001b[0;31m---------------------------------------------------------------------------\u001b[0m",
      "\u001b[0;31mFileExistsError\u001b[0m                           Traceback (most recent call last)",
      "Cell \u001b[0;32mIn[16], line 1\u001b[0m\n\u001b[0;32m----> 1\u001b[0m \u001b[38;5;28;01mwith\u001b[39;00m \u001b[38;5;28;43mopen\u001b[39;49m\u001b[43m(\u001b[49m\u001b[38;5;124;43m'\u001b[39;49m\u001b[38;5;124;43m./data/13-1.txt\u001b[39;49m\u001b[38;5;124;43m'\u001b[39;49m\u001b[43m,\u001b[49m\u001b[43m \u001b[49m\u001b[38;5;124;43m'\u001b[39;49m\u001b[38;5;124;43mx+\u001b[39;49m\u001b[38;5;124;43m'\u001b[39;49m\u001b[43m,\u001b[49m\u001b[43m \u001b[49m\u001b[43mencoding\u001b[49m\u001b[38;5;241;43m=\u001b[39;49m\u001b[38;5;124;43m'\u001b[39;49m\u001b[38;5;124;43mutf-8\u001b[39;49m\u001b[38;5;124;43m'\u001b[39;49m\u001b[43m)\u001b[49m \u001b[38;5;28;01mas\u001b[39;00m fp:\n\u001b[1;32m      2\u001b[0m     \u001b[38;5;28mprint\u001b[39m(fp\u001b[38;5;241m.\u001b[39mread())\n",
      "File \u001b[0;32m~/miniforge3/envs/ml/lib/python3.9/site-packages/IPython/core/interactiveshell.py:310\u001b[0m, in \u001b[0;36m_modified_open\u001b[0;34m(file, *args, **kwargs)\u001b[0m\n\u001b[1;32m    303\u001b[0m \u001b[38;5;28;01mif\u001b[39;00m file \u001b[38;5;129;01min\u001b[39;00m {\u001b[38;5;241m0\u001b[39m, \u001b[38;5;241m1\u001b[39m, \u001b[38;5;241m2\u001b[39m}:\n\u001b[1;32m    304\u001b[0m     \u001b[38;5;28;01mraise\u001b[39;00m \u001b[38;5;167;01mValueError\u001b[39;00m(\n\u001b[1;32m    305\u001b[0m         \u001b[38;5;124mf\u001b[39m\u001b[38;5;124m\"\u001b[39m\u001b[38;5;124mIPython won\u001b[39m\u001b[38;5;124m'\u001b[39m\u001b[38;5;124mt let you open fd=\u001b[39m\u001b[38;5;132;01m{\u001b[39;00mfile\u001b[38;5;132;01m}\u001b[39;00m\u001b[38;5;124m by default \u001b[39m\u001b[38;5;124m\"\u001b[39m\n\u001b[1;32m    306\u001b[0m         \u001b[38;5;124m\"\u001b[39m\u001b[38;5;124mas it is likely to crash IPython. If you know what you are doing, \u001b[39m\u001b[38;5;124m\"\u001b[39m\n\u001b[1;32m    307\u001b[0m         \u001b[38;5;124m\"\u001b[39m\u001b[38;5;124myou can use builtins\u001b[39m\u001b[38;5;124m'\u001b[39m\u001b[38;5;124m open.\u001b[39m\u001b[38;5;124m\"\u001b[39m\n\u001b[1;32m    308\u001b[0m     )\n\u001b[0;32m--> 310\u001b[0m \u001b[38;5;28;01mreturn\u001b[39;00m \u001b[43mio_open\u001b[49m\u001b[43m(\u001b[49m\u001b[43mfile\u001b[49m\u001b[43m,\u001b[49m\u001b[43m \u001b[49m\u001b[38;5;241;43m*\u001b[39;49m\u001b[43margs\u001b[49m\u001b[43m,\u001b[49m\u001b[43m \u001b[49m\u001b[38;5;241;43m*\u001b[39;49m\u001b[38;5;241;43m*\u001b[39;49m\u001b[43mkwargs\u001b[49m\u001b[43m)\u001b[49m\n",
      "\u001b[0;31mFileExistsError\u001b[0m: [Errno 17] File exists: './data/13-1.txt'"
     ]
    }
   ],
   "source": [
    "with open('./data/13-1.txt', 'x+', encoding='utf-8') as fp:\n",
    "    print(fp.read())"
   ]
  },
  {
   "cell_type": "code",
   "execution_count": 7,
   "metadata": {},
   "outputs": [
    {
     "name": "stdout",
     "output_type": "stream",
     "text": [
      "\n",
      "Here's what's new in 'x+' mode.\n"
     ]
    }
   ],
   "source": [
    "with open('./data/13-x+.txt', 'x+', encoding='UTF-8') as fp:\n",
    "    res = fp.read()\n",
    "    print(res)\n",
    "    fp.write(\"Here's what's new in 'x+' mode.\")\n",
    "\n",
    "with open('./data/13-x+.txt', 'r+', encoding='UTF-8') as fp:\n",
    "    res = fp.read()\n",
    "    print(res)"
   ]
  },
  {
   "cell_type": "code",
   "execution_count": 12,
   "metadata": {},
   "outputs": [
    {
     "name": "stdout",
     "output_type": "stream",
     "text": [
      "Relative p\n"
     ]
    }
   ],
   "source": [
    "with open('./data/13-1.txt', 'r', encoding='UTF-8') as fp:\n",
    "    res = fp.read(10)\n",
    "    print(res)"
   ]
  },
  {
   "cell_type": "code",
   "execution_count": 10,
   "metadata": {},
   "outputs": [
    {
     "name": "stdout",
     "output_type": "stream",
     "text": [
      "1. Hello Python.\n",
      "\n",
      "2. Hello C++. \n",
      "\n",
      "------------\n",
      "1. Hello Python.\n",
      "\n",
      "1. Hello Python.\n",
      "\n"
     ]
    }
   ],
   "source": [
    "# creat a file\n",
    "with open('./data/13-2.txt', 'w', encoding='UTF-8') as fp:\n",
    "    fp.write('1. Hello Python.\\n2. Hello C++. \\n3. Hello Ruby.')\n",
    "\n",
    "# under normal conditions\n",
    "with open('./data/13-2.txt', 'r', encoding='UTF-8') as fp:\n",
    "    print(fp.readline())\n",
    "    print(fp.readline())\n",
    "    print('------------')\n",
    "\n",
    "# Setting the pointer to re-offset to the header\n",
    "with open('./data/13-2.txt', 'r', encoding='UTF-8') as fp:\n",
    "    print(fp.readline())\n",
    "    fp.seek(0, 0)\n",
    "    print(fp.readline())\n",
    "\n"
   ]
  },
  {
   "cell_type": "code",
   "execution_count": 11,
   "metadata": {},
   "outputs": [
    {
     "name": "stdout",
     "output_type": "stream",
     "text": [
      "1. Hello Python.\n",
      "2. Hello C++. \n",
      "3. Hello Ruby.Here's what you add to the end using r+\n"
     ]
    }
   ],
   "source": [
    "# Setting the pointer to re-offset to the header\n",
    "with open('./data/13-2.txt', 'r+', encoding='UTF-8') as fp:\n",
    "    fp.seek(0, 2)\n",
    "    fp.write(\"Here's what you add to the end using r+\")\n",
    "\n",
    "with open('./data/13-2.txt', 'r', encoding='UTF-8') as fp:\n",
    "    print(fp.read())"
   ]
  },
  {
   "cell_type": "code",
   "execution_count": null,
   "metadata": {},
   "outputs": [],
   "source": []
  }
 ],
 "metadata": {
  "kernelspec": {
   "display_name": "Python 3",
   "language": "python",
   "name": "python3"
  },
  "language_info": {
   "codemirror_mode": {
    "name": "ipython",
    "version": 3
   },
   "file_extension": ".py",
   "mimetype": "text/x-python",
   "name": "python",
   "nbconvert_exporter": "python",
   "pygments_lexer": "ipython3",
   "version": "3.9.16"
  },
  "orig_nbformat": 4
 },
 "nbformat": 4,
 "nbformat_minor": 2
}
