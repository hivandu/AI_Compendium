{
 "cells": [
  {
   "cell_type": "markdown",
   "metadata": {},
   "source": [
    "# SECTION 3"
   ]
  },
  {
   "cell_type": "code",
   "execution_count": 1,
   "metadata": {},
   "outputs": [],
   "source": [
    "# 4 + 5 = 9"
   ]
  },
  {
   "cell_type": "code",
   "execution_count": 2,
   "metadata": {},
   "outputs": [
    {
     "name": "stdout",
     "output_type": "stream",
     "text": [
      "a+b= 31\n",
      "a-b= -11\n",
      "a*b= 210\n",
      "b/a= 2.1\n",
      "b%a= 1\n",
      "a**b= 1000000000000000000000\n",
      "4\n",
      "-5\n"
     ]
    }
   ],
   "source": [
    "# Arithmetic operators\n",
    "a = 10\n",
    "b = 21\n",
    "print(\"a+b=\", a+b)\n",
    "print(\"a-b=\", a-b)\n",
    "print(\"a*b=\", a*b)\n",
    "print(\"b/a=\", b/a)\n",
    "print(\"b%a=\", b%a)\n",
    "print(\"a**b=\", a**b)\n",
    "print(9//2)\n",
    "print(-9//2)"
   ]
  },
  {
   "cell_type": "code",
   "execution_count": 3,
   "metadata": {},
   "outputs": [
    {
     "name": "stdout",
     "output_type": "stream",
     "text": [
      "a==b: False\n",
      "a!=b: True\n",
      "a>b: False\n",
      "a=b: False\n",
      "a<=b: True\n"
     ]
    }
   ],
   "source": [
    "# Comparison operators\n",
    "print(\"a==b:\", a==b)\n",
    "print(\"a!=b:\", a!=b)\n",
    "print(\"a>b:\", a>b)\n",
    "print(\"a=b:\", a>=b)\n",
    "print(\"a<=b:\", a<=b)"
   ]
  },
  {
   "cell_type": "code",
   "execution_count": 4,
   "metadata": {},
   "outputs": [
    {
     "name": "stdout",
     "output_type": "stream",
     "text": [
      "31\n",
      "41\n",
      "31\n",
      "310\n",
      "31.0\n",
      "1.0\n",
      "10\n",
      "1\n"
     ]
    }
   ],
   "source": [
    "# Assignment operator\n",
    "c = a+b\n",
    "print(c)\n",
    "c+=a\n",
    "print(c)\n",
    "c-=a\n",
    "print(c)\n",
    "c*=a\n",
    "print(c)\n",
    "c/=a\n",
    "print(c)\n",
    "c%=a\n",
    "print(c)\n",
    "c=a\n",
    "print(c)\n",
    "c//=a\n",
    "print(c)"
   ]
  },
  {
   "cell_type": "code",
   "execution_count": 5,
   "metadata": {},
   "outputs": [
    {
     "name": "stdout",
     "output_type": "stream",
     "text": [
      "0b10100\n",
      "a =  0b111100 , b =  0b1101\n",
      "a&b =  0b1100\n",
      "a|b = 0b111101\n",
      "a^b = 0b110001\n",
      "~a = -0b111101\n",
      "a<<2 =  0b11110000\n",
      "a>>2 =  0b1111\n"
     ]
    }
   ],
   "source": [
    "# Bitwise operators\n",
    "print(bin(20))\n",
    "a = 60\n",
    "b = 13\n",
    "print(\"a = \", bin(a), \", b = \", bin(b))\n",
    "print(\"a&b = \", bin(a&b))\n",
    "print(\"a|b =\",bin(a|b))\n",
    "print(\"a^b =\",bin(a^b))\n",
    "print(\"~a =\",bin(~a))\n",
    "print(\"a<<2 = \",bin(a<<2))\n",
    "print(\"a>>2 = \",bin(a>>2))"
   ]
  },
  {
   "cell_type": "code",
   "execution_count": 6,
   "metadata": {},
   "outputs": [
    {
     "name": "stdout",
     "output_type": "stream",
     "text": [
      "a and b =  20\n",
      "a or b =  10\n",
      "not(a and b) =  False\n"
     ]
    }
   ],
   "source": [
    "# Logical operators\n",
    "a = 10\n",
    "b = 20\n",
    "print(\"a and b = \", a and b)\n",
    "print(\"a or b = \", a or b)\n",
    "print(\"not(a and b) = \", not(a and b))"
   ]
  },
  {
   "cell_type": "code",
   "execution_count": 7,
   "metadata": {},
   "outputs": [
    {
     "name": "stdout",
     "output_type": "stream",
     "text": [
      "x in y : False\n",
      "x not in y : True\n"
     ]
    }
   ],
   "source": [
    "# Member operators\n",
    "x = [0, 1, 2, 3, 4, 5, 6, 7]\n",
    "y = [0, 1, 2, 3, 4, 5, 6, 7, 8, 9, 10]\n",
    "print(\"x in y :\", x in y)\n",
    "print(\"x not in y :\", x not in y)"
   ]
  },
  {
   "cell_type": "code",
   "execution_count": 8,
   "metadata": {},
   "outputs": [
    {
     "name": "stdout",
     "output_type": "stream",
     "text": [
      "x is y: True\n",
      "x is y: True\n",
      "id(x) == id(y) True\n",
      "x is not y: False\n"
     ]
    },
    {
     "data": {
      "text/plain": [
       "4300073552"
      ]
     },
     "execution_count": 8,
     "metadata": {},
     "output_type": "execute_result"
    }
   ],
   "source": [
    "# Identity operators\n",
    "x = 10\n",
    "y = x\n",
    "print(\"x is y:\", x is y)\n",
    "\n",
    "x = 10\n",
    "y = 10\n",
    "print(\"x is y:\", x is y)\n",
    "print(\"id(x) == id(y)\", id(x) == id(y))\n",
    "print(\"x is not y:\", x is not y)\n",
    "id(x)"
   ]
  },
  {
   "cell_type": "code",
   "execution_count": null,
   "metadata": {},
   "outputs": [],
   "source": []
  }
 ],
 "metadata": {
  "kernelspec": {
   "display_name": "ml",
   "language": "python",
   "name": "python3"
  },
  "language_info": {
   "codemirror_mode": {
    "name": "ipython",
    "version": 3
   },
   "file_extension": ".py",
   "mimetype": "text/x-python",
   "name": "python",
   "nbconvert_exporter": "python",
   "pygments_lexer": "ipython3",
   "version": "3.9.16"
  }
 },
 "nbformat": 4,
 "nbformat_minor": 2
}
