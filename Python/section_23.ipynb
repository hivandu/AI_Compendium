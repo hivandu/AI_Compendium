{
 "cells": [
  {
   "cell_type": "markdown",
   "metadata": {},
   "source": [
    "# SECTION 23, Descriptor And Design Pattern"
   ]
  },
  {
   "cell_type": "markdown",
   "metadata": {},
   "source": [
    "## Descriptor"
   ]
  },
  {
   "cell_type": "code",
   "execution_count": 14,
   "metadata": {},
   "outputs": [
    {
     "name": "stdout",
     "output_type": "stream",
     "text": [
      "abc\n",
      "Hivan\n",
      "I just won’t delete it, which makes you mad\n",
      "Hivan\n"
     ]
    }
   ],
   "source": [
    "# Define Descriptor Class\n",
    "class PersonName():\n",
    "    __name = 'abc'\n",
    "\n",
    "    def __get__(self, instance, owner):\n",
    "        return self.__name\n",
    "\n",
    "    def __set__(self, instance, value):\n",
    "        # self.__name = value\n",
    "        self.__name = 'Hivan'\n",
    "\n",
    "    def __delete__(self, instance):\n",
    "        print('I just won’t delete it, which makes you mad')\n",
    "        # del self.__name\n",
    "\n",
    "# Define a regular class\n",
    "class Person():\n",
    "    # Assign a descriptor class to a member attribute in the class\n",
    "    name = PersonName()\n",
    "\n",
    "# Instantiate object\n",
    "zs = Person()\n",
    "print(zs.name)\n",
    "zs.name = 'Zhang Sanfeng'\n",
    "print(zs.name)\n",
    "del zs.name\n",
    "print(zs.name)"
   ]
  },
  {
   "cell_type": "markdown",
   "metadata": {},
   "source": [
    "## Descriptor Application: Student Class\n",
    "\n",
    "`Define a Student class that needs to record the student's ID, name, and score.`"
   ]
  },
  {
   "cell_type": "markdown",
   "metadata": {},
   "source": [
    "Requirements: The student's score can only be in the range of 0-100.\n",
    "Solution:\n",
    "    1. Check the score range in the `__init__` method"
   ]
  },
  {
   "cell_type": "code",
   "execution_count": 16,
   "metadata": {},
   "outputs": [
    {
     "name": "stdout",
     "output_type": "stream",
     "text": [
      "score 99\n",
      "Student ID: 37\n",
      " Student Name: Zhang Sanfeng\n",
      " Student Score: 99\n",
      "score -1\n",
      "The current score does not meet the requirements.\n"
     ]
    }
   ],
   "source": [
    "class Student():\n",
    "    def __init__(self, id, name, score):\n",
    "        self.id = id\n",
    "        self.name = name\n",
    "        # self.score = score\n",
    "\n",
    "        # Check score range\n",
    "        if 0 <= score <= 100:\n",
    "            self.score = score\n",
    "        else:\n",
    "            print('The current score does not meet the requirements.')\n",
    "\n",
    "    def __setattr__(self, key, value):\n",
    "        # Check if the score is being assigned\n",
    "        if key == 'score':\n",
    "            print(key, value)\n",
    "            # Check score range\n",
    "            if 0 <= value <= 100:\n",
    "                object.__setattr__(self, key, value)    \n",
    "            else:\n",
    "                print('The current score does not meet the requirements.')\n",
    "        else:\n",
    "            object.__setattr__(self, key, value)\n",
    "\n",
    "    def __repr__(self):\n",
    "        info = f'Student ID: {self.id}\\n Student Name: {self.name}\\n Student Score: {self.score}' \n",
    "        return info\n",
    "        \n",
    "# Instantiate object\n",
    "zs = Student(37, 'Zhang Sanfeng', 99)\n",
    "print(zs)\n",
    "zs.score = -1"
   ]
  },
  {
   "cell_type": "markdown",
   "metadata": {},
   "source": [
    "## Using Descriptors to Manage Score Assignment"
   ]
  },
  {
   "cell_type": "code",
   "execution_count": 17,
   "metadata": {},
   "outputs": [
    {
     "name": "stdout",
     "output_type": "stream",
     "text": [
      "The score does not meet the requirements.\n",
      "\n",
      "        Student ID: 37\n",
      "        Student Name: Zhang Sanfeng\n",
      "        Student Score: None\n",
      "        \n",
      "The score does not meet the requirements.\n",
      "\n",
      "        Student ID: 37\n",
      "        Student Name: Zhang Sanfeng\n",
      "        Student Score: 88\n",
      "        \n"
     ]
    }
   ],
   "source": [
    "\n",
    "# Define a descriptor class to manage the score\n",
    "class Score():\n",
    "    __score = None\n",
    "    \n",
    "    def __get__(self, instance, owner):\n",
    "        return self.__score\n",
    "\n",
    "    def __set__(self, instance, value):\n",
    "        if 0 <= value <= 100:\n",
    "            self.__score = value\n",
    "        else:\n",
    "            print('The score does not meet the requirements.')\n",
    "\n",
    "    def __delete__(self, instance):\n",
    "        del self.__score\n",
    "\n",
    "class Student():\n",
    "    score = Score()\n",
    "    \n",
    "    def __init__(self, id, name, score):\n",
    "        self.id = id\n",
    "        self.name = name\n",
    "        self.score = score\n",
    "\n",
    "    def returnSelf(self):\n",
    "        info = f'''\n",
    "        Student ID: {self.id}\n",
    "        Student Name: {self.name}\n",
    "        Student Score: {self.score}\n",
    "        '''\n",
    "        return info\n",
    "    \n",
    "# Instantiate object\n",
    "zs = Student(37, 'Zhang Sanfeng', 132)\n",
    "print(zs.returnSelf())\n",
    "zs.score = -1\n",
    "zs.score = 88\n",
    "print(zs.returnSelf())"
   ]
  },
  {
   "cell_type": "code",
   "execution_count": 6,
   "metadata": {},
   "outputs": [
    {
     "name": "stdout",
     "output_type": "stream",
     "text": [
      "199\n",
      "17\n"
     ]
    }
   ],
   "source": [
    "# Alternative approach using property\n",
    "\n",
    "class Student():\n",
    "    def __init__(self, id, name, score):\n",
    "        self.id = id\n",
    "        self.name = name\n",
    "        self.__score = score\n",
    "\n",
    "    def getScore(self):\n",
    "        return self.__score\n",
    "    \n",
    "    def setScore(self, score):\n",
    "        self.__score = score\n",
    "    \n",
    "    def delScore(self):\n",
    "        del self.__score\n",
    "\n",
    "    # Define the property with corresponding methods\n",
    "    score = property(getScore, setScore, delScore)\n",
    "\n",
    "# Instantiate object\n",
    "zs = Student(37, 'Zhang Sanfeng', 199)\n",
    "print(zs.score)\n",
    "zs.score = 17\n",
    "print(zs.score)\n",
    "# del zs.score\n",
    "# print(zs.score)"
   ]
  },
  {
   "cell_type": "code",
   "execution_count": 7,
   "metadata": {},
   "outputs": [
    {
     "name": "stdout",
     "output_type": "stream",
     "text": [
      "getScore\n",
      "None\n",
      "setScore\n",
      "getScore\n",
      "200\n",
      "delScore\n"
     ]
    }
   ],
   "source": [
    "class Student():\n",
    "    __score = None\n",
    "\n",
    "    @property\n",
    "    def score(self):\n",
    "        print('getScore')\n",
    "        return self.__score\n",
    "    \n",
    "    @score.setter\n",
    "    def score(self, value):\n",
    "        print('setScore')\n",
    "        self.__score = value\n",
    "\n",
    "    @score.deleter\n",
    "    def score(self):\n",
    "        print('delScore')\n",
    "        del self.__score\n",
    "\n",
    "zs = Student()\n",
    "print(zs.score)\n",
    "zs.score = 200\n",
    "print(zs.score)\n",
    "del zs.score"
   ]
  },
  {
   "cell_type": "markdown",
   "metadata": {},
   "source": [
    "## Singleton Design Pattern"
   ]
  },
  {
   "cell_type": "code",
   "execution_count": 8,
   "metadata": {},
   "outputs": [
    {
     "name": "stdout",
     "output_type": "stream",
     "text": [
      "<__main__.Demo object at 0x106550c70>\n",
      "<__main__.Demo object at 0x106550c70>\n"
     ]
    }
   ],
   "source": [
    "class Demo():\n",
    "    \n",
    "    # Define a private attribute to store the object\n",
    "    __obj = None\n",
    "\n",
    "    # Define the constructor method\n",
    "    def __new__(cls, *args, **kwargs):\n",
    "        # During object creation, check if an object already exists\n",
    "        if not cls.__obj:\n",
    "            # If not, create one and store it\n",
    "            cls.__obj = object.__new__(cls)\n",
    "        return cls.__obj\n",
    "    \n",
    "# Instantiate objects\n",
    "a = Demo()\n",
    "b = Demo()\n",
    "print(a)\n",
    "print(b)"
   ]
  },
  {
   "cell_type": "code",
   "execution_count": 9,
   "metadata": {},
   "outputs": [],
   "source": [
    "# Define vehicles\n",
    "class Vehicle():\n",
    "    # Transport cargo\n",
    "    def cargo():\n",
    "        print('Cargo')\n",
    "    \n",
    "    # Carry passengers\n",
    "    def person():\n",
    "        print('People')\n",
    "\n",
    "# Define flying capability\n",
    "class FlyingMixin():\n",
    "    def fly(self):\n",
    "        print('Can fly')\n",
    "\n",
    "# Define airplane\n",
    "class Airplane(Vehicle, FlyingMixin):\n",
    "    pass\n",
    "\n",
    "# Define helicopter\n",
    "class Helicopter(Vehicle, FlyingMixin):\n",
    "    pass\n",
    "\n",
    "# Define car\n",
    "class Car(Vehicle):\n",
    "    pass"
   ]
  },
  {
   "cell_type": "markdown",
   "metadata": {},
   "source": [
    "## Abstract Classes"
   ]
  },
  {
   "cell_type": "code",
   "execution_count": 23,
   "metadata": {},
   "outputs": [],
   "source": [
    "import abc\n",
    "\n",
    "# Must use metaclass, attribute must be abc.ABCMeta\n",
    "class WriteCode(metaclass=abc.ABCMeta):\n",
    "\n",
    "    # Abstract methods must be decorated with @abc.abstractmethod\n",
    "    @abc.abstractmethod\n",
    "    def write_swift(self):\n",
    "        pass\n",
    "\n",
    "    def write_java(self):\n",
    "        print('Implemented Java code development')\n",
    "\n",
    "    def write_python(self):\n",
    "        print('Implemented Python code development')"
   ]
  },
  {
   "cell_type": "code",
   "execution_count": 24,
   "metadata": {},
   "outputs": [
    {
     "ename": "TypeError",
     "evalue": "Can't instantiate abstract class WriteCode with abstract method write_swift",
     "output_type": "error",
     "traceback": [
      "\u001b[0;31m---------------------------------------------------------------------------\u001b[0m",
      "\u001b[0;31mTypeError\u001b[0m                                 Traceback (most recent call last)",
      "Cell \u001b[0;32mIn[24], line 2\u001b[0m\n\u001b[1;32m      1\u001b[0m \u001b[38;5;66;03m# Abstract classes cannot be instantiated directly\u001b[39;00m\n\u001b[0;32m----> 2\u001b[0m obj \u001b[38;5;241m=\u001b[39m \u001b[43mWriteCode\u001b[49m\u001b[43m(\u001b[49m\u001b[43m)\u001b[49m\n",
      "\u001b[0;31mTypeError\u001b[0m: Can't instantiate abstract class WriteCode with abstract method write_swift"
     ]
    }
   ],
   "source": [
    "# Abstract classes cannot be instantiated directly\n",
    "obj = WriteCode()"
   ]
  },
  {
   "cell_type": "code",
   "execution_count": 28,
   "metadata": {},
   "outputs": [],
   "source": [
    "# Define a subclass, inheriting from the abstract class and implementing its abstract methods\n",
    "class Demo(WriteCode):\n",
    "    def write_swift(self):\n",
    "        print('Implemented Swift code development')\n",
    "        \n",
    "    def write_php(self):\n",
    "        print('Implemented PHP code development')"
   ]
  },
  {
   "cell_type": "code",
   "execution_count": 30,
   "metadata": {},
   "outputs": [
    {
     "name": "stdout",
     "output_type": "stream",
     "text": [
      "<__main__.Demo object at 0x10ce8e700>\n"
     ]
    }
   ],
   "source": [
    "obj = Demo()\n",
    "print(obj)"
   ]
  },
  {
   "cell_type": "code",
   "execution_count": 31,
   "metadata": {},
   "outputs": [
    {
     "name": "stdout",
     "output_type": "stream",
     "text": [
      "Implemented Java code development\n",
      "Implemented Python code development\n",
      "Implemented Swift code development\n"
     ]
    }
   ],
   "source": [
    "obj.write_java()\n",
    "obj.write_python()\n",
    "obj.write_swift()"
   ]
  },
  {
   "cell_type": "code",
   "execution_count": null,
   "metadata": {},
   "outputs": [],
   "source": []
  }
 ],
 "metadata": {
  "kernelspec": {
   "display_name": "base",
   "language": "python",
   "name": "python3"
  },
  "language_info": {
   "codemirror_mode": {
    "name": "ipython",
    "version": 3
   },
   "file_extension": ".py",
   "mimetype": "text/x-python",
   "name": "python",
   "nbconvert_exporter": "python",
   "pygments_lexer": "ipython3",
   "version": "3.9.16"
  },
  "orig_nbformat": 4
 },
 "nbformat": 4,
 "nbformat_minor": 2
}
