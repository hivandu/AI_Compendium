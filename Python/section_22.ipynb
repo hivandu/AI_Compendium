{
 "cells": [
  {
   "cell_type": "markdown",
   "metadata": {},
   "source": [
    "# SECTION 22, Object-Oriented - Advanced"
   ]
  },
  {
   "cell_type": "code",
   "execution_count": 9,
   "metadata": {},
   "outputs": [
    {
     "name": "stdout",
     "output_type": "stream",
     "text": [
      "{'__module__': '__main__', 'name': 'a', 'age': 20, 'say': <function Demo.say at 0x10aa63a60>, '__dict__': <attribute '__dict__' of 'Demo' objects>, '__weakref__': <attribute '__weakref__' of 'Demo' objects>, '__doc__': None}\n"
     ]
    }
   ],
   "source": [
    "class Demo():\n",
    "    name = 'a'\n",
    "    age = 20\n",
    "\n",
    "    def say(self):\n",
    "        print('say something')\n",
    "\n",
    "# Get the members of the class/object\n",
    "res = Demo.__dict__\n",
    "print(res)"
   ]
  },
  {
   "cell_type": "code",
   "execution_count": 10,
   "metadata": {},
   "outputs": [
    {
     "name": "stdout",
     "output_type": "stream",
     "text": [
      "{'sex': 'female'}\n"
     ]
    }
   ],
   "source": [
    "obj = Demo()\n",
    "obj.sex = 'female'\n",
    "print(obj.__dict__)"
   ]
  },
  {
   "cell_type": "code",
   "execution_count": 11,
   "metadata": {},
   "outputs": [
    {
     "name": "stdout",
     "output_type": "stream",
     "text": [
      "\n",
      "    This is a Demo class, mainly used for testing.\n",
      "    \n"
     ]
    }
   ],
   "source": [
    "class Demo():\n",
    "    '''\n",
    "    This is a Demo class, mainly used for testing.\n",
    "    '''\n",
    "    pass\n",
    "\n",
    "print(Demo.__doc__)"
   ]
  },
  {
   "cell_type": "code",
   "execution_count": 12,
   "metadata": {},
   "outputs": [
    {
     "name": "stdout",
     "output_type": "stream",
     "text": [
      "Demo\n"
     ]
    }
   ],
   "source": [
    "print(Demo.__name__)"
   ]
  },
  {
   "cell_type": "code",
   "execution_count": 13,
   "metadata": {},
   "outputs": [
    {
     "ename": "AttributeError",
     "evalue": "'Demo' object has no attribute '__name__'",
     "output_type": "error",
     "traceback": [
      "\u001b[0;31m---------------------------------------------------------------------------\u001b[0m",
      "\u001b[0;31mAttributeError\u001b[0m                            Traceback (most recent call last)",
      "Cell \u001b[0;32mIn[13], line 1\u001b[0m\n\u001b[0;32m----> 1\u001b[0m \u001b[38;5;28mprint\u001b[39m(\u001b[43mobj\u001b[49m\u001b[38;5;241;43m.\u001b[39;49m\u001b[38;5;18;43m__name__\u001b[39;49m)\n",
      "\u001b[0;31mAttributeError\u001b[0m: 'Demo' object has no attribute '__name__'"
     ]
    }
   ],
   "source": [
    "print(obj.__name__)"
   ]
  },
  {
   "cell_type": "code",
   "execution_count": 14,
   "metadata": {},
   "outputs": [
    {
     "name": "stdout",
     "output_type": "stream",
     "text": [
      "__main__\n",
      "__main__\n"
     ]
    }
   ],
   "source": [
    "print(Demo.__module__)\n",
    "print(obj.__module__)"
   ]
  },
  {
   "cell_type": "code",
   "execution_count": 15,
   "metadata": {},
   "outputs": [
    {
     "name": "stdout",
     "output_type": "stream",
     "text": [
      "<class '__main__.A'>\n",
      "(<class '__main__.A'>, <class '__main__.Demo'>)\n"
     ]
    }
   ],
   "source": [
    "class A(Demo):\n",
    "    pass\n",
    "class B(A, Demo):\n",
    "    pass\n",
    "\n",
    "print(B.__base__)\n",
    "print(B.__bases__)"
   ]
  },
  {
   "cell_type": "code",
   "execution_count": 16,
   "metadata": {},
   "outputs": [
    {
     "name": "stdout",
     "output_type": "stream",
     "text": [
      "(<class '__main__.B'>, <class '__main__.A'>, <class '__main__.Demo'>, <class 'object'>)\n"
     ]
    }
   ],
   "source": [
    "print(B.__mro__)"
   ]
  },
  {
   "cell_type": "markdown",
   "metadata": {},
   "source": [
    "## Method Classification"
   ]
  },
  {
   "cell_type": "code",
   "execution_count": 17,
   "metadata": {},
   "outputs": [
    {
     "name": "stdout",
     "output_type": "stream",
     "text": [
      "<__main__.Demo object at 0x10a99cbb0>\n",
      "this is objFunc\n",
      "<class '__main__.Demo'>\n",
      "this is cls function: clsFunc\n",
      "<class '__main__.Demo'>\n",
      "this is cls function: clsFunc\n",
      "this is bind Class function: bindClassFunc\n",
      "a:static, b:class\n",
      "this is static method func\n",
      "a:static, b:obj\n",
      "this is static method func\n"
     ]
    }
   ],
   "source": [
    "class Demo():\n",
    "    # Instance method\n",
    "    def objFunc(self):\n",
    "        print(self)\n",
    "        print('this is objFunc')\n",
    "\n",
    "    # Class method\n",
    "    @classmethod  # Decorator\n",
    "    def clsFunc(cls):\n",
    "        print(cls)\n",
    "        print('this is cls function: clsFunc')\n",
    "\n",
    "    # Bound class method\n",
    "    def bindClassFunc():\n",
    "        print('this is bind Class function: bindClassFunc')\n",
    "    \n",
    "    # Static method\n",
    "    @staticmethod\n",
    "    def staticFunc(a, b):\n",
    "        print(f'a:{a}, b:{b}')\n",
    "        print('this is static method func')\n",
    "\n",
    "# Instantiate object\n",
    "obj = Demo()\n",
    "obj.objFunc()\n",
    "\n",
    "Demo.clsFunc()\n",
    "obj.clsFunc()\n",
    "\n",
    "Demo.bindClassFunc()\n",
    "# obj.bindClassFunc()\n",
    "\n",
    "Demo.staticFunc('static', 'class')\n",
    "obj.staticFunc('static', 'obj')"
   ]
  },
  {
   "cell_type": "code",
   "execution_count": 18,
   "metadata": {},
   "outputs": [
    {
     "name": "stdout",
     "output_type": "stream",
     "text": [
      "a\n",
      "this is objFunc\n"
     ]
    }
   ],
   "source": [
    "Demo.objFunc('a')"
   ]
  },
  {
   "cell_type": "markdown",
   "metadata": {},
   "source": [
    "## Common Functions"
   ]
  },
  {
   "cell_type": "code",
   "execution_count": 19,
   "metadata": {},
   "outputs": [
    {
     "name": "stdout",
     "output_type": "stream",
     "text": [
      "True\n",
      "True\n",
      "True\n"
     ]
    }
   ],
   "source": [
    "class A(): \n",
    "    pass\n",
    "\n",
    "class B(A): \n",
    "    pass\n",
    "\n",
    "class C(A): \n",
    "    pass\n",
    "\n",
    "class D(B, C): \n",
    "    pass\n",
    "\n",
    "# issubclass()\n",
    "print(issubclass(D, A))\n",
    "\n",
    "obj = D()\n",
    "print(isinstance(obj, D))\n",
    "print(isinstance(obj, B))"
   ]
  },
  {
   "cell_type": "code",
   "execution_count": 20,
   "metadata": {},
   "outputs": [
    {
     "name": "stdout",
     "output_type": "stream",
     "text": [
      "True\n"
     ]
    }
   ],
   "source": [
    "B.name = 'Zhang San'\n",
    "print(hasattr(obj, 'name'))"
   ]
  },
  {
   "cell_type": "code",
   "execution_count": 21,
   "metadata": {},
   "outputs": [
    {
     "name": "stdout",
     "output_type": "stream",
     "text": [
      "20\n",
      "False\n"
     ]
    }
   ],
   "source": [
    "objB = B()\n",
    "D.age = 20\n",
    "print(D.age)\n",
    "print(hasattr(objB, 'age'))"
   ]
  },
  {
   "cell_type": "code",
   "execution_count": 22,
   "metadata": {},
   "outputs": [
    {
     "name": "stdout",
     "output_type": "stream",
     "text": [
      "20\n",
      "Zhang San\n"
     ]
    }
   ],
   "source": [
    "print(getattr(obj, 'age'))\n",
    "print(getattr(objB, 'name'))"
   ]
  },
  {
   "cell_type": "code",
   "execution_count": 23,
   "metadata": {},
   "outputs": [
    {
     "ename": "AttributeError",
     "evalue": "'B' object has no attribute 'age'",
     "output_type": "error",
     "traceback": [
      "\u001b[0;31m---------------------------------------------------------------------------\u001b[0m",
      "\u001b[0;31mAttributeError\u001b[0m                            Traceback (most recent call last)",
      "Cell \u001b[0;32mIn[23], line 1\u001b[0m\n\u001b[0;32m----> 1\u001b[0m \u001b[38;5;28mprint\u001b[39m(\u001b[38;5;28;43mgetattr\u001b[39;49m\u001b[43m(\u001b[49m\u001b[43mobjB\u001b[49m\u001b[43m,\u001b[49m\u001b[43m \u001b[49m\u001b[38;5;124;43m'\u001b[39;49m\u001b[38;5;124;43mage\u001b[39;49m\u001b[38;5;124;43m'\u001b[39;49m\u001b[43m)\u001b[49m)\n",
      "\u001b[0;31mAttributeError\u001b[0m: 'B' object has no attribute 'age'"
     ]
    }
   ],
   "source": [
    "print(getattr(objB, 'age'))"
   ]
  },
  {
   "cell_type": "code",
   "execution_count": 24,
   "metadata": {},
   "outputs": [
    {
     "name": "stdout",
     "output_type": "stream",
     "text": [
      "None\n",
      "du\n"
     ]
    }
   ],
   "source": [
    "print(setattr(obj, 'name', 'du'))\n",
    "print(obj.name)"
   ]
  },
  {
   "cell_type": "code",
   "execution_count": 25,
   "metadata": {},
   "outputs": [
    {
     "name": "stdout",
     "output_type": "stream",
     "text": [
      "None\n",
      "Zhang San\n"
     ]
    }
   ],
   "source": [
    "print(delattr(obj, 'name'))\n",
    "print(obj.name)"
   ]
  },
  {
   "cell_type": "code",
   "execution_count": 26,
   "metadata": {},
   "outputs": [
    {
     "name": "stdout",
     "output_type": "stream",
     "text": [
      "small\n"
     ]
    },
    {
     "ename": "AttributeError",
     "evalue": "'D' object has no attribute 'size'",
     "output_type": "error",
     "traceback": [
      "\u001b[0;31m---------------------------------------------------------------------------\u001b[0m",
      "\u001b[0;31mAttributeError\u001b[0m                            Traceback (most recent call last)",
      "Cell \u001b[0;32mIn[26], line 4\u001b[0m\n\u001b[1;32m      2\u001b[0m \u001b[38;5;28mprint\u001b[39m(obj\u001b[38;5;241m.\u001b[39msize)\n\u001b[1;32m      3\u001b[0m \u001b[38;5;28mdelattr\u001b[39m(obj, \u001b[38;5;124m'\u001b[39m\u001b[38;5;124msize\u001b[39m\u001b[38;5;124m'\u001b[39m)\n\u001b[0;32m----> 4\u001b[0m \u001b[38;5;28mprint\u001b[39m(\u001b[43mobj\u001b[49m\u001b[38;5;241;43m.\u001b[39;49m\u001b[43msize\u001b[49m)\n",
      "\u001b[0;31mAttributeError\u001b[0m: 'D' object has no attribute 'size'"
     ]
    }
   ],
   "source": [
    "setattr(obj, 'size', 'small')\n",
    "print(obj.size)\n",
    "delattr(obj, 'size')\n",
    "print(obj.size)"
   ]
  },
  {
   "cell_type": "code",
   "execution_count": 27,
   "metadata": {},
   "outputs": [
    {
     "name": "stdout",
     "output_type": "stream",
     "text": [
      "['__class__', '__delattr__', '__dict__', '__dir__', '__doc__', '__eq__', '__format__', '__ge__', '__getattribute__', '__gt__', '__hash__', '__init__', '__init_subclass__', '__le__', '__lt__', '__module__', '__ne__', '__new__', '__reduce__', '__reduce_ex__', '__repr__', '__setattr__', '__sizeof__', '__str__', '__subclasshook__', '__weakref__', 'age', 'name']\n"
     ]
    }
   ],
   "source": [
    "res = dir(obj)\n",
    "print(res)"
   ]
  },
  {
   "cell_type": "code",
   "execution_count": 28,
   "metadata": {},
   "outputs": [
    {
     "name": "stdout",
     "output_type": "stream",
     "text": [
      "Sex:female\n"
     ]
    },
    {
     "ename": "AttributeError",
     "evalue": "'D' object has no attribute '__sex'",
     "output_type": "error",
     "traceback": [
      "\u001b[0;31m---------------------------------------------------------------------------\u001b[0m",
      "\u001b[0;31mAttributeError\u001b[0m                            Traceback (most recent call last)",
      "Cell \u001b[0;32mIn[28], line 9\u001b[0m\n\u001b[1;32m      6\u001b[0m     \u001b[38;5;28mprint\u001b[39m(\u001b[38;5;124mf\u001b[39m\u001b[38;5;124m'\u001b[39m\u001b[38;5;124mSex:\u001b[39m\u001b[38;5;132;01m{\u001b[39;00m__sex\u001b[38;5;132;01m}\u001b[39;00m\u001b[38;5;124m'\u001b[39m)\n\u001b[1;32m      8\u001b[0m obj \u001b[38;5;241m=\u001b[39m D()\n\u001b[0;32m----> 9\u001b[0m \u001b[38;5;28;43mgetattr\u001b[39;49m\u001b[43m(\u001b[49m\u001b[43mobj\u001b[49m\u001b[43m,\u001b[49m\u001b[43m \u001b[49m\u001b[38;5;124;43m'\u001b[39;49m\u001b[38;5;124;43m__sex\u001b[39;49m\u001b[38;5;124;43m'\u001b[39;49m\u001b[43m)\u001b[49m\n",
      "\u001b[0;31mAttributeError\u001b[0m: 'D' object has no attribute '__sex'"
     ]
    }
   ],
   "source": [
    "class D():\n",
    "    name = '张三'\n",
    "    _age = 25\n",
    "    __sex = 'female'\n",
    "\n",
    "    print(f'Sex:{__sex}')\n",
    "\n",
    "obj = D()\n",
    "getattr(obj, '__sex')\n"
   ]
  },
  {
   "cell_type": "code",
   "execution_count": 29,
   "metadata": {},
   "outputs": [
    {
     "name": "stdout",
     "output_type": "stream",
     "text": [
      "['_D__sex', '__class__', '__delattr__', '__dict__', '__dir__', '__doc__', '__eq__', '__format__', '__ge__', '__getattribute__', '__gt__', '__hash__', '__init__', '__init_subclass__', '__le__', '__lt__', '__module__', '__ne__', '__new__', '__reduce__', '__reduce_ex__', '__repr__', '__setattr__', '__sizeof__', '__str__', '__subclasshook__', '__weakref__', '_age', 'name']\n"
     ]
    }
   ],
   "source": [
    "res = dir(obj)\n",
    "print(res)"
   ]
  },
  {
   "cell_type": "code",
   "execution_count": 30,
   "metadata": {},
   "outputs": [
    {
     "data": {
      "text/plain": [
       "'female'"
      ]
     },
     "execution_count": 30,
     "metadata": {},
     "output_type": "execute_result"
    }
   ],
   "source": [
    "getattr(obj, '_D__sex')"
   ]
  },
  {
   "cell_type": "markdown",
   "metadata": {},
   "source": [
    "## Magic Methods"
   ]
  },
  {
   "cell_type": "code",
   "execution_count": 40,
   "metadata": {},
   "outputs": [
    {
     "name": "stdout",
     "output_type": "stream",
     "text": [
      "('Zhang Sanfeng', 210, 'Male')\n",
      "<class '__main__.Person'>\n",
      "Initialization method triggered: __init__\n",
      "Destructor method triggered: __del__\n",
      "<__main__.Person object at 0x10a8e43a0>\n",
      "You have called the object as if it were a function.\n"
     ]
    }
   ],
   "source": [
    "# Define a person\n",
    "class Person():\n",
    "\n",
    "    # Constructor method\n",
    "    def __new__(cls, *args, **kwargs):\n",
    "        print(args)\n",
    "        # print(kwargs)\n",
    "        print(cls)\n",
    "        return object.__new__(cls)\n",
    "\n",
    "    # Initialization method\n",
    "    def __init__(self, name, age, sex):\n",
    "        print('Initialization method triggered: __init__')\n",
    "        self.name = name\n",
    "        self.age = age\n",
    "        self.sex = sex\n",
    "\n",
    "    def __call__(self, *args, **kwargs):\n",
    "        print('You have called the object as if it were a function.')\n",
    "\n",
    "    # Destructor method\n",
    "    def __del__(self):\n",
    "        print('Destructor method triggered: __del__')\n",
    "\n",
    "# Instantiate an object\n",
    "zs = Person('Zhang Sanfeng', 210, 'Male')\n",
    "print(zs)\n",
    "zs()"
   ]
  },
  {
   "cell_type": "code",
   "execution_count": 32,
   "metadata": {},
   "outputs": [
    {
     "name": "stdout",
     "output_type": "stream",
     "text": [
      "0\n",
      "This is the content returned by repr.\n",
      "False\n"
     ]
    }
   ],
   "source": [
    "class Demo():\n",
    "    items = []\n",
    "\n",
    "    def __len__(self):\n",
    "        return len(self.items)\n",
    "    \n",
    "    # def __str__(self):\n",
    "    #     return '<__Demo__, this string returns a custom result defined by ChaHeng.>'\n",
    "    \n",
    "    def __repr__(self):\n",
    "        return 'This is the content returned by repr.'\n",
    "    \n",
    "    def __bool__(self):\n",
    "        return bool(self.items)\n",
    "\n",
    "# Instantiate an object\n",
    "obj = Demo()\n",
    "# obj.items = [1, 2, 3, 4, 5, 6, 7]\n",
    "print(len(obj))\n",
    "\n",
    "print(obj)\n",
    "\n",
    "res = bool(obj)\n",
    "print(res)"
   ]
  },
  {
   "cell_type": "code",
   "execution_count": 34,
   "metadata": {},
   "outputs": [
    {
     "name": "stdout",
     "output_type": "stream",
     "text": [
      "r1: 521, <class 'str'>\n",
      "r2: 521, <class 'str'>\n"
     ]
    }
   ],
   "source": [
    "num = 521\n",
    "r1 = str(num)\n",
    "r2 = repr(num)\n",
    "print(f'r1: {r1}, {type(r1)}')\n",
    "print(f'r2: {r2}, {type(r2)}')"
   ]
  },
  {
   "cell_type": "code",
   "execution_count": 35,
   "metadata": {},
   "outputs": [
    {
     "name": "stdout",
     "output_type": "stream",
     "text": [
      "r1: 521, <class 'str'>\n",
      "r2: '521', <class 'str'>\n"
     ]
    }
   ],
   "source": [
    "s = '521'\n",
    "r1 = str(s)\n",
    "r2 = repr(s)\n",
    "print(f'r1: {r1}, {type(r1)}')\n",
    "print(f'r2: {r2}, {type(r2)}')"
   ]
  },
  {
   "cell_type": "code",
   "execution_count": 36,
   "metadata": {},
   "outputs": [
    {
     "name": "stdout",
     "output_type": "stream",
     "text": [
      "None\n",
      "None\n"
     ]
    }
   ],
   "source": [
    "class Person():\n",
    "    name = 'name'\n",
    "    age = 0\n",
    "    sex = 'male'\n",
    "\n",
    "    def __init__(self, name, age, sex):\n",
    "        self.name = name\n",
    "        self.age = age\n",
    "        self.sex = sex\n",
    "\n",
    "    def say(self):\n",
    "        print('say something...')\n",
    "\n",
    "    def sing(self):\n",
    "        print('sing a song...')\n",
    "\n",
    "    def __getattribute__(self, item):\n",
    "        # Use `object` to get the attribute value in the method\n",
    "        res = object.__getattribute__(self, item)\n",
    "        \n",
    "\n",
    "# Instantiate an object\n",
    "obj = Person('Zhang Sanfeng', 280, 'Male')\n",
    "print(obj.name)\n",
    "print(obj.sex)"
   ]
  },
  {
   "cell_type": "code",
   "execution_count": null,
   "metadata": {},
   "outputs": [],
   "source": []
  }
 ],
 "metadata": {
  "kernelspec": {
   "display_name": "base",
   "language": "python",
   "name": "python3"
  },
  "language_info": {
   "codemirror_mode": {
    "name": "ipython",
    "version": 3
   },
   "file_extension": ".py",
   "mimetype": "text/x-python",
   "name": "python",
   "nbconvert_exporter": "python",
   "pygments_lexer": "ipython3",
   "version": "3.10.12"
  },
  "orig_nbformat": 4
 },
 "nbformat": 4,
 "nbformat_minor": 2
}
