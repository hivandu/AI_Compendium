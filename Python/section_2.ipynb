{
 "cells": [
  {
   "cell_type": "markdown",
   "metadata": {},
   "source": [
    "# SECTION 2"
   ]
  },
  {
   "cell_type": "code",
   "execution_count": 2,
   "metadata": {},
   "outputs": [
    {
     "name": "stdout",
     "output_type": "stream",
     "text": [
      "Hello AI COMPENDIUM\n"
     ]
    }
   ],
   "source": [
    "print (\"Hello AI COMPENDIUM\")"
   ]
  },
  {
   "cell_type": "code",
   "execution_count": 3,
   "metadata": {},
   "outputs": [
    {
     "name": "stdout",
     "output_type": "stream",
     "text": [
      "10 20\n"
     ]
    }
   ],
   "source": [
    "# The first one\n",
    "a = 10\n",
    "b = 20\n",
    "print(a, b)"
   ]
  },
  {
   "cell_type": "code",
   "execution_count": 4,
   "metadata": {},
   "outputs": [
    {
     "name": "stdout",
     "output_type": "stream",
     "text": [
      "30 40\n"
     ]
    }
   ],
   "source": [
    "# The second one\n",
    "a, b = 30, 40\n",
    "print(a, b)"
   ]
  },
  {
   "cell_type": "code",
   "execution_count": 5,
   "metadata": {},
   "outputs": [
    {
     "name": "stdout",
     "output_type": "stream",
     "text": [
      "20 10\n"
     ]
    }
   ],
   "source": [
    "# Normal way of exchanging data\n",
    "a = 10\n",
    "b = 20\n",
    "\n",
    "c = a\n",
    "a = b\n",
    "b = c\n",
    "\n",
    "print(a, b)"
   ]
  },
  {
   "cell_type": "code",
   "execution_count": 6,
   "metadata": {},
   "outputs": [
    {
     "name": "stdout",
     "output_type": "stream",
     "text": [
      "20 10\n"
     ]
    }
   ],
   "source": [
    "# The syntactic way to define a ratio variable\n",
    "a = 10\n",
    "b = 20\n",
    "a,b = b,a\n",
    "print(a, b)"
   ]
  },
  {
   "cell_type": "code",
   "execution_count": 7,
   "metadata": {},
   "outputs": [
    {
     "name": "stdout",
     "output_type": "stream",
     "text": [
      "<class 'str'>\n"
     ]
    }
   ],
   "source": [
    "s = 'ilovehivan'\n",
    "res = type(s)\n",
    "print(res)"
   ]
  },
  {
   "cell_type": "code",
   "execution_count": 8,
   "metadata": {},
   "outputs": [],
   "source": [
    "# Single and double quotes are defined\n",
    "love = 'iloveyou'\n",
    "hello = \"Hello, world\"\n",
    "\n",
    "# Use triple quotes for large strings, generally used for large text strings, and large strings that can be line-breaking\n",
    "s = '''\n",
    "For example, this one\n",
    "Very, very long article content.\n",
    "'''"
   ]
  },
  {
   "cell_type": "code",
   "execution_count": 9,
   "metadata": {},
   "outputs": [
    {
     "name": "stdout",
     "output_type": "stream",
     "text": [
      "30\n"
     ]
    }
   ],
   "source": [
    "# Number\n",
    "'''\n",
    "int Integer type\n",
    "float Floating point\n",
    "complex Complex numbers\n",
    "bool Boolean (True, False)\n",
    "'''\n",
    "varn = 521\n",
    "varn = -1111\n",
    "\n",
    "varn = 3.1415926\n",
    "\n",
    "varn = 0x10 # hexadecimal\n",
    "\n",
    "varn = b'001100111' # bytes\n",
    "\n",
    "# complex numbers\n",
    "varn = 5+6j # complex\n",
    "\n",
    "# boolean bool\n",
    "varn = True\n",
    "varn = False\n",
    "# print(varn,type(varn))\n",
    "\n",
    "# Numeric types can be involved in arithmetic\n",
    "a = 10\n",
    "b = 20\n",
    "print(a+b)"
   ]
  },
  {
   "cell_type": "code",
   "execution_count": 10,
   "metadata": {},
   "outputs": [
    {
     "name": "stdout",
     "output_type": "stream",
     "text": [
      "521\n"
     ]
    }
   ],
   "source": [
    "# On subscripts in lists\n",
    "'''\n",
    "  0 1 2 3 4\n",
    "['a','b',521,'pai',3.1415926]\n",
    " -5-4-3-2-1.\n",
    "'''\n",
    "a = ['a','b',521,'pai',3.1415926]\n",
    "print(a[-3])"
   ]
  },
  {
   "cell_type": "code",
   "execution_count": 11,
   "metadata": {},
   "outputs": [],
   "source": [
    "vart = (1,2,3,'a','b')\n",
    "# Other ways to define a tuple\n",
    "vart = 1,2,3"
   ]
  },
  {
   "cell_type": "code",
   "execution_count": 12,
   "metadata": {},
   "outputs": [
    {
     "name": "stdout",
     "output_type": "stream",
     "text": [
      "<Python Compendium>\n",
      "{'a': 'aa', 'b': 10, 'c': 20, 1: 'abcdef', '2': '2222'}\n"
     ]
    }
   ],
   "source": [
    "# For example, you need to record data about a book Title, Author, Price,....\n",
    "vard = {'title':'<Python Compendium>','author':'Hivan Du','price':'29.99'}\n",
    "# print(vard,type(vard))\n",
    "# {'title': '<Python Compendium>', 'author': 'Hivan Du', 'price': '29.99'} \n",
    "\n",
    "# Get the values in the dictionary\n",
    "print(vard['title'])\n",
    "# Keys in the dictionary cannot be reused or they will be overwritten\n",
    "vard = {'a':10,'b':10,'c':20,'a':'aa',1:'abcdef','2':'2222'}\n",
    "print(vard)"
   ]
  },
  {
   "cell_type": "code",
   "execution_count": null,
   "metadata": {},
   "outputs": [],
   "source": []
  }
 ],
 "metadata": {
  "kernelspec": {
   "display_name": "ml",
   "language": "python",
   "name": "python3"
  },
  "language_info": {
   "codemirror_mode": {
    "name": "ipython",
    "version": 3
   },
   "file_extension": ".py",
   "mimetype": "text/x-python",
   "name": "python",
   "nbconvert_exporter": "python",
   "pygments_lexer": "ipython3",
   "version": "3.9.16"
  }
 },
 "nbformat": 4,
 "nbformat_minor": 2
}
