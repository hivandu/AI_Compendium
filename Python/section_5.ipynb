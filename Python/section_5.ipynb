{
 "cells": [
  {
   "cell_type": "markdown",
   "metadata": {},
   "source": [
    "# SECTION 5, Modular programming"
   ]
  },
  {
   "cell_type": "code",
   "execution_count": null,
   "metadata": {},
   "outputs": [],
   "source": [
    "# Function Definition [Basic Structure]\n",
    "def function_name([parameter_list]):\n",
    "    # Code for the specific functionality of this line\n",
    "    # Code for the specific functionality of this line\n",
    "    ..."
   ]
  },
  {
   "cell_type": "code",
   "execution_count": 4,
   "metadata": {},
   "outputs": [
    {
     "name": "stdout",
     "output_type": "stream",
     "text": [
      "i\n",
      "love\n",
      "u\n"
     ]
    }
   ],
   "source": [
    "# Function Definition\n",
    "def love():\n",
    "    print('i')\n",
    "    print('love')\n",
    "    print('u')\n",
    "\n",
    "# Function Call\n",
    "love()"
   ]
  },
  {
   "cell_type": "code",
   "execution_count": 6,
   "metadata": {},
   "outputs": [
    {
     "ename": "NameError",
     "evalue": "name 'love2' is not defined",
     "output_type": "error",
     "traceback": [
      "\u001b[0;31m---------------------------------------------------------------------------\u001b[0m",
      "\u001b[0;31mNameError\u001b[0m                                 Traceback (most recent call last)",
      "Cell \u001b[0;32mIn[6], line 2\u001b[0m\n\u001b[1;32m      1\u001b[0m \u001b[38;5;66;03m# Function Call\u001b[39;00m\n\u001b[0;32m----> 2\u001b[0m \u001b[43mlove2\u001b[49m()\n\u001b[1;32m      4\u001b[0m \u001b[38;5;66;03m# Function Definition\u001b[39;00m\n\u001b[1;32m      5\u001b[0m \u001b[38;5;28;01mdef\u001b[39;00m \u001b[38;5;21mlove2\u001b[39m():\n",
      "\u001b[0;31mNameError\u001b[0m: name 'love2' is not defined"
     ]
    }
   ],
   "source": [
    "# Function Call\n",
    "love2()\n",
    "\n",
    "# Function Definition\n",
    "def love2():\n",
    "    print('i')\n",
    "    print('love')\n",
    "    print('u')"
   ]
  },
  {
   "cell_type": "code",
   "execution_count": 7,
   "metadata": {},
   "outputs": [
    {
     "name": "stdout",
     "output_type": "stream",
     "text": [
      "i love Ma Hu\n"
     ]
    }
   ],
   "source": [
    "def love(w):\n",
    "    print(f'i love {w}')\n",
    "\n",
    "# Calling a function with formal parameters requires passing arguments (actual parameters)\n",
    "love('Ma Hu')"
   ]
  },
  {
   "cell_type": "code",
   "execution_count": 8,
   "metadata": {},
   "outputs": [
    {
     "name": "stdout",
     "output_type": "stream",
     "text": [
      "i love u\n"
     ]
    }
   ],
   "source": [
    "def love(m, n):\n",
    "    print(f'{m} love {n}')\n",
    "\n",
    "love('i', 'u')"
   ]
  },
  {
   "cell_type": "code",
   "execution_count": 9,
   "metadata": {},
   "outputs": [
    {
     "name": "stdout",
     "output_type": "stream",
     "text": [
      "2 100\n"
     ]
    }
   ],
   "source": [
    "def func(x, y=20):\n",
    "    print(x, y)\n",
    "\n",
    "func(2, 100)"
   ]
  },
  {
   "cell_type": "code",
   "execution_count": 18,
   "metadata": {},
   "outputs": [
    {
     "ename": "SyntaxError",
     "evalue": "non-default argument follows default argument (2913997035.py, line 11)",
     "output_type": "error",
     "traceback": [
      "\u001b[0;36m  Cell \u001b[0;32mIn[18], line 11\u001b[0;36m\u001b[0m\n\u001b[0;31m    def func(x, y=100, z):\u001b[0m\n\u001b[0m                        ^\u001b[0m\n\u001b[0;31mSyntaxError\u001b[0m\u001b[0;31m:\u001b[0m non-default argument follows default argument\n"
     ]
    }
   ],
   "source": [
    "# def func(x=100, y=200, z):\n",
    "#     print(x, y, z)\n",
    "\n",
    "# func(100,200,300)\n",
    "\n",
    "# def func(x=100, y, z=200):\n",
    "#     print(x, y, z)\n",
    "\n",
    "# func(100, 200, 300)\n",
    "\n",
    "def func(x, y=100, z):\n",
    "    print(x, y, z)\n",
    "\n",
    "func(300,200,50)"
   ]
  },
  {
   "cell_type": "code",
   "execution_count": 17,
   "metadata": {},
   "outputs": [
    {
     "name": "stdout",
     "output_type": "stream",
     "text": [
      "150\n"
     ]
    }
   ],
   "source": [
    "def func(x, y, z=100):\n",
    "  print(x + y + z)\n",
    "\n",
    "func(20, 30)"
   ]
  },
  {
   "cell_type": "code",
   "execution_count": 20,
   "metadata": {},
   "outputs": [
    {
     "name": "stdout",
     "output_type": "stream",
     "text": [
      "Subtraction operation (2, 3, 4, 5, 6, 7, 8)\n"
     ]
    }
   ],
   "source": [
    "def func(x=\"+\", *args):\n",
    "    if x == '+':\n",
    "        print('Addition operation', args)\n",
    "    else:\n",
    "        print('Subtraction operation', args)\n",
    "\n",
    "func(\"-\", 2, 3, 4, 5, 6, 7, 8)"
   ]
  },
  {
   "cell_type": "code",
   "execution_count": 22,
   "metadata": {},
   "outputs": [
    {
     "name": "stdout",
     "output_type": "stream",
     "text": [
      "Subtraction operation (2, 3, 4, 5, 6, 7, 8)\n"
     ]
    }
   ],
   "source": [
    "def func(x=\"+\", *y):\n",
    "    if x == '+':\n",
    "        print('Addition operation', y)\n",
    "    else:\n",
    "        print('Subtraction operation', y)\n",
    "\n",
    "func(\"-\", 2, 3, 4, 5, 6, 7, 8)"
   ]
  },
  {
   "cell_type": "code",
   "execution_count": 23,
   "metadata": {},
   "outputs": [
    {
     "name": "stdout",
     "output_type": "stream",
     "text": [
      "1 2 3 \n",
      " 4 5 6 7 8 \n",
      " Tea\n"
     ]
    }
   ],
   "source": [
    "def func(a, b, c=3, *args, name):\n",
    "    print(a, b, c, \"\\n\", *args, \"\\n\", name)\n",
    "\n",
    "func(1, 2, 3, 4, 5, 6, 7, 8, name='Tea')"
   ]
  },
  {
   "cell_type": "code",
   "execution_count": 26,
   "metadata": {},
   "outputs": [
    {
     "ename": "TypeError",
     "evalue": "func() missing 1 required keyword-only argument: 'name'",
     "output_type": "error",
     "traceback": [
      "\u001b[0;31m---------------------------------------------------------------------------\u001b[0m",
      "\u001b[0;31mTypeError\u001b[0m                                 Traceback (most recent call last)",
      "Cell \u001b[0;32mIn[26], line 4\u001b[0m\n\u001b[1;32m      1\u001b[0m \u001b[38;5;28;01mdef\u001b[39;00m \u001b[38;5;21mfunc\u001b[39m(a, b, c\u001b[38;5;241m=\u001b[39m\u001b[38;5;241m3\u001b[39m, \u001b[38;5;241m*\u001b[39margs, name):\n\u001b[1;32m      2\u001b[0m     \u001b[38;5;28mprint\u001b[39m(a, b, c, \u001b[38;5;124m\"\u001b[39m\u001b[38;5;130;01m\\n\u001b[39;00m\u001b[38;5;124m\"\u001b[39m, \u001b[38;5;241m*\u001b[39margs, \u001b[38;5;124m\"\u001b[39m\u001b[38;5;130;01m\\n\u001b[39;00m\u001b[38;5;124m\"\u001b[39m, name)\n\u001b[0;32m----> 4\u001b[0m \u001b[43mfunc\u001b[49m\u001b[43m(\u001b[49m\u001b[38;5;241;43m1\u001b[39;49m\u001b[43m,\u001b[49m\u001b[43m \u001b[49m\u001b[38;5;241;43m2\u001b[39;49m\u001b[43m,\u001b[49m\u001b[43m \u001b[49m\u001b[38;5;241;43m3\u001b[39;49m\u001b[43m,\u001b[49m\u001b[43m \u001b[49m\u001b[38;5;241;43m4\u001b[39;49m\u001b[43m,\u001b[49m\u001b[43m \u001b[49m\u001b[38;5;241;43m5\u001b[39;49m\u001b[43m,\u001b[49m\u001b[43m \u001b[49m\u001b[38;5;241;43m6\u001b[39;49m\u001b[43m,\u001b[49m\u001b[43m \u001b[49m\u001b[38;5;241;43m7\u001b[39;49m\u001b[43m,\u001b[49m\u001b[43m \u001b[49m\u001b[38;5;241;43m8\u001b[39;49m\u001b[43m,\u001b[49m\u001b[43m \u001b[49m\u001b[38;5;124;43m'\u001b[39;49m\u001b[38;5;124;43mTea\u001b[39;49m\u001b[38;5;124;43m'\u001b[39;49m\u001b[43m)\u001b[49m\n",
      "\u001b[0;31mTypeError\u001b[0m: func() missing 1 required keyword-only argument: 'name'"
     ]
    }
   ],
   "source": [
    "def func(a, b, c=3, *args, name):\n",
    "    print(a, b, c, \"\\n\", *args, \"\\n\", name)\n",
    "\n",
    "func(1, 2, 3, 4, 5, 6, 7, 8, 'Tea')"
   ]
  },
  {
   "cell_type": "code",
   "execution_count": 27,
   "metadata": {},
   "outputs": [
    {
     "name": "stdout",
     "output_type": "stream",
     "text": [
      "1 2 3 \n",
      " 4 5 6 7 8 Tea \n",
      " _Tea\n"
     ]
    }
   ],
   "source": [
    "def func(a, b, c=3, *args, name='_Tea'):\n",
    "    print(a, b, c, \"\\n\", *args, \"\\n\", name)\n",
    "\n",
    "func(1, 2, 3, 4, 5, 6, 7, 8, 'Tea')"
   ]
  },
  {
   "cell_type": "code",
   "execution_count": 29,
   "metadata": {},
   "outputs": [
    {
     "name": "stdout",
     "output_type": "stream",
     "text": [
      "2 \t 3\n",
      "3 \t 2\n"
     ]
    }
   ],
   "source": [
    "def func(x, y):\n",
    "    print(x, \"\\t\", y)\n",
    "\n",
    "func(2, 3)\n",
    "func(y = 2, x = 3)"
   ]
  },
  {
   "cell_type": "code",
   "execution_count": 30,
   "metadata": {},
   "outputs": [
    {
     "name": "stdout",
     "output_type": "stream",
     "text": [
      "1 2 4\n",
      "(112, 123, 321, 541, 231)\n",
      "Tea 18\n",
      "{'sex': 'male', 'height': 185, 'x': 'x', 'y': 'y'}\n"
     ]
    }
   ],
   "source": [
    "def func(a, b, c=3, *args, name, age, **kwargs):\n",
    "    print(a, b, c)\n",
    "    print(args) # Regular collecting parameters, which gather extra parameters into a tuple\n",
    "    print(name, age)\n",
    "    print(kwargs) # Keyword collecting parameters, which gather extra keyword arguments into a dictionary\n",
    "\n",
    "func(1, 2, 4, 112, 123, 321, 541, 231, name=\"Tea\", age=18, sex='male', height=185, x='x', y='y')"
   ]
  },
  {
   "cell_type": "code",
   "execution_count": 31,
   "metadata": {},
   "outputs": [],
   "source": [
    "def func(a, b):\n",
    "    print(f'{a} love {b}')"
   ]
  },
  {
   "cell_type": "code",
   "execution_count": 32,
   "metadata": {},
   "outputs": [
    {
     "name": "stdout",
     "output_type": "stream",
     "text": [
      "Mouse love Pudding\n"
     ]
    }
   ],
   "source": [
    "# Function with a return value\n",
    "def func(a, b):\n",
    "    res = f'{a} love {b}'\n",
    "    # Use return to specify the return value\n",
    "    return res\n",
    "\n",
    "r = func('Mouse', 'Pudding')\n",
    "print(r)"
   ]
  },
  {
   "cell_type": "code",
   "execution_count": 33,
   "metadata": {},
   "outputs": [
    {
     "name": "stdout",
     "output_type": "stream",
     "text": [
      "This is before return\n",
      "Mouse love Pudding\n"
     ]
    }
   ],
   "source": [
    "def func(a, b):\n",
    "    res = f'{a} love {b}'\n",
    "    print('This is before return')\n",
    "    return res\n",
    "    print('This is after return')\n",
    "\n",
    "r = func('Mouse', 'Pudding')\n",
    "print(r)"
   ]
  },
  {
   "cell_type": "code",
   "execution_count": 34,
   "metadata": {},
   "outputs": [
    {
     "name": "stdout",
     "output_type": "stream",
     "text": [
      "3\n"
     ]
    }
   ],
   "source": [
    "def func(x, y):\n",
    "    res = x + y\n",
    "    return res\n",
    "\n",
    "r = func(1, 2)\n",
    "print(r)"
   ]
  },
  {
   "cell_type": "code",
   "execution_count": 36,
   "metadata": {},
   "outputs": [
    {
     "name": "stdout",
     "output_type": "stream",
     "text": [
      "10\n"
     ]
    }
   ],
   "source": [
    "num = 10\n",
    "def func():\n",
    "    print(num)\n",
    "\n",
    "func()"
   ]
  },
  {
   "cell_type": "code",
   "execution_count": 37,
   "metadata": {},
   "outputs": [
    {
     "ename": "UnboundLocalError",
     "evalue": "local variable 'num' referenced before assignment",
     "output_type": "error",
     "traceback": [
      "\u001b[0;31m---------------------------------------------------------------------------\u001b[0m",
      "\u001b[0;31mUnboundLocalError\u001b[0m                         Traceback (most recent call last)",
      "Cell \u001b[0;32mIn[37], line 6\u001b[0m\n\u001b[1;32m      3\u001b[0m     num \u001b[38;5;241m+\u001b[39m\u001b[38;5;241m=\u001b[39m \u001b[38;5;241m20\u001b[39m\n\u001b[1;32m      4\u001b[0m     \u001b[38;5;28mprint\u001b[39m(num)\n\u001b[0;32m----> 6\u001b[0m \u001b[43mfunc\u001b[49m\u001b[43m(\u001b[49m\u001b[43m)\u001b[49m\n",
      "Cell \u001b[0;32mIn[37], line 3\u001b[0m, in \u001b[0;36mfunc\u001b[0;34m()\u001b[0m\n\u001b[1;32m      2\u001b[0m \u001b[38;5;28;01mdef\u001b[39;00m \u001b[38;5;21mfunc\u001b[39m():\n\u001b[0;32m----> 3\u001b[0m     num \u001b[38;5;241m+\u001b[39m\u001b[38;5;241m=\u001b[39m \u001b[38;5;241m20\u001b[39m\n\u001b[1;32m      4\u001b[0m     \u001b[38;5;28mprint\u001b[39m(num)\n",
      "\u001b[0;31mUnboundLocalError\u001b[0m: local variable 'num' referenced before assignment"
     ]
    }
   ],
   "source": [
    "num = 10\n",
    "def func():\n",
    "    num += 20\n",
    "    print(num)\n",
    "\n",
    "func()"
   ]
  },
  {
   "cell_type": "code",
   "execution_count": 38,
   "metadata": {},
   "outputs": [
    {
     "name": "stdout",
     "output_type": "stream",
     "text": [
      "[20, 2, 3, 4, 5]\n"
     ]
    }
   ],
   "source": [
    "items = [1, 2, 3, 4, 5]\n",
    "def func():\n",
    "    items[0] = 20\n",
    "    print(items)\n",
    "\n",
    "func()"
   ]
  },
  {
   "cell_type": "code",
   "execution_count": 39,
   "metadata": {},
   "outputs": [
    {
     "name": "stdout",
     "output_type": "stream",
     "text": [
      "30\n"
     ]
    }
   ],
   "source": [
    "num = 20\n",
    "def func():\n",
    "    global num\n",
    "    num += 10\n",
    "    print(num)\n",
    "\n",
    "func()"
   ]
  },
  {
   "cell_type": "code",
   "execution_count": 40,
   "metadata": {},
   "outputs": [
    {
     "ename": "UnboundLocalError",
     "evalue": "local variable 'num' referenced before assignment",
     "output_type": "error",
     "traceback": [
      "\u001b[0;31m---------------------------------------------------------------------------\u001b[0m",
      "\u001b[0;31mUnboundLocalError\u001b[0m                         Traceback (most recent call last)",
      "Cell \u001b[0;32mIn[40], line 7\u001b[0m\n\u001b[1;32m      4\u001b[0m     num \u001b[38;5;241m+\u001b[39m\u001b[38;5;241m=\u001b[39m \u001b[38;5;241m10\u001b[39m\n\u001b[1;32m      5\u001b[0m     \u001b[38;5;28mprint\u001b[39m(num)\n\u001b[0;32m----> 7\u001b[0m \u001b[43mfunc\u001b[49m\u001b[43m(\u001b[49m\u001b[43m)\u001b[49m\n",
      "Cell \u001b[0;32mIn[40], line 4\u001b[0m, in \u001b[0;36mfunc\u001b[0;34m()\u001b[0m\n\u001b[1;32m      3\u001b[0m \u001b[38;5;28;01mdef\u001b[39;00m \u001b[38;5;21mfunc\u001b[39m():\n\u001b[0;32m----> 4\u001b[0m     num \u001b[38;5;241m+\u001b[39m\u001b[38;5;241m=\u001b[39m \u001b[38;5;241m10\u001b[39m\n\u001b[1;32m      5\u001b[0m     \u001b[38;5;28mprint\u001b[39m(num)\n",
      "\u001b[0;31mUnboundLocalError\u001b[0m: local variable 'num' referenced before assignment"
     ]
    }
   ],
   "source": [
    "global num\n",
    "num = 20\n",
    "def func():\n",
    "    num += 10\n",
    "    print(num)\n",
    "\n",
    "func()"
   ]
  },
  {
   "cell_type": "code",
   "execution_count": 41,
   "metadata": {},
   "outputs": [
    {
     "name": "stdout",
     "output_type": "stream",
     "text": [
      "this is outer func...\n"
     ]
    },
    {
     "ename": "NameError",
     "evalue": "name 'inner' is not defined",
     "output_type": "error",
     "traceback": [
      "\u001b[0;31m---------------------------------------------------------------------------\u001b[0m",
      "\u001b[0;31mNameError\u001b[0m                                 Traceback (most recent call last)",
      "Cell \u001b[0;32mIn[41], line 8\u001b[0m\n\u001b[1;32m      5\u001b[0m         \u001b[38;5;28mprint\u001b[39m(\u001b[38;5;124m'\u001b[39m\u001b[38;5;124mthis is inner func...\u001b[39m\u001b[38;5;124m'\u001b[39m)\n\u001b[1;32m      7\u001b[0m outer()\n\u001b[0;32m----> 8\u001b[0m \u001b[43minner\u001b[49m()\n",
      "\u001b[0;31mNameError\u001b[0m: name 'inner' is not defined"
     ]
    }
   ],
   "source": [
    "# Function scope\n",
    "def outer():\n",
    "    print('this is outer func...')\n",
    "    def inner():\n",
    "        print('this is inner func...')\n",
    "\n",
    "outer()\n",
    "inner()"
   ]
  },
  {
   "cell_type": "code",
   "execution_count": 42,
   "metadata": {},
   "outputs": [
    {
     "name": "stdout",
     "output_type": "stream",
     "text": [
      "this is outer func...\n",
      "this is inner func...\n"
     ]
    }
   ],
   "source": [
    "# Function scope\n",
    "def outer():\n",
    "    print('this is outer func...')\n",
    "    def inner():\n",
    "        print('this is inner func...')\n",
    "    inner() # Executed within the function\n",
    "\n",
    "outer()"
   ]
  },
  {
   "cell_type": "code",
   "execution_count": 43,
   "metadata": {},
   "outputs": [
    {
     "name": "stdout",
     "output_type": "stream",
     "text": [
      "this is outer func...\n"
     ]
    },
    {
     "ename": "UnboundLocalError",
     "evalue": "local variable 'a' referenced before assignment",
     "output_type": "error",
     "traceback": [
      "\u001b[0;31m---------------------------------------------------------------------------\u001b[0m",
      "\u001b[0;31mUnboundLocalError\u001b[0m                         Traceback (most recent call last)",
      "Cell \u001b[0;32mIn[43], line 10\u001b[0m\n\u001b[1;32m      8\u001b[0m         \u001b[38;5;28mprint\u001b[39m(a)\n\u001b[1;32m      9\u001b[0m     inner()\n\u001b[0;32m---> 10\u001b[0m \u001b[43mouter\u001b[49m\u001b[43m(\u001b[49m\u001b[43m)\u001b[49m\n",
      "Cell \u001b[0;32mIn[43], line 9\u001b[0m, in \u001b[0;36mouter\u001b[0;34m()\u001b[0m\n\u001b[1;32m      7\u001b[0m     \u001b[38;5;28mprint\u001b[39m(\u001b[38;5;124m'\u001b[39m\u001b[38;5;124mthis is inner func...\u001b[39m\u001b[38;5;124m'\u001b[39m)\n\u001b[1;32m      8\u001b[0m     \u001b[38;5;28mprint\u001b[39m(a)\n\u001b[0;32m----> 9\u001b[0m \u001b[43minner\u001b[49m\u001b[43m(\u001b[49m\u001b[43m)\u001b[49m\n",
      "Cell \u001b[0;32mIn[43], line 6\u001b[0m, in \u001b[0;36mouter.<locals>.inner\u001b[0;34m()\u001b[0m\n\u001b[1;32m      5\u001b[0m \u001b[38;5;28;01mdef\u001b[39;00m \u001b[38;5;21minner\u001b[39m():\n\u001b[0;32m----> 6\u001b[0m     a \u001b[38;5;241m+\u001b[39m\u001b[38;5;241m=\u001b[39m \u001b[38;5;241m1\u001b[39m\n\u001b[1;32m      7\u001b[0m     \u001b[38;5;28mprint\u001b[39m(\u001b[38;5;124m'\u001b[39m\u001b[38;5;124mthis is inner func...\u001b[39m\u001b[38;5;124m'\u001b[39m)\n\u001b[1;32m      8\u001b[0m     \u001b[38;5;28mprint\u001b[39m(a)\n",
      "\u001b[0;31mUnboundLocalError\u001b[0m: local variable 'a' referenced before assignment"
     ]
    }
   ],
   "source": [
    "# Function scope\n",
    "def outer():\n",
    "    a = 2\n",
    "    print('this is outer func...')\n",
    "    def inner():\n",
    "        a += 1\n",
    "        print('this is inner func...')\n",
    "        print(a)\n",
    "    inner()\n",
    "outer()"
   ]
  },
  {
   "cell_type": "code",
   "execution_count": 44,
   "metadata": {},
   "outputs": [
    {
     "name": "stdout",
     "output_type": "stream",
     "text": [
      "11\n"
     ]
    }
   ],
   "source": [
    "# Define an outer function\n",
    "def outer():\n",
    "    # Local variable in the outer function\n",
    "    num = 10\n",
    "    # Inner function\n",
    "    def inner():\n",
    "        # Use the nonlocal keyword\n",
    "        nonlocal num # Can refer to the variable defined in the outer function\n",
    "        num += 1\n",
    "        print(num)\n",
    "    inner()\n",
    "outer()"
   ]
  },
  {
   "cell_type": "code",
   "execution_count": 45,
   "metadata": {},
   "outputs": [
    {
     "name": "stdout",
     "output_type": "stream",
     "text": [
      "{'__name__': '__main__', '__doc__': 'Automatically created module for IPython interactive environment', '__package__': None, '__loader__': None, '__spec__': None, '__builtin__': <module 'builtins' (built-in)>, '__builtins__': <module 'builtins' (built-in)>, '_ih': ['', 'def func():\\n    \"\"\"\\n    This is where you write the documentation for the function.\\n    You should explain the function\\'s purpose,\\n    and if it has parameters, describe each one.\\n    name: This is a name parameter used to receive the name.\\n    age: This parameter represents the age.\\n    :return: Here you describe the return value of the function.\\n    \"\"\"\\n    pass', 'print(func.__doc__)', '# Function Definition [Basic Structure]\\ndef function_name([parameter_list]):\\n    # Code for the specific functionality of this line\\n    # Code for the specific functionality of this line\\n    ...', \"# Function Definition\\ndef love():\\n    print('i')\\n    print('love')\\n    print('u')\\n\\n# Function Call\\nlove()\", \"# Function Call\\nlove()\\n\\n# Function Definition\\ndef love():\\n    print('i')\\n    print('love')\\n    print('u')\", \"# Function Call\\nlove2()\\n\\n# Function Definition\\ndef love2():\\n    print('i')\\n    print('love')\\n    print('u')\", \"def love(w):\\n    print(f'i love {w}')\\n\\n# Calling a function with formal parameters requires passing arguments (actual parameters)\\nlove('Ma Hu')\", \"def love(m, n):\\n    print(f'{m} love {n}')\\n\\nlove('i', 'u')\", 'def func(x, y=20):\\n    print(x, y)\\n\\nfunc(2, 100)', 'def func(x=100, y=200, z):\\n    print(x, y, z)\\n\\nfunc(100,200,300)\\n\\ndef func(x=100, y, z=200):\\n    print(x, y, z)\\n\\nfunc(100, 200, 300)\\n\\ndef func(x, y=100, z):\\n    print(x, y, z)\\n\\nfunc(300,200,50)', 'def func(x=100, y=200, z):\\n    print(x, y, z)\\n\\n# func(100,200,300)\\n\\n# def func(x=100, y, z=200):\\n#     print(x, y, z)\\n\\n# func(100, 200, 300)\\n\\n# def func(x, y=100, z):\\n#     print(x, y, z)\\n\\n# func(300,200,50)', 'def func(x=100, y=200, z=1):\\n    print(x, y, z)\\n\\n# func(100,200,300)\\n\\n# def func(x=100, y, z=200):\\n#     print(x, y, z)\\n\\n# func(100, 200, 300)\\n\\n# def func(x, y=100, z):\\n#     print(x, y, z)\\n\\n# func(300,200,50)', 'def func(x=100, y=200, z):\\n    print(x, y, z)\\n\\nfunc(100,200,300)\\n\\ndef func(x=100, y, z=200):\\n    print(x, y, z)\\n\\nfunc(100, 200, 300)\\n\\ndef func(x, y=100, z):\\n    print(x, y, z)\\n\\nfunc(300,200,50)', '# def func(x=100, y=200, z):\\n#     print(x, y, z)\\n\\n# func(100,200,300)\\n\\ndef func(x=100, y, z=200):\\n    print(x, y, z)\\n\\nfunc(100, 200, 300)\\n\\ndef func(x, y=100, z):\\n    print(x, y, z)\\n\\nfunc(300,200,50)', '# def func(x=100, y=200, z):\\n#     print(x, y, z)\\n\\n# func(100,200,300)\\n\\n# def func(x=100, y, z=200):\\n#     print(x, y, z)\\n\\n# func(100, 200, 300)\\n\\ndef func(x, y=100, z):\\n    print(x, y, z)\\n\\nfunc(300,200,50)', '# def func(x=100, y=200, z):\\n#     print(x, y, z)\\n\\n# func(100,200,300)\\n\\n# def func(x=100, y, z=200):\\n#     print(x, y, z)\\n\\n# func(100, 200, 300)\\n\\ndef func(x, y=100, z=10):\\n    print(x, y, z)\\n\\nfunc(300,200,50)', 'def func(x, y, z=100):\\n  print(x + y + z)\\n\\nfunc(20, 30)', '# def func(x=100, y=200, z):\\n#     print(x, y, z)\\n\\n# func(100,200,300)\\n\\n# def func(x=100, y, z=200):\\n#     print(x, y, z)\\n\\n# func(100, 200, 300)\\n\\ndef func(x, y=100, z):\\n    print(x, y, z)\\n\\nfunc(300,200,50)', 'def func(x=\"+\", *args):\\n    if x == \\'+\\':\\n        print(\\'Addition operation\\', args)\\n    else:\\n        print(\\'Subtraction operation\\', args)\\n\\nfunc(\"-\", 2, 3, 4, 5, 6, 7, 8)', 'def func(x=\"+\", *args):\\n    if x == \\'+\\':\\n        print(\\'Addition operation\\', args)\\n    else:\\n        print(\\'Subtraction operation\\', args)\\n\\nfunc(\"-\", 2, 3, 4, 5, 6, 7, 8)', 'def func(x=\"+\", *y):\\n    if x == \\'+\\':\\n        print(\\'加法运算\\', y)\\n    else:\\n        print(\\'减法运算\\', y)\\n\\nfunc(\"-\", 2, 3, 4, 5, 6, 7, 8)', 'def func(x=\"+\", *y):\\n    if x == \\'+\\':\\n        print(\\'Addition operation\\', y)\\n    else:\\n        print(\\'Subtraction operation\\', y)\\n\\nfunc(\"-\", 2, 3, 4, 5, 6, 7, 8)', 'def func(a, b, c=3, *args, name):\\n    print(a, b, c, \"\\\\n\", *args, \"\\\\n\", name)\\n\\nfunc(1, 2, 3, 4, 5, 6, 7, 8, name=\\'Tea\\')', 'def func(a, b, c=3, *args, name):\\n    print(a, b, c, \"\\\\n\", *args, \"\\\\n\", name)\\n\\nfunc(1, 2, 3, 4, 5, 6, 7, 8, \\'Tea\\')', 'def func(a, b, c=3, *args, name=\\'_Tea\\'):\\n    print(a, b, c, \"\\\\n\", *args, \"\\\\n\", name)\\n\\nfunc(1, 2, 3, 4, 5, 6, 7, 8, \\'Tea\\')', 'def func(a, b, c=3, *args, name):\\n    print(a, b, c, \"\\\\n\", *args, \"\\\\n\", name)\\n\\nfunc(1, 2, 3, 4, 5, 6, 7, 8, \\'Tea\\')', 'def func(a, b, c=3, *args, name=\\'_Tea\\'):\\n    print(a, b, c, \"\\\\n\", *args, \"\\\\n\", name)\\n\\nfunc(1, 2, 3, 4, 5, 6, 7, 8, \\'Tea\\')', 'def func(x, y):\\n    print(x, \"\\\\t\", y)\\n\\nfunc(2, 3)\\nfunc(y=2, x=3)', 'def func(x, y):\\n    print(x, \"\\\\t\", y)\\n\\nfunc(2, 3)\\nfunc(y = 2, x = 3)', 'def func(a, b, c=3, *args, name, age, **kwargs):\\n    print(a, b, c)\\n    print(args) # Regular collecting parameters, which gather extra parameters into a tuple\\n    print(name, age)\\n    print(kwargs) # Keyword collecting parameters, which gather extra keyword arguments into a dictionary\\n\\nfunc(1, 2, 4, 112, 123, 321, 541, 231, name=\"Tea\", age=18, sex=\\'male\\', height=185, x=\\'x\\', y=\\'y\\')', \"def func(a, b):\\n    print(f'{a} love {b}')\", \"# Function with a return value\\ndef func(a, b):\\n    res = f'{a} love {b}'\\n    # Use return to specify the return value\\n    return res\\n\\nr = func('Mouse', 'Pudding')\\nprint(r)\", \"def func(a, b):\\n    res = f'{a} love {b}'\\n    print('This is before return')\\n    return res\\n    print('This is after return')\\n\\nr = func('Mouse', 'Pudding')\\nprint(r)\", 'def func(x, y):\\n    res = x + y\\n    return res\\n\\nr = func(1, 2)\\nprint(r)', 'def func():\\n    a = 20\\n    \\nprint(a)', 'num = 10\\ndef func():\\n    print(num)\\n\\nfunc()', 'num = 10\\ndef func():\\n    num += 20\\n    print(num)\\n\\nfunc()', 'items = [1, 2, 3, 4, 5]\\ndef func():\\n    items[0] = 20\\n    print(items)\\n\\nfunc()', 'num = 20\\ndef func():\\n    global num\\n    num += 10\\n    print(num)\\n\\nfunc()', 'global num\\nnum = 20\\ndef func():\\n    num += 10\\n    print(num)\\n\\nfunc()', \"# Function scope\\ndef outer():\\n    print('this is outer func...')\\n    def inner():\\n        print('this is inner func...')\\n\\nouter()\\ninner()\", \"# Function scope\\ndef outer():\\n    print('this is outer func...')\\n    def inner():\\n        print('this is inner func...')\\n    inner() # Executed within the function\\n\\nouter()\", \"# Function scope\\ndef outer():\\n    a = 2\\n    print('this is outer func...')\\n    def inner():\\n        a += 1\\n        print('this is inner func...')\\n        print(a)\\n    inner()\\nouter()\", '# Define an outer function\\ndef outer():\\n    # Local variable in the outer function\\n    num = 10\\n    # Inner function\\n    def inner():\\n        # Use the nonlocal keyword\\n        nonlocal num # Can refer to the variable defined in the outer function\\n        num += 1\\n        print(num)\\n    inner()\\nouter()', 'print(globals())'], '_oh': {}, '_dh': [PosixPath('/Volumes/Library/SynologyDrive/AI_Compendium/Python')], 'In': ['', 'def func():\\n    \"\"\"\\n    This is where you write the documentation for the function.\\n    You should explain the function\\'s purpose,\\n    and if it has parameters, describe each one.\\n    name: This is a name parameter used to receive the name.\\n    age: This parameter represents the age.\\n    :return: Here you describe the return value of the function.\\n    \"\"\"\\n    pass', 'print(func.__doc__)', '# Function Definition [Basic Structure]\\ndef function_name([parameter_list]):\\n    # Code for the specific functionality of this line\\n    # Code for the specific functionality of this line\\n    ...', \"# Function Definition\\ndef love():\\n    print('i')\\n    print('love')\\n    print('u')\\n\\n# Function Call\\nlove()\", \"# Function Call\\nlove()\\n\\n# Function Definition\\ndef love():\\n    print('i')\\n    print('love')\\n    print('u')\", \"# Function Call\\nlove2()\\n\\n# Function Definition\\ndef love2():\\n    print('i')\\n    print('love')\\n    print('u')\", \"def love(w):\\n    print(f'i love {w}')\\n\\n# Calling a function with formal parameters requires passing arguments (actual parameters)\\nlove('Ma Hu')\", \"def love(m, n):\\n    print(f'{m} love {n}')\\n\\nlove('i', 'u')\", 'def func(x, y=20):\\n    print(x, y)\\n\\nfunc(2, 100)', 'def func(x=100, y=200, z):\\n    print(x, y, z)\\n\\nfunc(100,200,300)\\n\\ndef func(x=100, y, z=200):\\n    print(x, y, z)\\n\\nfunc(100, 200, 300)\\n\\ndef func(x, y=100, z):\\n    print(x, y, z)\\n\\nfunc(300,200,50)', 'def func(x=100, y=200, z):\\n    print(x, y, z)\\n\\n# func(100,200,300)\\n\\n# def func(x=100, y, z=200):\\n#     print(x, y, z)\\n\\n# func(100, 200, 300)\\n\\n# def func(x, y=100, z):\\n#     print(x, y, z)\\n\\n# func(300,200,50)', 'def func(x=100, y=200, z=1):\\n    print(x, y, z)\\n\\n# func(100,200,300)\\n\\n# def func(x=100, y, z=200):\\n#     print(x, y, z)\\n\\n# func(100, 200, 300)\\n\\n# def func(x, y=100, z):\\n#     print(x, y, z)\\n\\n# func(300,200,50)', 'def func(x=100, y=200, z):\\n    print(x, y, z)\\n\\nfunc(100,200,300)\\n\\ndef func(x=100, y, z=200):\\n    print(x, y, z)\\n\\nfunc(100, 200, 300)\\n\\ndef func(x, y=100, z):\\n    print(x, y, z)\\n\\nfunc(300,200,50)', '# def func(x=100, y=200, z):\\n#     print(x, y, z)\\n\\n# func(100,200,300)\\n\\ndef func(x=100, y, z=200):\\n    print(x, y, z)\\n\\nfunc(100, 200, 300)\\n\\ndef func(x, y=100, z):\\n    print(x, y, z)\\n\\nfunc(300,200,50)', '# def func(x=100, y=200, z):\\n#     print(x, y, z)\\n\\n# func(100,200,300)\\n\\n# def func(x=100, y, z=200):\\n#     print(x, y, z)\\n\\n# func(100, 200, 300)\\n\\ndef func(x, y=100, z):\\n    print(x, y, z)\\n\\nfunc(300,200,50)', '# def func(x=100, y=200, z):\\n#     print(x, y, z)\\n\\n# func(100,200,300)\\n\\n# def func(x=100, y, z=200):\\n#     print(x, y, z)\\n\\n# func(100, 200, 300)\\n\\ndef func(x, y=100, z=10):\\n    print(x, y, z)\\n\\nfunc(300,200,50)', 'def func(x, y, z=100):\\n  print(x + y + z)\\n\\nfunc(20, 30)', '# def func(x=100, y=200, z):\\n#     print(x, y, z)\\n\\n# func(100,200,300)\\n\\n# def func(x=100, y, z=200):\\n#     print(x, y, z)\\n\\n# func(100, 200, 300)\\n\\ndef func(x, y=100, z):\\n    print(x, y, z)\\n\\nfunc(300,200,50)', 'def func(x=\"+\", *args):\\n    if x == \\'+\\':\\n        print(\\'Addition operation\\', args)\\n    else:\\n        print(\\'Subtraction operation\\', args)\\n\\nfunc(\"-\", 2, 3, 4, 5, 6, 7, 8)', 'def func(x=\"+\", *args):\\n    if x == \\'+\\':\\n        print(\\'Addition operation\\', args)\\n    else:\\n        print(\\'Subtraction operation\\', args)\\n\\nfunc(\"-\", 2, 3, 4, 5, 6, 7, 8)', 'def func(x=\"+\", *y):\\n    if x == \\'+\\':\\n        print(\\'加法运算\\', y)\\n    else:\\n        print(\\'减法运算\\', y)\\n\\nfunc(\"-\", 2, 3, 4, 5, 6, 7, 8)', 'def func(x=\"+\", *y):\\n    if x == \\'+\\':\\n        print(\\'Addition operation\\', y)\\n    else:\\n        print(\\'Subtraction operation\\', y)\\n\\nfunc(\"-\", 2, 3, 4, 5, 6, 7, 8)', 'def func(a, b, c=3, *args, name):\\n    print(a, b, c, \"\\\\n\", *args, \"\\\\n\", name)\\n\\nfunc(1, 2, 3, 4, 5, 6, 7, 8, name=\\'Tea\\')', 'def func(a, b, c=3, *args, name):\\n    print(a, b, c, \"\\\\n\", *args, \"\\\\n\", name)\\n\\nfunc(1, 2, 3, 4, 5, 6, 7, 8, \\'Tea\\')', 'def func(a, b, c=3, *args, name=\\'_Tea\\'):\\n    print(a, b, c, \"\\\\n\", *args, \"\\\\n\", name)\\n\\nfunc(1, 2, 3, 4, 5, 6, 7, 8, \\'Tea\\')', 'def func(a, b, c=3, *args, name):\\n    print(a, b, c, \"\\\\n\", *args, \"\\\\n\", name)\\n\\nfunc(1, 2, 3, 4, 5, 6, 7, 8, \\'Tea\\')', 'def func(a, b, c=3, *args, name=\\'_Tea\\'):\\n    print(a, b, c, \"\\\\n\", *args, \"\\\\n\", name)\\n\\nfunc(1, 2, 3, 4, 5, 6, 7, 8, \\'Tea\\')', 'def func(x, y):\\n    print(x, \"\\\\t\", y)\\n\\nfunc(2, 3)\\nfunc(y=2, x=3)', 'def func(x, y):\\n    print(x, \"\\\\t\", y)\\n\\nfunc(2, 3)\\nfunc(y = 2, x = 3)', 'def func(a, b, c=3, *args, name, age, **kwargs):\\n    print(a, b, c)\\n    print(args) # Regular collecting parameters, which gather extra parameters into a tuple\\n    print(name, age)\\n    print(kwargs) # Keyword collecting parameters, which gather extra keyword arguments into a dictionary\\n\\nfunc(1, 2, 4, 112, 123, 321, 541, 231, name=\"Tea\", age=18, sex=\\'male\\', height=185, x=\\'x\\', y=\\'y\\')', \"def func(a, b):\\n    print(f'{a} love {b}')\", \"# Function with a return value\\ndef func(a, b):\\n    res = f'{a} love {b}'\\n    # Use return to specify the return value\\n    return res\\n\\nr = func('Mouse', 'Pudding')\\nprint(r)\", \"def func(a, b):\\n    res = f'{a} love {b}'\\n    print('This is before return')\\n    return res\\n    print('This is after return')\\n\\nr = func('Mouse', 'Pudding')\\nprint(r)\", 'def func(x, y):\\n    res = x + y\\n    return res\\n\\nr = func(1, 2)\\nprint(r)', 'def func():\\n    a = 20\\n    \\nprint(a)', 'num = 10\\ndef func():\\n    print(num)\\n\\nfunc()', 'num = 10\\ndef func():\\n    num += 20\\n    print(num)\\n\\nfunc()', 'items = [1, 2, 3, 4, 5]\\ndef func():\\n    items[0] = 20\\n    print(items)\\n\\nfunc()', 'num = 20\\ndef func():\\n    global num\\n    num += 10\\n    print(num)\\n\\nfunc()', 'global num\\nnum = 20\\ndef func():\\n    num += 10\\n    print(num)\\n\\nfunc()', \"# Function scope\\ndef outer():\\n    print('this is outer func...')\\n    def inner():\\n        print('this is inner func...')\\n\\nouter()\\ninner()\", \"# Function scope\\ndef outer():\\n    print('this is outer func...')\\n    def inner():\\n        print('this is inner func...')\\n    inner() # Executed within the function\\n\\nouter()\", \"# Function scope\\ndef outer():\\n    a = 2\\n    print('this is outer func...')\\n    def inner():\\n        a += 1\\n        print('this is inner func...')\\n        print(a)\\n    inner()\\nouter()\", '# Define an outer function\\ndef outer():\\n    # Local variable in the outer function\\n    num = 10\\n    # Inner function\\n    def inner():\\n        # Use the nonlocal keyword\\n        nonlocal num # Can refer to the variable defined in the outer function\\n        num += 1\\n        print(num)\\n    inner()\\nouter()', 'print(globals())'], 'Out': {}, 'get_ipython': <bound method InteractiveShell.get_ipython of <ipykernel.zmqshell.ZMQInteractiveShell object at 0x1075f9430>>, 'exit': <IPython.core.autocall.ZMQExitAutocall object at 0x10760f0d0>, 'quit': <IPython.core.autocall.ZMQExitAutocall object at 0x10760f0d0>, 'open': <function open at 0x106276d30>, '_': '', '__': '', '___': '', '__vsc_ipynb_file__': '/Volumes/Library/SynologyDrive/AI_Compendium/Python/section_5.ipynb', 'matplotlib': <module 'matplotlib' from '/Users/du/miniforge3/envs/ml/lib/python3.9/site-packages/matplotlib/__init__.py'>, '_VSCode_defaultMatplotlib_Params': {'_internal.classic_mode': False, 'agg.path.chunksize': 0, 'animation.bitrate': -1, 'animation.codec': 'h264', 'animation.convert_args': ['-layers', 'OptimizePlus'], 'animation.convert_path': 'convert', 'animation.embed_limit': 20.0, 'animation.ffmpeg_args': [], 'animation.ffmpeg_path': 'ffmpeg', 'animation.frame_format': 'png', 'animation.html': 'none', 'animation.writer': 'ffmpeg', 'axes.autolimit_mode': 'data', 'axes.axisbelow': 'line', 'axes.edgecolor': 'black', 'axes.facecolor': 'white', 'axes.formatter.limits': [-5, 6], 'axes.formatter.min_exponent': 0, 'axes.formatter.offset_threshold': 4, 'axes.formatter.use_locale': False, 'axes.formatter.use_mathtext': False, 'axes.formatter.useoffset': True, 'axes.grid': False, 'axes.grid.axis': 'both', 'axes.grid.which': 'major', 'axes.labelcolor': 'black', 'axes.labelpad': 4.0, 'axes.labelsize': 'medium', 'axes.labelweight': 'normal', 'axes.linewidth': 0.8, 'axes.prop_cycle': cycler('color', ['#1f77b4', '#ff7f0e', '#2ca02c', '#d62728', '#9467bd', '#8c564b', '#e377c2', '#7f7f7f', '#bcbd22', '#17becf']), 'axes.spines.bottom': True, 'axes.spines.left': True, 'axes.spines.right': True, 'axes.spines.top': True, 'axes.titlecolor': 'auto', 'axes.titlelocation': 'center', 'axes.titlepad': 6.0, 'axes.titlesize': 'large', 'axes.titleweight': 'normal', 'axes.titley': None, 'axes.unicode_minus': True, 'axes.xmargin': 0.05, 'axes.ymargin': 0.05, 'axes.zmargin': 0.05, 'axes3d.grid': True, 'axes3d.xaxis.panecolor': (0.95, 0.95, 0.95, 0.5), 'axes3d.yaxis.panecolor': (0.9, 0.9, 0.9, 0.5), 'axes3d.zaxis.panecolor': (0.925, 0.925, 0.925, 0.5), 'backend': 'module://matplotlib_inline.backend_inline', 'backend_fallback': True, 'boxplot.bootstrap': None, 'boxplot.boxprops.color': 'black', 'boxplot.boxprops.linestyle': '-', 'boxplot.boxprops.linewidth': 1.0, 'boxplot.capprops.color': 'black', 'boxplot.capprops.linestyle': '-', 'boxplot.capprops.linewidth': 1.0, 'boxplot.flierprops.color': 'black', 'boxplot.flierprops.linestyle': 'none', 'boxplot.flierprops.linewidth': 1.0, 'boxplot.flierprops.marker': 'o', 'boxplot.flierprops.markeredgecolor': 'black', 'boxplot.flierprops.markeredgewidth': 1.0, 'boxplot.flierprops.markerfacecolor': 'none', 'boxplot.flierprops.markersize': 6.0, 'boxplot.meanline': False, 'boxplot.meanprops.color': 'C2', 'boxplot.meanprops.linestyle': '--', 'boxplot.meanprops.linewidth': 1.0, 'boxplot.meanprops.marker': '^', 'boxplot.meanprops.markeredgecolor': 'C2', 'boxplot.meanprops.markerfacecolor': 'C2', 'boxplot.meanprops.markersize': 6.0, 'boxplot.medianprops.color': 'C1', 'boxplot.medianprops.linestyle': '-', 'boxplot.medianprops.linewidth': 1.0, 'boxplot.notch': False, 'boxplot.patchartist': False, 'boxplot.showbox': True, 'boxplot.showcaps': True, 'boxplot.showfliers': True, 'boxplot.showmeans': False, 'boxplot.vertical': True, 'boxplot.whiskerprops.color': 'black', 'boxplot.whiskerprops.linestyle': '-', 'boxplot.whiskerprops.linewidth': 1.0, 'boxplot.whiskers': 1.5, 'contour.algorithm': 'mpl2014', 'contour.corner_mask': True, 'contour.linewidth': None, 'contour.negative_linestyle': 'dashed', 'date.autoformatter.day': '%Y-%m-%d', 'date.autoformatter.hour': '%m-%d %H', 'date.autoformatter.microsecond': '%M:%S.%f', 'date.autoformatter.minute': '%d %H:%M', 'date.autoformatter.month': '%Y-%m', 'date.autoformatter.second': '%H:%M:%S', 'date.autoformatter.year': '%Y', 'date.converter': 'auto', 'date.epoch': '1970-01-01T00:00:00', 'date.interval_multiples': True, 'docstring.hardcopy': False, 'errorbar.capsize': 0.0, 'figure.autolayout': False, 'figure.constrained_layout.h_pad': 0.04167, 'figure.constrained_layout.hspace': 0.02, 'figure.constrained_layout.use': False, 'figure.constrained_layout.w_pad': 0.04167, 'figure.constrained_layout.wspace': 0.02, 'figure.dpi': 100.0, 'figure.edgecolor': 'white', 'figure.facecolor': 'white', 'figure.figsize': [6.4, 4.8], 'figure.frameon': True, 'figure.hooks': [], 'figure.labelsize': 'large', 'figure.labelweight': 'normal', 'figure.max_open_warning': 20, 'figure.raise_window': True, 'figure.subplot.bottom': 0.11, 'figure.subplot.hspace': 0.2, 'figure.subplot.left': 0.125, 'figure.subplot.right': 0.9, 'figure.subplot.top': 0.88, 'figure.subplot.wspace': 0.2, 'figure.titlesize': 'large', 'figure.titleweight': 'normal', 'font.cursive': ['Apple Chancery', 'Textile', 'Zapf Chancery', 'Sand', 'Script MT', 'Felipa', 'Comic Neue', 'Comic Sans MS', 'cursive'], 'font.family': ['sans-serif'], 'font.fantasy': ['Chicago', 'Charcoal', 'Impact', 'Western', 'xkcd script', 'fantasy'], 'font.monospace': ['DejaVu Sans Mono', 'Bitstream Vera Sans Mono', 'Computer Modern Typewriter', 'Andale Mono', 'Nimbus Mono L', 'Courier New', 'Courier', 'Fixed', 'Terminal', 'monospace'], 'font.sans-serif': ['DejaVu Sans', 'Bitstream Vera Sans', 'Computer Modern Sans Serif', 'Lucida Grande', 'Verdana', 'Geneva', 'Lucid', 'Arial', 'Helvetica', 'Avant Garde', 'sans-serif'], 'font.serif': ['DejaVu Serif', 'Bitstream Vera Serif', 'Computer Modern Roman', 'New Century Schoolbook', 'Century Schoolbook L', 'Utopia', 'ITC Bookman', 'Bookman', 'Nimbus Roman No9 L', 'Times New Roman', 'Times', 'Palatino', 'Charter', 'serif'], 'font.size': 10.0, 'font.stretch': 'normal', 'font.style': 'normal', 'font.variant': 'normal', 'font.weight': 'normal', 'grid.alpha': 1.0, 'grid.color': '#b0b0b0', 'grid.linestyle': '-', 'grid.linewidth': 0.8, 'hatch.color': 'black', 'hatch.linewidth': 1.0, 'hist.bins': 10, 'image.aspect': 'equal', 'image.cmap': 'viridis', 'image.composite_image': True, 'image.interpolation': 'antialiased', 'image.lut': 256, 'image.origin': 'upper', 'image.resample': True, 'interactive': True, 'keymap.back': ['left', 'c', 'backspace', 'MouseButton.BACK'], 'keymap.copy': ['ctrl+c', 'cmd+c'], 'keymap.forward': ['right', 'v', 'MouseButton.FORWARD'], 'keymap.fullscreen': ['f', 'ctrl+f'], 'keymap.grid': ['g'], 'keymap.grid_minor': ['G'], 'keymap.help': ['f1'], 'keymap.home': ['h', 'r', 'home'], 'keymap.pan': ['p'], 'keymap.quit': ['ctrl+w', 'cmd+w', 'q'], 'keymap.quit_all': [], 'keymap.save': ['s', 'ctrl+s'], 'keymap.xscale': ['k', 'L'], 'keymap.yscale': ['l'], 'keymap.zoom': ['o'], 'legend.borderaxespad': 0.5, 'legend.borderpad': 0.4, 'legend.columnspacing': 2.0, 'legend.edgecolor': '0.8', 'legend.facecolor': 'inherit', 'legend.fancybox': True, 'legend.fontsize': 'medium', 'legend.framealpha': 0.8, 'legend.frameon': True, 'legend.handleheight': 0.7, 'legend.handlelength': 2.0, 'legend.handletextpad': 0.8, 'legend.labelcolor': 'None', 'legend.labelspacing': 0.5, 'legend.loc': 'best', 'legend.markerscale': 1.0, 'legend.numpoints': 1, 'legend.scatterpoints': 1, 'legend.shadow': False, 'legend.title_fontsize': None, 'lines.antialiased': True, 'lines.color': 'C0', 'lines.dash_capstyle': <CapStyle.butt: 'butt'>, 'lines.dash_joinstyle': <JoinStyle.round: 'round'>, 'lines.dashdot_pattern': [6.4, 1.6, 1.0, 1.6], 'lines.dashed_pattern': [3.7, 1.6], 'lines.dotted_pattern': [1.0, 1.65], 'lines.linestyle': '-', 'lines.linewidth': 1.5, 'lines.marker': 'None', 'lines.markeredgecolor': 'auto', 'lines.markeredgewidth': 1.0, 'lines.markerfacecolor': 'auto', 'lines.markersize': 6.0, 'lines.scale_dashes': True, 'lines.solid_capstyle': <CapStyle.projecting: 'projecting'>, 'lines.solid_joinstyle': <JoinStyle.round: 'round'>, 'macosx.window_mode': 'system', 'markers.fillstyle': 'full', 'mathtext.bf': 'sans:bold', 'mathtext.bfit': 'sans:italic:bold', 'mathtext.cal': 'cursive', 'mathtext.default': 'it', 'mathtext.fallback': 'cm', 'mathtext.fontset': 'dejavusans', 'mathtext.it': 'sans:italic', 'mathtext.rm': 'sans', 'mathtext.sf': 'sans', 'mathtext.tt': 'monospace', 'patch.antialiased': True, 'patch.edgecolor': 'black', 'patch.facecolor': 'C0', 'patch.force_edgecolor': False, 'patch.linewidth': 1.0, 'path.effects': [], 'path.simplify': True, 'path.simplify_threshold': 0.111111111111, 'path.sketch': None, 'path.snap': True, 'pcolor.shading': 'auto', 'pcolormesh.snap': True, 'pdf.compression': 6, 'pdf.fonttype': 3, 'pdf.inheritcolor': False, 'pdf.use14corefonts': False, 'pgf.preamble': '', 'pgf.rcfonts': True, 'pgf.texsystem': 'xelatex', 'polaraxes.grid': True, 'ps.distiller.res': 6000, 'ps.fonttype': 3, 'ps.papersize': 'letter', 'ps.useafm': False, 'ps.usedistiller': None, 'savefig.bbox': None, 'savefig.directory': '~', 'savefig.dpi': 'figure', 'savefig.edgecolor': 'auto', 'savefig.facecolor': 'auto', 'savefig.format': 'png', 'savefig.orientation': 'portrait', 'savefig.pad_inches': 0.1, 'savefig.transparent': False, 'scatter.edgecolors': 'face', 'scatter.marker': 'o', 'svg.fonttype': 'path', 'svg.hashsalt': None, 'svg.image_inline': True, 'text.antialiased': True, 'text.color': 'black', 'text.hinting': 'force_autohint', 'text.hinting_factor': 8, 'text.kerning_factor': 0, 'text.latex.preamble': '', 'text.parse_math': True, 'text.usetex': False, 'timezone': 'UTC', 'tk.window_focus': False, 'toolbar': 'toolbar2', 'webagg.address': '127.0.0.1', 'webagg.open_in_browser': True, 'webagg.port': 8988, 'webagg.port_retries': 50, 'xaxis.labellocation': 'center', 'xtick.alignment': 'center', 'xtick.bottom': True, 'xtick.color': 'black', 'xtick.direction': 'out', 'xtick.labelbottom': True, 'xtick.labelcolor': 'inherit', 'xtick.labelsize': 'medium', 'xtick.labeltop': False, 'xtick.major.bottom': True, 'xtick.major.pad': 3.5, 'xtick.major.size': 3.5, 'xtick.major.top': True, 'xtick.major.width': 0.8, 'xtick.minor.bottom': True, 'xtick.minor.ndivs': 'auto', 'xtick.minor.pad': 3.4, 'xtick.minor.size': 2.0, 'xtick.minor.top': True, 'xtick.minor.visible': False, 'xtick.minor.width': 0.6, 'xtick.top': False, 'yaxis.labellocation': 'center', 'ytick.alignment': 'center_baseline', 'ytick.color': 'black', 'ytick.direction': 'out', 'ytick.labelcolor': 'inherit', 'ytick.labelleft': True, 'ytick.labelright': False, 'ytick.labelsize': 'medium', 'ytick.left': True, 'ytick.major.left': True, 'ytick.major.pad': 3.5, 'ytick.major.right': True, 'ytick.major.size': 3.5, 'ytick.major.width': 0.8, 'ytick.minor.left': True, 'ytick.minor.ndivs': 'auto', 'ytick.minor.pad': 3.4, 'ytick.minor.right': True, 'ytick.minor.size': 2.0, 'ytick.minor.visible': False, 'ytick.minor.width': 0.6, 'ytick.right': False}, '_i': '# Define an outer function\\ndef outer():\\n    # Local variable in the outer function\\n    num = 10\\n    # Inner function\\n    def inner():\\n        # Use the nonlocal keyword\\n        nonlocal num # Can refer to the variable defined in the outer function\\n        num += 1\\n        print(num)\\n    inner()\\nouter()', '_ii': \"# Function scope\\ndef outer():\\n    a = 2\\n    print('this is outer func...')\\n    def inner():\\n        a += 1\\n        print('this is inner func...')\\n        print(a)\\n    inner()\\nouter()\", '_iii': \"# Function scope\\ndef outer():\\n    print('this is outer func...')\\n    def inner():\\n        print('this is inner func...')\\n    inner() # Executed within the function\\n\\nouter()\", '_i1': 'def func():\\n    \"\"\"\\n    This is where you write the documentation for the function.\\n    You should explain the function\\'s purpose,\\n    and if it has parameters, describe each one.\\n    name: This is a name parameter used to receive the name.\\n    age: This parameter represents the age.\\n    :return: Here you describe the return value of the function.\\n    \"\"\"\\n    pass', 'func': <function func at 0x109fb3f70>, '_i2': 'print(func.__doc__)', '_i3': '# Function Definition [Basic Structure]\\ndef function_name([parameter_list]):\\n    # Code for the specific functionality of this line\\n    # Code for the specific functionality of this line\\n    ...', '_i4': \"# Function Definition\\ndef love():\\n    print('i')\\n    print('love')\\n    print('u')\\n\\n# Function Call\\nlove()\", 'love': <function love at 0x109f60d30>, '_i5': \"# Function Call\\nlove()\\n\\n# Function Definition\\ndef love():\\n    print('i')\\n    print('love')\\n    print('u')\", '_i6': \"# Function Call\\nlove2()\\n\\n# Function Definition\\ndef love2():\\n    print('i')\\n    print('love')\\n    print('u')\", '_i7': \"def love(w):\\n    print(f'i love {w}')\\n\\n# Calling a function with formal parameters requires passing arguments (actual parameters)\\nlove('Ma Hu')\", '_i8': \"def love(m, n):\\n    print(f'{m} love {n}')\\n\\nlove('i', 'u')\", '_i9': 'def func(x, y=20):\\n    print(x, y)\\n\\nfunc(2, 100)', '_i10': 'def func(x=100, y=200, z):\\n    print(x, y, z)\\n\\nfunc(100,200,300)\\n\\ndef func(x=100, y, z=200):\\n    print(x, y, z)\\n\\nfunc(100, 200, 300)\\n\\ndef func(x, y=100, z):\\n    print(x, y, z)\\n\\nfunc(300,200,50)', '_i11': 'def func(x=100, y=200, z):\\n    print(x, y, z)\\n\\n# func(100,200,300)\\n\\n# def func(x=100, y, z=200):\\n#     print(x, y, z)\\n\\n# func(100, 200, 300)\\n\\n# def func(x, y=100, z):\\n#     print(x, y, z)\\n\\n# func(300,200,50)', '_i12': 'def func(x=100, y=200, z=1):\\n    print(x, y, z)\\n\\n# func(100,200,300)\\n\\n# def func(x=100, y, z=200):\\n#     print(x, y, z)\\n\\n# func(100, 200, 300)\\n\\n# def func(x, y=100, z):\\n#     print(x, y, z)\\n\\n# func(300,200,50)', '_i13': 'def func(x=100, y=200, z):\\n    print(x, y, z)\\n\\nfunc(100,200,300)\\n\\ndef func(x=100, y, z=200):\\n    print(x, y, z)\\n\\nfunc(100, 200, 300)\\n\\ndef func(x, y=100, z):\\n    print(x, y, z)\\n\\nfunc(300,200,50)', '_i14': '# def func(x=100, y=200, z):\\n#     print(x, y, z)\\n\\n# func(100,200,300)\\n\\ndef func(x=100, y, z=200):\\n    print(x, y, z)\\n\\nfunc(100, 200, 300)\\n\\ndef func(x, y=100, z):\\n    print(x, y, z)\\n\\nfunc(300,200,50)', '_i15': '# def func(x=100, y=200, z):\\n#     print(x, y, z)\\n\\n# func(100,200,300)\\n\\n# def func(x=100, y, z=200):\\n#     print(x, y, z)\\n\\n# func(100, 200, 300)\\n\\ndef func(x, y=100, z):\\n    print(x, y, z)\\n\\nfunc(300,200,50)', '_i16': '# def func(x=100, y=200, z):\\n#     print(x, y, z)\\n\\n# func(100,200,300)\\n\\n# def func(x=100, y, z=200):\\n#     print(x, y, z)\\n\\n# func(100, 200, 300)\\n\\ndef func(x, y=100, z=10):\\n    print(x, y, z)\\n\\nfunc(300,200,50)', '_i17': 'def func(x, y, z=100):\\n  print(x + y + z)\\n\\nfunc(20, 30)', '_i18': '# def func(x=100, y=200, z):\\n#     print(x, y, z)\\n\\n# func(100,200,300)\\n\\n# def func(x=100, y, z=200):\\n#     print(x, y, z)\\n\\n# func(100, 200, 300)\\n\\ndef func(x, y=100, z):\\n    print(x, y, z)\\n\\nfunc(300,200,50)', '_i19': 'def func(x=\"+\", *args):\\n    if x == \\'+\\':\\n        print(\\'Addition operation\\', args)\\n    else:\\n        print(\\'Subtraction operation\\', args)\\n\\nfunc(\"-\", 2, 3, 4, 5, 6, 7, 8)', '_i20': 'def func(x=\"+\", *args):\\n    if x == \\'+\\':\\n        print(\\'Addition operation\\', args)\\n    else:\\n        print(\\'Subtraction operation\\', args)\\n\\nfunc(\"-\", 2, 3, 4, 5, 6, 7, 8)', '_i21': 'def func(x=\"+\", *y):\\n    if x == \\'+\\':\\n        print(\\'加法运算\\', y)\\n    else:\\n        print(\\'减法运算\\', y)\\n\\nfunc(\"-\", 2, 3, 4, 5, 6, 7, 8)', '_i22': 'def func(x=\"+\", *y):\\n    if x == \\'+\\':\\n        print(\\'Addition operation\\', y)\\n    else:\\n        print(\\'Subtraction operation\\', y)\\n\\nfunc(\"-\", 2, 3, 4, 5, 6, 7, 8)', '_i23': 'def func(a, b, c=3, *args, name):\\n    print(a, b, c, \"\\\\n\", *args, \"\\\\n\", name)\\n\\nfunc(1, 2, 3, 4, 5, 6, 7, 8, name=\\'Tea\\')', '_i24': 'def func(a, b, c=3, *args, name):\\n    print(a, b, c, \"\\\\n\", *args, \"\\\\n\", name)\\n\\nfunc(1, 2, 3, 4, 5, 6, 7, 8, \\'Tea\\')', '_i25': 'def func(a, b, c=3, *args, name=\\'_Tea\\'):\\n    print(a, b, c, \"\\\\n\", *args, \"\\\\n\", name)\\n\\nfunc(1, 2, 3, 4, 5, 6, 7, 8, \\'Tea\\')', '_i26': 'def func(a, b, c=3, *args, name):\\n    print(a, b, c, \"\\\\n\", *args, \"\\\\n\", name)\\n\\nfunc(1, 2, 3, 4, 5, 6, 7, 8, \\'Tea\\')', '_i27': 'def func(a, b, c=3, *args, name=\\'_Tea\\'):\\n    print(a, b, c, \"\\\\n\", *args, \"\\\\n\", name)\\n\\nfunc(1, 2, 3, 4, 5, 6, 7, 8, \\'Tea\\')', '_i28': 'def func(x, y):\\n    print(x, \"\\\\t\", y)\\n\\nfunc(2, 3)\\nfunc(y=2, x=3)', '_i29': 'def func(x, y):\\n    print(x, \"\\\\t\", y)\\n\\nfunc(2, 3)\\nfunc(y = 2, x = 3)', '_i30': 'def func(a, b, c=3, *args, name, age, **kwargs):\\n    print(a, b, c)\\n    print(args) # Regular collecting parameters, which gather extra parameters into a tuple\\n    print(name, age)\\n    print(kwargs) # Keyword collecting parameters, which gather extra keyword arguments into a dictionary\\n\\nfunc(1, 2, 4, 112, 123, 321, 541, 231, name=\"Tea\", age=18, sex=\\'male\\', height=185, x=\\'x\\', y=\\'y\\')', '_i31': \"def func(a, b):\\n    print(f'{a} love {b}')\", '_i32': \"# Function with a return value\\ndef func(a, b):\\n    res = f'{a} love {b}'\\n    # Use return to specify the return value\\n    return res\\n\\nr = func('Mouse', 'Pudding')\\nprint(r)\", 'r': 3, '_i33': \"def func(a, b):\\n    res = f'{a} love {b}'\\n    print('This is before return')\\n    return res\\n    print('This is after return')\\n\\nr = func('Mouse', 'Pudding')\\nprint(r)\", '_i34': 'def func(x, y):\\n    res = x + y\\n    return res\\n\\nr = func(1, 2)\\nprint(r)', '_i35': 'def func():\\n    a = 20\\n    \\nprint(a)', '_i36': 'num = 10\\ndef func():\\n    print(num)\\n\\nfunc()', 'num': 20, '_i37': 'num = 10\\ndef func():\\n    num += 20\\n    print(num)\\n\\nfunc()', '_i38': 'items = [1, 2, 3, 4, 5]\\ndef func():\\n    items[0] = 20\\n    print(items)\\n\\nfunc()', 'items': [20, 2, 3, 4, 5], '_i39': 'num = 20\\ndef func():\\n    global num\\n    num += 10\\n    print(num)\\n\\nfunc()', '_i40': 'global num\\nnum = 20\\ndef func():\\n    num += 10\\n    print(num)\\n\\nfunc()', '_i41': \"# Function scope\\ndef outer():\\n    print('this is outer func...')\\n    def inner():\\n        print('this is inner func...')\\n\\nouter()\\ninner()\", 'outer': <function outer at 0x10a410040>, '_i42': \"# Function scope\\ndef outer():\\n    print('this is outer func...')\\n    def inner():\\n        print('this is inner func...')\\n    inner() # Executed within the function\\n\\nouter()\", '_i43': \"# Function scope\\ndef outer():\\n    a = 2\\n    print('this is outer func...')\\n    def inner():\\n        a += 1\\n        print('this is inner func...')\\n        print(a)\\n    inner()\\nouter()\", '_i44': '# Define an outer function\\ndef outer():\\n    # Local variable in the outer function\\n    num = 10\\n    # Inner function\\n    def inner():\\n        # Use the nonlocal keyword\\n        nonlocal num # Can refer to the variable defined in the outer function\\n        num += 1\\n        print(num)\\n    inner()\\nouter()', '_i45': 'print(globals())'}\n"
     ]
    }
   ],
   "source": [
    "print(globals())"
   ]
  },
  {
   "cell_type": "code",
   "execution_count": 46,
   "metadata": {},
   "outputs": [
    {
     "name": "stdout",
     "output_type": "stream",
     "text": [
      "Automatically created module for IPython interactive environment\n"
     ]
    }
   ],
   "source": [
    "print(__doc__)"
   ]
  },
  {
   "cell_type": "code",
   "execution_count": 1,
   "metadata": {},
   "outputs": [],
   "source": [
    "def func():\n",
    "    \"\"\"\n",
    "    This is where you write the documentation for the function.\n",
    "    You should explain the function's purpose,\n",
    "    and if it has parameters, describe each one.\n",
    "    name: This is a name parameter used to receive the name.\n",
    "    age: This parameter represents the age.\n",
    "    :return: Here you describe the return value of the function.\n",
    "    \"\"\"\n",
    "    pass"
   ]
  },
  {
   "cell_type": "code",
   "execution_count": 2,
   "metadata": {},
   "outputs": [
    {
     "name": "stdout",
     "output_type": "stream",
     "text": [
      "\n",
      "    This is where you write the documentation for the function.\n",
      "    You should explain the function's purpose,\n",
      "    and if it has parameters, describe each one.\n",
      "    name: This is a name parameter used to receive the name.\n",
      "    age: This parameter represents the age.\n",
      "    :return: Here you describe the return value of the function.\n",
      "    \n"
     ]
    }
   ],
   "source": [
    "print(func.__doc__)"
   ]
  },
  {
   "cell_type": "code",
   "execution_count": 47,
   "metadata": {},
   "outputs": [],
   "source": [
    "# Define a function to print the multiplication table\n",
    "def multiply_table():\n",
    "    \"\"\"\n",
    "    This function prints the multiplication table.\n",
    "    \"\"\"\n",
    "    for x in range(1, 10):\n",
    "        for y in range(1, x+1):\n",
    "            print(f'{x}X{y}={x*y}', end=\" \")\n",
    "        print()"
   ]
  },
  {
   "cell_type": "code",
   "execution_count": 48,
   "metadata": {},
   "outputs": [],
   "source": [
    "# Define a function to print the multiplication table\n",
    "def multiply_table(i=0):\n",
    "    \"\"\"\n",
    "    This function prints the multiplication table.\n",
    "    i=0; This parameter controls the direction of the output:\n",
    "    0 for forward, 1 for reverse. Default is 0.\n",
    "    \"\"\"\n",
    "    if i:\n",
    "        rs = range(9, 0, -1)\n",
    "    else:\n",
    "        rs = range(1, 10)\n",
    "        \n",
    "    for x in rs:\n",
    "        for y in range(1, x+1):\n",
    "            print(f'{x}X{y}={x*y}', end=\" \")\n",
    "        print()"
   ]
  },
  {
   "cell_type": "code",
   "execution_count": 49,
   "metadata": {},
   "outputs": [
    {
     "name": "stdout",
     "output_type": "stream",
     "text": [
      "9X1=9 9X2=18 9X3=27 9X4=36 9X5=45 9X6=54 9X7=63 9X8=72 9X9=81 \n",
      "8X1=8 8X2=16 8X3=24 8X4=32 8X5=40 8X6=48 8X7=56 8X8=64 \n",
      "7X1=7 7X2=14 7X3=21 7X4=28 7X5=35 7X6=42 7X7=49 \n",
      "6X1=6 6X2=12 6X3=18 6X4=24 6X5=30 6X6=36 \n",
      "5X1=5 5X2=10 5X3=15 5X4=20 5X5=25 \n",
      "4X1=4 4X2=8 4X3=12 4X4=16 \n",
      "3X1=3 3X2=6 3X3=9 \n",
      "2X1=2 2X2=4 \n",
      "1X1=1 \n"
     ]
    }
   ],
   "source": [
    "multiply_table(1)"
   ]
  },
  {
   "cell_type": "code",
   "execution_count": 50,
   "metadata": {},
   "outputs": [
    {
     "name": "stdout",
     "output_type": "stream",
     "text": [
      "# # # # # # # # # # \n",
      "# # # # # # # # # # \n",
      "# # # # # # # # # # \n",
      "# # # # # # # # # # \n",
      "# # # # # # # # # # \n",
      "# # # # # # # # # # \n",
      "# # # # # # # # # # \n",
      "# # # # # # # # # # \n",
      "# # # # # # # # # # \n",
      "# # # # # # # # # # \n"
     ]
    }
   ],
   "source": [
    "def rectangle():\n",
    "    for x in range(0, 100):\n",
    "        print(\"#\", end=\" \")\n",
    "        if x % 10 == 9:\n",
    "            print()\n",
    "\n",
    "rectangle()"
   ]
  },
  {
   "cell_type": "code",
   "execution_count": null,
   "metadata": {},
   "outputs": [],
   "source": []
  }
 ],
 "metadata": {
  "kernelspec": {
   "display_name": "ml",
   "language": "python",
   "name": "python3"
  },
  "language_info": {
   "codemirror_mode": {
    "name": "ipython",
    "version": 3
   },
   "file_extension": ".py",
   "mimetype": "text/x-python",
   "name": "python",
   "nbconvert_exporter": "python",
   "pygments_lexer": "ipython3",
   "version": "3.9.16"
  }
 },
 "nbformat": 4,
 "nbformat_minor": 2
}
