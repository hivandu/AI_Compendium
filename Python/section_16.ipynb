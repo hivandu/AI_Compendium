{
 "cells": [
  {
   "cell_type": "markdown",
   "metadata": {},
   "source": [
    "# SECTION 16, Exercise: perpetual calendar"
   ]
  },
  {
   "cell_type": "code",
   "execution_count": 25,
   "metadata": {},
   "outputs": [
    {
     "name": "stdout",
     "output_type": "stream",
     "text": [
      "(5, 30)\n"
     ]
    }
   ],
   "source": [
    "import calendar\n",
    "\n",
    "res = calendar.monthrange(2024, 6)\n",
    "print(res)"
   ]
  },
  {
   "cell_type": "code",
   "execution_count": 28,
   "metadata": {},
   "outputs": [
    {
     "name": "stdout",
     "output_type": "stream",
     "text": [
      "Mon   Tue   Wed   Thu   Fri   Sat   Sun\n",
      "                              01    02    \n",
      "03    04    05    06    07    08    09    \n",
      "10    11    12    13    14    15    16    \n",
      "17    18    19    20    21    22    23    \n",
      "24    25    26    27    28    29    30    \n"
     ]
    }
   ],
   "source": [
    "days = res[1]\n",
    "week = res[0] + 1\n",
    "\n",
    "print('Mon   Tue   Wed   Thu   Fri   Sat   Sun')\n",
    "d = 1\n",
    "while d <= days:\n",
    "    # Loop through the week\n",
    "    for i in range(1, 8):\n",
    "        # Determine whether to print\n",
    "        if d > days or (d == 1 and i < week):\n",
    "            print('      ', end='')\n",
    "        else:\n",
    "            print('{:0>2d}'.format(d), end=\"    \")\n",
    "            d += 1\n",
    "    print()"
   ]
  },
  {
   "cell_type": "code",
   "execution_count": 16,
   "metadata": {},
   "outputs": [
    {
     "name": "stdout",
     "output_type": "stream",
     "text": [
      "========== 2024 Year 7 Month ==========\n",
      "Mon   Tue   Wed   Thu   Fri   Sat   Sun\n",
      "=======================================\n",
      "01    02    03    04    05    06    07    \n",
      "08    09    10    11    12    13    14    \n",
      "15    16    17    18    19    20    21    \n",
      "22    23    24    25    26    27    28    \n",
      "29    30    31                            \n"
     ]
    }
   ],
   "source": [
    "year = 2024\n",
    "month = 7\n",
    "res = calendar.monthrange(year, month)\n",
    "\n",
    "days = res[1]\n",
    "week = res[0] + 1\n",
    "\n",
    "print(f'========== {year} Year {month} Month ==========')\n",
    "print('Mon   Tue   Wed   Thu   Fri   Sat   Sun')\n",
    "print('='*39)\n",
    "d = 1\n",
    "while d <= days:\n",
    "    # Loop through the week\n",
    "    for i in range(1, 8):\n",
    "        # Check if it should print\n",
    "        if d > days or (d==1 and i<week):\n",
    "            print('      ', end='')\n",
    "        else:\n",
    "            print('{:0>2d}'.format(d), end=\"    \")\n",
    "            d+=1\n",
    "    print()\n"
   ]
  },
  {
   "cell_type": "code",
   "execution_count": 17,
   "metadata": {},
   "outputs": [
    {
     "name": "stdout",
     "output_type": "stream",
     "text": [
      "========= 2024 Year 12 Month =========\n",
      "Mon   Tue   Wed   Thu   Fri   Sat   Sun\n",
      "=======================================\n",
      "                                    01    \n",
      "02    03    04    05    06    07    08    \n",
      "09    10    11    12    13    14    15    \n",
      "16    17    18    19    20    21    22    \n",
      "23    24    25    26    27    28    29    \n",
      "30    31                                  \n"
     ]
    }
   ],
   "source": [
    "import calendar\n",
    "\n",
    "def showdate(year, month):\n",
    "    res = calendar.monthrange(year, month)\n",
    "\n",
    "    days = res[1]  # Number of days in the current month\n",
    "    week = res[0] + 1  # The first day of the month is which weekday\n",
    "\n",
    "    print(f'========= {year} Year {month} Month =========')\n",
    "    print('Mon   Tue   Wed   Thu   Fri   Sat   Sun')\n",
    "    print('='*39)\n",
    "    \n",
    "    # Print the calendar\n",
    "    d = 1\n",
    "    while d <= days:\n",
    "        # Loop through the week\n",
    "        for i in range(1, 8):\n",
    "            # Check if it should print\n",
    "            if d > days or (d == 1 and i < week):\n",
    "                print('      ', end='')\n",
    "            else:\n",
    "                print('{:0>2d}'.format(d), end=\"    \")\n",
    "                d += 1\n",
    "        print()\n",
    "\n",
    "showdate(2024, 12)"
   ]
  },
  {
   "cell_type": "code",
   "execution_count": 30,
   "metadata": {},
   "outputs": [
    {
     "name": "stdout",
     "output_type": "stream",
     "text": [
      "\u001b[H\u001b[2J========= 2024 Year 8 Month =========\n",
      "Mon   Tue   Wed   Thu   Fri   Sat   Sun\n",
      "=======================================\n",
      "                  01    02    03    04    \n",
      "05    06    07    08    09    10    11    \n",
      "12    13    14    15    16    17    18    \n",
      "19    20    21    22    23    24    25    \n",
      "26    27    28    29    30    31          \n",
      " < Previous Month     Next Month > \n",
      "\u001b[H\u001b[2J========= 2024 Year 9 Month =========\n",
      "Mon   Tue   Wed   Thu   Fri   Sat   Sun\n",
      "=======================================\n",
      "                                    01    \n",
      "02    03    04    05    06    07    08    \n",
      "09    10    11    12    13    14    15    \n",
      "16    17    18    19    20    21    22    \n",
      "23    24    25    26    27    28    29    \n",
      "30                                        \n",
      " < Previous Month     Next Month > \n",
      "\u001b[H\u001b[2J========= 2024 Year 10 Month =========\n",
      "Mon   Tue   Wed   Thu   Fri   Sat   Sun\n",
      "=======================================\n",
      "      01    02    03    04    05    06    \n",
      "07    08    09    10    11    12    13    \n",
      "14    15    16    17    18    19    20    \n",
      "21    22    23    24    25    26    27    \n",
      "28    29    30    31                      \n",
      " < Previous Month     Next Month > \n"
     ]
    }
   ],
   "source": [
    "import time\n",
    "import os\n",
    "import calendar\n",
    "\n",
    "def showdate(year, month):\n",
    "    res = calendar.monthrange(year, month)\n",
    "    days = res[1]  # Number of days in the current month\n",
    "    week = res[0] + 1  # The first day of the month is which weekday\n",
    "\n",
    "    print(f'========= {year} Year {month} Month =========')\n",
    "    print('Mon   Tue   Wed   Thu   Fri   Sat   Sun')\n",
    "    print('='*39)\n",
    "    \n",
    "    # Print the calendar\n",
    "    d = 1\n",
    "    while d <= days:\n",
    "        # Loop through the week\n",
    "        for i in range(1, 8):\n",
    "            # Check if it should print\n",
    "            if d > days or (d == 1 and i < week):\n",
    "                print('      ', end='')\n",
    "            else:\n",
    "                print('{:0>2d}'.format(d), end=\"    \")\n",
    "                d += 1\n",
    "        print()\n",
    "\n",
    "# Get the current time\n",
    "dd = time.localtime()\n",
    "year = dd.tm_year\n",
    "month = dd.tm_mon\n",
    "\n",
    "while True:\n",
    "    os.system('clear')  # Clear the screen (use 'cls' for Windows)\n",
    "    showdate(year, month)\n",
    "    print(' < Previous Month     Next Month > ')\n",
    "    c = input('Enter your choice \"<\" for previous month or \">\" for next month, or \"exit\" to quit: ')\n",
    "    \n",
    "    # Handle user input\n",
    "    if c == '<':\n",
    "        month -= 1\n",
    "        if month < 1:\n",
    "            month = 12\n",
    "            year -= 1\n",
    "    elif c == '>':\n",
    "        month += 1\n",
    "        if month > 12:\n",
    "            month = 1\n",
    "            year += 1\n",
    "    elif c.lower() == 'exit':\n",
    "        break\n",
    "    else:\n",
    "        print('Invalid input. Please enter \"<\" for previous month, \">\" for next month, or \"exit\" to quit.')\n",
    "        time.sleep(2)  # Wait for 2 seconds before continuing to let the user see the message"
   ]
  },
  {
   "cell_type": "code",
   "execution_count": null,
   "metadata": {},
   "outputs": [],
   "source": []
  }
 ],
 "metadata": {
  "kernelspec": {
   "display_name": "base",
   "language": "python",
   "name": "python3"
  },
  "language_info": {
   "codemirror_mode": {
    "name": "ipython",
    "version": 3
   },
   "file_extension": ".py",
   "mimetype": "text/x-python",
   "name": "python",
   "nbconvert_exporter": "python",
   "pygments_lexer": "ipython3",
   "version": "3.9.16"
  },
  "orig_nbformat": 4
 },
 "nbformat": 4,
 "nbformat_minor": 2
}
