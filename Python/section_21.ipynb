{
 "cells": [
  {
   "cell_type": "markdown",
   "metadata": {},
   "source": [
    "# SECTION 21, object-oriented programming"
   ]
  },
  {
   "cell_type": "code",
   "execution_count": 1,
   "metadata": {},
   "outputs": [],
   "source": [
    "# Define a class for a car\n",
    "class Car():\n",
    "    # Attributes => Characteristics => Variables\n",
    "    color = 'black'  # Represents the color attribute\n",
    "    brand = 'mustang'  # Represents the brand attribute\n",
    "    displacement = 2.4  # Represents the displacement attribute\n",
    "\n",
    "    # Methods => Functions => Actions\n",
    "    def pulling(self):\n",
    "        print('The car can transport goods.')\n",
    "\n",
    "    def rode(self):\n",
    "        print('The car can be used for commuting.')\n",
    "\n",
    "    def onDuty(self):\n",
    "        print('The car can be used for work.')"
   ]
  },
  {
   "cell_type": "code",
   "execution_count": 2,
   "metadata": {},
   "outputs": [],
   "source": [
    "# Instantiate an object\n",
    "buyNewCar = Car()"
   ]
  },
  {
   "cell_type": "code",
   "execution_count": 4,
   "metadata": {},
   "outputs": [
    {
     "name": "stdout",
     "output_type": "stream",
     "text": [
      "<__main__.Car object at 0x10947bf70> <class '__main__.Car'>\n",
      "mustang\n",
      "The car can be used for commuting.\n"
     ]
    }
   ],
   "source": [
    "print(buyNewCar, type(buyNewCar))\n",
    "\n",
    "# Check the object's brand\n",
    "print(buyNewCar.brand)\n",
    "\n",
    "# Call the object's method\n",
    "buyNewCar.rode()"
   ]
  },
  {
   "cell_type": "code",
   "execution_count": 5,
   "metadata": {},
   "outputs": [
    {
     "name": "stdout",
     "output_type": "stream",
     "text": [
      "<__main__.Car object at 0x10947b880>\n",
      "<__main__.Car object at 0x10947b370>\n"
     ]
    }
   ],
   "source": [
    "a = Car()\n",
    "b = Car()\n",
    "print(a)\n",
    "print(b)"
   ]
  },
  {
   "cell_type": "code",
   "execution_count": 6,
   "metadata": {},
   "outputs": [
    {
     "name": "stdout",
     "output_type": "stream",
     "text": [
      "black\n"
     ]
    }
   ],
   "source": [
    "res = a.color\n",
    "print(res)"
   ]
  },
  {
   "cell_type": "code",
   "execution_count": 7,
   "metadata": {},
   "outputs": [
    {
     "name": "stdout",
     "output_type": "stream",
     "text": [
      "The car can be used for commuting.\n"
     ]
    }
   ],
   "source": [
    "a.rode()"
   ]
  },
  {
   "cell_type": "code",
   "execution_count": 8,
   "metadata": {},
   "outputs": [
    {
     "name": "stdout",
     "output_type": "stream",
     "text": [
      "red\n"
     ]
    }
   ],
   "source": [
    "a.color = 'red'\n",
    "res = a.color\n",
    "print(res)"
   ]
  },
  {
   "cell_type": "code",
   "execution_count": 9,
   "metadata": {},
   "outputs": [
    {
     "name": "stdout",
     "output_type": "stream",
     "text": [
      "black\n"
     ]
    }
   ],
   "source": [
    "print(b.color)"
   ]
  },
  {
   "cell_type": "code",
   "execution_count": 10,
   "metadata": {},
   "outputs": [
    {
     "name": "stdout",
     "output_type": "stream",
     "text": [
      "AE86\n"
     ]
    }
   ],
   "source": [
    "a.name = 'AE86'\n",
    "print(a.name)"
   ]
  },
  {
   "cell_type": "code",
   "execution_count": 11,
   "metadata": {},
   "outputs": [
    {
     "ename": "AttributeError",
     "evalue": "'Car' object has no attribute 'name'",
     "output_type": "error",
     "traceback": [
      "\u001b[0;31m---------------------------------------------------------------------------\u001b[0m",
      "\u001b[0;31mAttributeError\u001b[0m                            Traceback (most recent call last)",
      "Cell \u001b[0;32mIn[11], line 1\u001b[0m\n\u001b[0;32m----> 1\u001b[0m \u001b[38;5;28mprint\u001b[39m(\u001b[43mb\u001b[49m\u001b[38;5;241;43m.\u001b[39;49m\u001b[43mname\u001b[49m)\n",
      "\u001b[0;31mAttributeError\u001b[0m: 'Car' object has no attribute 'name'"
     ]
    }
   ],
   "source": [
    "print(b.name)"
   ]
  },
  {
   "cell_type": "code",
   "execution_count": 12,
   "metadata": {},
   "outputs": [
    {
     "name": "stdout",
     "output_type": "stream",
     "text": [
      "AE86\n"
     ]
    },
    {
     "ename": "AttributeError",
     "evalue": "'Car' object has no attribute 'name'",
     "output_type": "error",
     "traceback": [
      "\u001b[0;31m---------------------------------------------------------------------------\u001b[0m",
      "\u001b[0;31mAttributeError\u001b[0m                            Traceback (most recent call last)",
      "Cell \u001b[0;32mIn[12], line 3\u001b[0m\n\u001b[1;32m      1\u001b[0m \u001b[38;5;28mprint\u001b[39m(a\u001b[38;5;241m.\u001b[39mname)\n\u001b[1;32m      2\u001b[0m \u001b[38;5;28;01mdel\u001b[39;00m a\u001b[38;5;241m.\u001b[39mname\n\u001b[0;32m----> 3\u001b[0m \u001b[38;5;28mprint\u001b[39m(\u001b[43ma\u001b[49m\u001b[38;5;241;43m.\u001b[39;49m\u001b[43mname\u001b[49m)\n\u001b[1;32m      4\u001b[0m \u001b[38;5;28;01mdel\u001b[39;00m a\u001b[38;5;241m.\u001b[39mbrand\n",
      "\u001b[0;31mAttributeError\u001b[0m: 'Car' object has no attribute 'name'"
     ]
    }
   ],
   "source": [
    "print(a.name)\n",
    "del a.name\n",
    "print(a.name)\n",
    "del a.brand"
   ]
  },
  {
   "cell_type": "code",
   "execution_count": 13,
   "metadata": {},
   "outputs": [
    {
     "name": "stdout",
     "output_type": "stream",
     "text": [
      "AttributeError: brand\n",
      "a.brand:  mustang\n"
     ]
    }
   ],
   "source": [
    "try:\n",
    "    del a.brand\n",
    "except AttributeError as e:\n",
    "    print('AttributeError:', e)\n",
    "\n",
    "print('a.brand: ', a.brand)"
   ]
  },
  {
   "cell_type": "code",
   "execution_count": 14,
   "metadata": {},
   "outputs": [
    {
     "name": "stdout",
     "output_type": "stream",
     "text": [
      "The car can be used for commuting.\n"
     ]
    }
   ],
   "source": [
    "a.rode()\n"
   ]
  },
  {
   "cell_type": "code",
   "execution_count": 16,
   "metadata": {},
   "outputs": [
    {
     "name": "stdout",
     "output_type": "stream",
     "text": [
      "This is a newly defined method\n"
     ]
    }
   ],
   "source": [
    "def func():\n",
    "    print('This is a newly defined method')\n",
    "\n",
    "a.rode = func\n",
    "a.rode()"
   ]
  },
  {
   "cell_type": "code",
   "execution_count": 17,
   "metadata": {},
   "outputs": [
    {
     "name": "stdout",
     "output_type": "stream",
     "text": [
      "This is a newly defined method\n"
     ]
    }
   ],
   "source": [
    "a.func2 = func\n",
    "a.func2()"
   ]
  },
  {
   "cell_type": "code",
   "execution_count": 18,
   "metadata": {},
   "outputs": [],
   "source": [
    "del a.func2"
   ]
  },
  {
   "cell_type": "code",
   "execution_count": 19,
   "metadata": {},
   "outputs": [
    {
     "ename": "AttributeError",
     "evalue": "'Car' object has no attribute 'func2'",
     "output_type": "error",
     "traceback": [
      "\u001b[0;31m---------------------------------------------------------------------------\u001b[0m",
      "\u001b[0;31mAttributeError\u001b[0m                            Traceback (most recent call last)",
      "Cell \u001b[0;32mIn[19], line 1\u001b[0m\n\u001b[0;32m----> 1\u001b[0m \u001b[43ma\u001b[49m\u001b[38;5;241;43m.\u001b[39;49m\u001b[43mfunc2\u001b[49m()\n",
      "\u001b[0;31mAttributeError\u001b[0m: 'Car' object has no attribute 'func2'"
     ]
    }
   ],
   "source": [
    "a.func2()"
   ]
  },
  {
   "cell_type": "code",
   "execution_count": 20,
   "metadata": {},
   "outputs": [
    {
     "name": "stdout",
     "output_type": "stream",
     "text": [
      "mustang\n",
      "BMW\n",
      "BMW\n"
     ]
    }
   ],
   "source": [
    "print(a.brand)  # Print the original attribute first\n",
    "Car.brand = 'BMW'\n",
    "b = Car()  # Create a new instance\n",
    "print(b.brand)  # Print the attribute of the new instance\n",
    "print(a.brand)  # Print the attribute of the previously created instance"
   ]
  },
  {
   "cell_type": "markdown",
   "metadata": {},
   "source": [
    "## SELF"
   ]
  },
  {
   "cell_type": "code",
   "execution_count": 21,
   "metadata": {},
   "outputs": [
    {
     "name": "stdout",
     "output_type": "stream",
     "text": [
      "<__main__.Person object at 0x10c0b0880>\n",
      "Zhang San\n",
      "Hivan\n",
      "Can rap\n"
     ]
    }
   ],
   "source": [
    "# Define a person\n",
    "class Person():\n",
    "    # Member attributes\n",
    "    name = 'name'\n",
    "    age = 0\n",
    "    sex = 'sex'\n",
    "\n",
    "    # Member methods\n",
    "    def sing(self):\n",
    "        print('Can sing')\n",
    "    \n",
    "    def dance(self):\n",
    "        print('Can dance')\n",
    "\n",
    "    def rap(self):\n",
    "        print('Can rap')\n",
    "\n",
    "    def func(self):\n",
    "        print(self)\n",
    "        print(self.name)\n",
    "        self.name = 'Hivan'\n",
    "        print(self.name)\n",
    "        self.rap()\n",
    "\n",
    "# Instantiate an object\n",
    "zs = Person()\n",
    "zs.name = \"Zhang San\"\n",
    "zs.func()"
   ]
  },
  {
   "cell_type": "code",
   "execution_count": 22,
   "metadata": {},
   "outputs": [
    {
     "name": "stdout",
     "output_type": "stream",
     "text": [
      "I am Zhang San, I can rap\n"
     ]
    }
   ],
   "source": [
    "# Define a person\n",
    "class Person():\n",
    "    # Member attributes\n",
    "    name = 'name'\n",
    "    age = 0\n",
    "    sex = 'sex'\n",
    "\n",
    "    # Member methods\n",
    "    def sing(self):\n",
    "        print('Can sing')\n",
    "    \n",
    "    def dance(self):\n",
    "        print('Can dance')\n",
    "\n",
    "    def rap(self):\n",
    "        print(f'I am {self.name}, I can rap')\n",
    "\n",
    "    def func(self):\n",
    "        # print(self)\n",
    "        # print(self.name)\n",
    "        # self.name = 'Tea Hills'\n",
    "        # print(self.name)\n",
    "        self.rap()\n",
    "\n",
    "# Instantiate an object\n",
    "zs = Person()\n",
    "zs.name = \"Zhang San\"\n",
    "zs.func()"
   ]
  },
  {
   "cell_type": "code",
   "execution_count": 23,
   "metadata": {},
   "outputs": [
    {
     "ename": "TypeError",
     "evalue": "func() missing 1 required positional argument: 'self'",
     "output_type": "error",
     "traceback": [
      "\u001b[0;31m---------------------------------------------------------------------------\u001b[0m",
      "\u001b[0;31mTypeError\u001b[0m                                 Traceback (most recent call last)",
      "Cell \u001b[0;32mIn[23], line 1\u001b[0m\n\u001b[0;32m----> 1\u001b[0m \u001b[43mPerson\u001b[49m\u001b[38;5;241;43m.\u001b[39;49m\u001b[43mfunc\u001b[49m\u001b[43m(\u001b[49m\u001b[43m)\u001b[49m\n",
      "\u001b[0;31mTypeError\u001b[0m: func() missing 1 required positional argument: 'self'"
     ]
    }
   ],
   "source": [
    "Person.func()"
   ]
  },
  {
   "cell_type": "code",
   "execution_count": 24,
   "metadata": {},
   "outputs": [
    {
     "name": "stdout",
     "output_type": "stream",
     "text": [
      "I am a method without `self`.\n"
     ]
    }
   ],
   "source": [
    "class Person():\n",
    "    def func():\n",
    "        print(\"I am a method without `self`.\")\n",
    "\n",
    "Person.func()"
   ]
  },
  {
   "cell_type": "code",
   "execution_count": 25,
   "metadata": {},
   "outputs": [
    {
     "ename": "TypeError",
     "evalue": "func() takes 0 positional arguments but 1 was given",
     "output_type": "error",
     "traceback": [
      "\u001b[0;31m---------------------------------------------------------------------------\u001b[0m",
      "\u001b[0;31mTypeError\u001b[0m                                 Traceback (most recent call last)",
      "Cell \u001b[0;32mIn[25], line 2\u001b[0m\n\u001b[1;32m      1\u001b[0m a \u001b[38;5;241m=\u001b[39m Person()\n\u001b[0;32m----> 2\u001b[0m \u001b[43ma\u001b[49m\u001b[38;5;241;43m.\u001b[39;49m\u001b[43mfunc\u001b[49m\u001b[43m(\u001b[49m\u001b[43m)\u001b[49m\n",
      "\u001b[0;31mTypeError\u001b[0m: func() takes 0 positional arguments but 1 was given"
     ]
    }
   ],
   "source": [
    "a = Person()\n",
    "a.func()"
   ]
  },
  {
   "cell_type": "code",
   "execution_count": 26,
   "metadata": {},
   "outputs": [
    {
     "name": "stdout",
     "output_type": "stream",
     "text": [
      "I am admin, and I use vars to receive parameters.\n"
     ]
    }
   ],
   "source": [
    "class Person():\n",
    "    def func(vars):\n",
    "        print(f'I am {vars.name}, and I use vars to receive parameters.')\n",
    "\n",
    "a = Person()\n",
    "a.name = 'admin'\n",
    "a.func()"
   ]
  },
  {
   "cell_type": "code",
   "execution_count": 27,
   "metadata": {},
   "outputs": [
    {
     "name": "stdout",
     "output_type": "stream",
     "text": [
      "I am an initialization method.\n",
      "I am Zhang San, I am 41 years old, gender: male\n"
     ]
    }
   ],
   "source": [
    "class Person():\n",
    "    name = None\n",
    "    age = None\n",
    "    sex = None\n",
    "\n",
    "    # Initialization method\n",
    "    def __init__(self, name, age, sex):\n",
    "        print('I am an initialization method.')\n",
    "        # Initialize object properties\n",
    "        self.name = name\n",
    "        self.age = age\n",
    "        self.sex = sex\n",
    "\n",
    "    # Member method\n",
    "    def say(self):\n",
    "        print('Hello everyone, I am Hivan.')\n",
    "\n",
    "# Instantiate an object\n",
    "zs = Person('Zhang San', 41, 'male')\n",
    "print(f'I am {zs.name}, I am {zs.age} years old, gender: {zs.sex}')"
   ]
  },
  {
   "cell_type": "code",
   "execution_count": 28,
   "metadata": {},
   "outputs": [
    {
     "name": "stdout",
     "output_type": "stream",
     "text": [
      "Initialization method triggered, opening the file\n",
      "Writing log \"today is a good day.\" to the file\n",
      "Destructor method triggered, closing the opened file\n"
     ]
    }
   ],
   "source": [
    "import time\n",
    "\n",
    "class writeLog():\n",
    "    # Member attributes\n",
    "    # Path to the file\n",
    "    fileurl = './data/'\n",
    "    # Name of the log file\n",
    "    filename = str(time.strftime('%Y-%m-%d'))+'.log'\n",
    "\n",
    "    # Initialization: Open the file\n",
    "    def __init__(self):\n",
    "        # Complete file opening\n",
    "        print('Initialization method triggered, opening the file')\n",
    "        self.fileobj = open(self.fileurl + self.filename, 'a+', encoding='utf-8')\n",
    "\n",
    "    # Method to write logs\n",
    "    def log(self, s):\n",
    "        self.fileobj.write(s)\n",
    "        print(f'Writing log \"{s}\" to the file')\n",
    "\n",
    "    # Destructor method\n",
    "    def __del__(self):\n",
    "        print('Destructor method triggered, closing the opened file')\n",
    "        # Close the file object opened in the initialization method when the object is destroyed\n",
    "        self.fileobj.close()\n",
    "\n",
    "# Instantiate an object\n",
    "l = writeLog()\n",
    "l.log('today is a good day.')\n",
    "del l"
   ]
  },
  {
   "cell_type": "markdown",
   "metadata": {},
   "source": [
    "## Encapsulation"
   ]
  },
  {
   "cell_type": "code",
   "execution_count": 29,
   "metadata": {},
   "outputs": [
    {
     "name": "stdout",
     "output_type": "stream",
     "text": [
      "{'__module__': '__main__', 'name': None, 'age': None, 'sex': None, '__init__': <function Person.__init__ at 0x10c197d30>, 'say': <function Person.say at 0x10c197940>, 'sing': <function Person.sing at 0x10c197e50>, 'kiss': <function Person.kiss at 0x10c197b80>, '__dict__': <attribute '__dict__' of 'Person' objects>, '__weakref__': <attribute '__weakref__' of 'Person' objects>, '__doc__': None}\n",
      "{'name': 'Zhang San', 'age': 49, 'sex': 'male'}\n",
      "Zhang San\n",
      "come on...\n"
     ]
    }
   ],
   "source": [
    "class Person():\n",
    "    # Member attributes\n",
    "    name = None\n",
    "    age = None\n",
    "    sex = None\n",
    "\n",
    "    # Initialization method\n",
    "    def __init__(self, name, age, sex):\n",
    "        self.name = name\n",
    "        self.age = age\n",
    "        self.sex = sex\n",
    "\n",
    "    # Member methods\n",
    "    def say(self):\n",
    "        print('talk about life.')\n",
    "    \n",
    "    def sing(self):\n",
    "        print('sing a song.')\n",
    "\n",
    "    def kiss(self):\n",
    "        print('come on...')\n",
    "\n",
    "# Instantiate an object\n",
    "zs = Person('Zhang San', 49, 'male')\n",
    "\n",
    "# View all members of the object\n",
    "\n",
    "print(Person.__dict__) # Get all member information of the current class\n",
    "print(zs.__dict__) # Get all member information of the current object\n",
    "\n",
    "# We can also directly access all methods of the object\n",
    "print(zs.name)\n",
    "zs.kiss()"
   ]
  },
  {
   "cell_type": "code",
   "execution_count": 30,
   "metadata": {},
   "outputs": [
    {
     "name": "stdout",
     "output_type": "stream",
     "text": [
      "{'__module__': '__main__', 'name': None, '_age': None, '_Person__sex': None, '__init__': <function Person.__init__ at 0x10c1aedc0>, 'say': <function Person.say at 0x10c1ae280>, '_sing': <function Person._sing at 0x10c1aeee0>, '_Person__kiss': <function Person.__kiss at 0x10c1ae310>, '__dict__': <attribute '__dict__' of 'Person' objects>, '__weakref__': <attribute '__weakref__' of 'Person' objects>, '__doc__': None}\n",
      "{'name': 'Zhang San', '_age': 49, '_Person__sex': 'male'}\n",
      "sing a song.\n"
     ]
    },
    {
     "ename": "AttributeError",
     "evalue": "'Person' object has no attribute '__kiss'",
     "output_type": "error",
     "traceback": [
      "\u001b[0;31m---------------------------------------------------------------------------\u001b[0m",
      "\u001b[0;31mAttributeError\u001b[0m                            Traceback (most recent call last)",
      "Cell \u001b[0;32mIn[30], line 37\u001b[0m\n\u001b[1;32m     31\u001b[0m \u001b[38;5;66;03m# # We can also directly access all methods of the object\u001b[39;00m\n\u001b[1;32m     32\u001b[0m \u001b[38;5;66;03m# print(zs.name)\u001b[39;00m\n\u001b[1;32m     33\u001b[0m \u001b[38;5;66;03m# zs.kiss() # This will raise an AttributeError because __kiss is private\u001b[39;00m\n\u001b[1;32m     34\u001b[0m \u001b[38;5;66;03m# print(zs._age) # This will work, as _age is protected\u001b[39;00m\n\u001b[1;32m     35\u001b[0m \u001b[38;5;66;03m# print(zs.__sex) # This will raise an AttributeError because __sex is private\u001b[39;00m\n\u001b[1;32m     36\u001b[0m zs\u001b[38;5;241m.\u001b[39m_sing() \u001b[38;5;66;03m# This will work, as _sing is a protected method\u001b[39;00m\n\u001b[0;32m---> 37\u001b[0m \u001b[43mzs\u001b[49m\u001b[38;5;241;43m.\u001b[39;49m\u001b[43m__kiss\u001b[49m() \u001b[38;5;66;03m# This will raise an AttributeError because __kiss is private\u001b[39;00m\n",
      "\u001b[0;31mAttributeError\u001b[0m: 'Person' object has no attribute '__kiss'"
     ]
    }
   ],
   "source": [
    "class Person():\n",
    "    # Member attributes\n",
    "    name = None\n",
    "    _age = None # This is a protected member\n",
    "    __sex = None # This is a private member\n",
    "\n",
    "    # Initialization method\n",
    "    def __init__(self, name, age, sex):\n",
    "        self.name = name\n",
    "        self._age = age\n",
    "        self.__sex = sex\n",
    "\n",
    "    # Member methods\n",
    "    def say(self):\n",
    "        print('talk about life.')\n",
    "    \n",
    "    def _sing(self):\n",
    "        print('sing a song.')\n",
    "\n",
    "    def __kiss(self):\n",
    "        print('come on...')\n",
    "\n",
    "# Instantiate an object\n",
    "zs = Person('Zhang San', 49, 'male')\n",
    "\n",
    "# View all members of the object\n",
    "\n",
    "print(Person.__dict__) # Get all member information of the current class\n",
    "print(zs.__dict__) # Get all member information of the current object\n",
    "\n",
    "# # We can also directly access all methods of the object\n",
    "# print(zs.name)\n",
    "# zs.kiss() # This will raise an AttributeError because __kiss is private\n",
    "# print(zs._age) # This will work, as _age is protected\n",
    "# print(zs.__sex) # This will raise an AttributeError because __sex is private\n",
    "zs._sing() # This will work, as _sing is a protected method\n",
    "zs.__kiss() # This will raise an AttributeError because __kiss is private"
   ]
  },
  {
   "cell_type": "markdown",
   "metadata": {},
   "source": [
    "## Inheritance"
   ]
  },
  {
   "cell_type": "code",
   "execution_count": 31,
   "metadata": {},
   "outputs": [],
   "source": [
    "# Syntax for inheritance\n",
    "class Parent():\n",
    "    pass\n",
    "\n",
    "class Child(Parent):\n",
    "    pass\n"
   ]
  },
  {
   "cell_type": "code",
   "execution_count": 32,
   "metadata": {},
   "outputs": [],
   "source": [
    "# Define Felidae (family of cats)\n",
    "class Felidae():\n",
    "    # Attributes\n",
    "    coatColor = 'orange' # Fur color\n",
    "    sex = 'M' # Gender\n",
    "\n",
    "    # Member methods\n",
    "    def run(self):\n",
    "        print('Graceful leap')\n",
    "\n",
    "    def walk(self):\n",
    "        print('Walking like a cat')\n",
    "\n",
    "# Define Cat\n",
    "class Cat():\n",
    "    coatColor = 'white'\n",
    "    sex = 'M' # Gender\n",
    "\n",
    "    # Member methods\n",
    "    def run(self):\n",
    "        print('Graceful leap')\n",
    "\n",
    "    def walk(self):\n",
    "        print('Walking like a cat')"
   ]
  },
  {
   "cell_type": "code",
   "execution_count": 35,
   "metadata": {},
   "outputs": [
    {
     "name": "stdout",
     "output_type": "stream",
     "text": [
      "Graceful leap\n",
      "small\n",
      "Eating cat food.\n"
     ]
    },
    {
     "ename": "AttributeError",
     "evalue": "type object 'Felidae' has no attribute 'eat'",
     "output_type": "error",
     "traceback": [
      "\u001b[0;31m---------------------------------------------------------------------------\u001b[0m",
      "\u001b[0;31mAttributeError\u001b[0m                            Traceback (most recent call last)",
      "Cell \u001b[0;32mIn[35], line 25\u001b[0m\n\u001b[1;32m     23\u001b[0m \u001b[38;5;28mprint\u001b[39m(mimi\u001b[38;5;241m.\u001b[39msize)\n\u001b[1;32m     24\u001b[0m mimi\u001b[38;5;241m.\u001b[39meat()\n\u001b[0;32m---> 25\u001b[0m \u001b[43mFelidae\u001b[49m\u001b[38;5;241;43m.\u001b[39;49m\u001b[43meat\u001b[49m()\n",
      "\u001b[0;31mAttributeError\u001b[0m: type object 'Felidae' has no attribute 'eat'"
     ]
    }
   ],
   "source": [
    "# Define Felidae (family of cats)\n",
    "class Felidae():\n",
    "    # Attributes\n",
    "    coatColor = 'orange' # Fur color\n",
    "    sex = 'M' # Gender\n",
    "\n",
    "    # Member methods\n",
    "    def run(self):\n",
    "        print('Graceful leap')\n",
    "\n",
    "    def walk(self):\n",
    "        print('Walking like a cat')\n",
    "\n",
    "# Define Cat\n",
    "class Cat(Felidae):\n",
    "    size = 'small'\n",
    "    def eat(self):\n",
    "        print('Eating cat food.')\n",
    "    pass\n",
    "\n",
    "mimi = Cat()\n",
    "mimi.run()\n",
    "print(mimi.size)\n",
    "mimi.eat()\n",
    "Felidae.eat()"
   ]
  },
  {
   "cell_type": "code",
   "execution_count": 36,
   "metadata": {},
   "outputs": [
    {
     "name": "stdout",
     "output_type": "stream",
     "text": [
      "Graceful leap\n",
      "Even more graceful leap.\n"
     ]
    }
   ],
   "source": [
    "# Define Felidae (family of cats)\n",
    "class Felidae():\n",
    "    # Attributes\n",
    "    coatColor = 'orange' # Fur color\n",
    "    sex = 'M' # Gender\n",
    "\n",
    "    # Member methods\n",
    "    def run(self):\n",
    "        print('Graceful leap')\n",
    "\n",
    "    def walk(self):\n",
    "        print('Walking like a cat')\n",
    "\n",
    "# Define Cat\n",
    "class Cat(Felidae):\n",
    "    size = 'small'\n",
    "    def run(self):\n",
    "        super().run()\n",
    "        print('Even more graceful leap.')\n",
    "\n",
    "    def eat(self):\n",
    "        print('Eating cat food.')\n",
    "\n",
    "    pass\n",
    "\n",
    "mimi = Cat()\n",
    "mimi.run()"
   ]
  },
  {
   "cell_type": "code",
   "execution_count": 37,
   "metadata": {},
   "outputs": [
    {
     "name": "stdout",
     "output_type": "stream",
     "text": [
      "The appearance of a person.\n",
      "Characteristics of a beast.\n"
     ]
    },
    {
     "data": {
      "text/plain": [
       "<__main__.Japanese at 0x10be6adf0>"
      ]
     },
     "execution_count": 37,
     "metadata": {},
     "output_type": "execute_result"
    }
   ],
   "source": [
    "class Person():\n",
    "    print('The appearance of a person.')\n",
    "\n",
    "class Beast():\n",
    "    print('Characteristics of a beast.')\n",
    "\n",
    "class J(Person, Beast):\n",
    "    pass\n",
    "\n",
    "c = J()\n",
    "c"
   ]
  },
  {
   "cell_type": "code",
   "execution_count": 49,
   "metadata": {},
   "outputs": [
    {
     "name": "stdout",
     "output_type": "stream",
     "text": [
      "Swallowing food in small bites...\n",
      "How should I eat?\n"
     ]
    }
   ],
   "source": [
    "class Tiger():\n",
    "    def eat(self):\n",
    "        print('Biting food with big mouth...')\n",
    "\n",
    "class Cat():\n",
    "    def eat(self):\n",
    "        print('Swallowing food in small bites...')\n",
    "\n",
    "class C(Cat, Tiger):\n",
    "    def eat(self):\n",
    "        super().eat()\n",
    "        print('How should I eat?')\n",
    "\n",
    "# Instantiate object\n",
    "c = C()\n",
    "c.eat()"
   ]
  },
  {
   "cell_type": "code",
   "execution_count": 39,
   "metadata": {},
   "outputs": [
    {
     "name": "stdout",
     "output_type": "stream",
     "text": [
      "Learning to find food by instinct...\n",
      "111\n",
      "Another evolutionary branch, swallowing in small bites...\n",
      "333\n",
      "Evolved, learned to eat meat with big mouth...\n",
      "222\n",
      "Devolved, forgot how to eat...\n"
     ]
    }
   ],
   "source": [
    "# Diamond inheritance\n",
    "\n",
    "# Ancestor\n",
    "class A():\n",
    "    num = 111\n",
    "    def eat(self):\n",
    "        print('Learning to find food by instinct...')\n",
    "\n",
    "# Father\n",
    "class B(A):\n",
    "    num = 222\n",
    "    def eat(self):\n",
    "        super().eat()\n",
    "        print(super().num)\n",
    "        print('Evolved, learned to eat meat with big mouth...')\n",
    "\n",
    "# Mother\n",
    "class C(A):\n",
    "    num = 333\n",
    "    def eat(self):\n",
    "        super().eat()\n",
    "        print(super().num)\n",
    "        print('Another evolutionary branch, swallowing in small bites...')\n",
    "\n",
    "# Child\n",
    "class D(B, C):\n",
    "    num = 444\n",
    "    def eat(self):\n",
    "        super().eat()\n",
    "        print(super().num)\n",
    "        print('Devolved, forgot how to eat...')\n",
    "\n",
    "d = D()\n",
    "d.eat()"
   ]
  },
  {
   "cell_type": "code",
   "execution_count": 40,
   "metadata": {},
   "outputs": [
    {
     "name": "stdout",
     "output_type": "stream",
     "text": [
      "444\n",
      "<__main__.D object at 0x10bf27040>\n",
      "444\n",
      "<__main__.D object at 0x10bf27040>\n",
      "444\n",
      "<__main__.D object at 0x10bf27040>\n",
      "Learning to find food by instinct...\n",
      "111\n",
      "Another evolutionary branch, swallowing in small bites...\n",
      "333\n",
      "Evolved, learned to eat meat with big mouth...\n",
      "222\n",
      "Devolved, forgot how to eat...\n"
     ]
    }
   ],
   "source": [
    "# Diamond inheritance\n",
    "\n",
    "# Ancestor\n",
    "class A():\n",
    "    num = 111\n",
    "    def eat(self):\n",
    "        print(self.num)\n",
    "        print(self)\n",
    "        print('Learning to find food by instinct...')\n",
    "\n",
    "# Father\n",
    "class B(A):\n",
    "    num = 222\n",
    "    def eat(self):\n",
    "        print(self.num)\n",
    "        print(self)\n",
    "        super().eat()\n",
    "        print(super().num)\n",
    "        print('Evolved, learned to eat meat with big mouth...')\n",
    "\n",
    "# Mother\n",
    "class C(A):\n",
    "    num = 333\n",
    "    def eat(self):\n",
    "        print(self.num)\n",
    "        print(self)\n",
    "        super().eat()\n",
    "        print(super().num)\n",
    "        print('Another evolutionary branch, swallowing in small bites...')\n",
    "\n",
    "# Child\n",
    "class D(B, C):\n",
    "    num = 444\n",
    "    def eat(self):\n",
    "        super().eat()\n",
    "        print(super().num)\n",
    "        print('Devolved, forgot how to eat...')\n",
    "\n",
    "d = D()\n",
    "d.eat()"
   ]
  },
  {
   "cell_type": "code",
   "execution_count": 41,
   "metadata": {},
   "outputs": [
    {
     "data": {
      "text/plain": [
       "[__main__.D, __main__.B, __main__.C, __main__.A, object]"
      ]
     },
     "execution_count": 41,
     "metadata": {},
     "output_type": "execute_result"
    }
   ],
   "source": [
    "D.mro()"
   ]
  },
  {
   "cell_type": "code",
   "execution_count": 42,
   "metadata": {},
   "outputs": [
    {
     "name": "stdout",
     "output_type": "stream",
     "text": [
      "True\n",
      "True\n",
      "True\n",
      "False\n"
     ]
    }
   ],
   "source": [
    "res = issubclass(D, B)\n",
    "print(res)\n",
    "res = issubclass(D, C)\n",
    "print(res)\n",
    "res = issubclass(D, A)\n",
    "print(res)\n",
    "res = issubclass(A, D)\n",
    "print(res)"
   ]
  },
  {
   "cell_type": "code",
   "execution_count": 44,
   "metadata": {},
   "outputs": [
    {
     "name": "stdout",
     "output_type": "stream",
     "text": [
      "Mouse started successfully, ready to double-click and single-click...\n",
      "Keyboard started successfully, ready to type 666...\n",
      "USB drive started, check if my files are still there...\n"
     ]
    }
   ],
   "source": [
    "# Define the Computer class\n",
    "class Computer():\n",
    "    # Define a standard interface method for USB in the Computer class\n",
    "    def usb(self, obj):\n",
    "        obj.start()\n",
    "\n",
    "# Define the Mouse class\n",
    "class Mouse():\n",
    "    def start(self):\n",
    "        print('Mouse started successfully, ready to double-click and single-click...')\n",
    "\n",
    "# Define the Keyboard class\n",
    "class Keyboard():\n",
    "    def start(self):\n",
    "        print('Keyboard started successfully, ready to type 666...')\n",
    "\n",
    "# Define the USB Drive class\n",
    "class Udisk():\n",
    "    def start(self):\n",
    "        print('USB drive started, check if my files are still there...')\n",
    "\n",
    "# Instantiate objects\n",
    "c = Computer()  # Computer object\n",
    "m = Mouse()     # Mouse object\n",
    "k = Keyboard()  # Keyboard object\n",
    "u = Udisk()     # USB drive object\n",
    "\n",
    "# Insert different devices into the computer's USB port\n",
    "c.usb(m)\n",
    "c.usb(k)\n",
    "c.usb(u)"
   ]
  },
  {
   "cell_type": "code",
   "execution_count": 45,
   "metadata": {},
   "outputs": [
    {
     "name": "stdout",
     "output_type": "stream",
     "text": [
      "Mouse started successfully, ready to double-click and single-click...\n",
      "Keyboard started successfully, ready to type 666...\n",
      "USB drive started, check if my files are still there...\n"
     ]
    }
   ],
   "source": [
    "# Polymorphism with Inheritance\n",
    "\n",
    "# Define USB\n",
    "class USB():\n",
    "    '''\n",
    "    info:\n",
    "        This class is an interface specification class that requires subclasses to inherit and implement the start method.\n",
    "        The start method does not implement any specific functionality.\n",
    "    '''\n",
    "    # Define a standardized interface method in the USB class, but do not implement any functionality\n",
    "    def start(self):\n",
    "        pass\n",
    "\n",
    "# Define the Mouse class\n",
    "class Mouse(USB):\n",
    "    def start(self):\n",
    "        print('Mouse started successfully, ready to double-click and single-click...')\n",
    "\n",
    "# Define the Keyboard class\n",
    "class Keyboard(USB):\n",
    "    def start(self):\n",
    "        print('Keyboard started successfully, ready to type 666...')\n",
    "\n",
    "# Define the USB Drive class\n",
    "class Udisk(USB):\n",
    "    def start(self):\n",
    "        print('USB drive started, check if my files are still there...')\n",
    "\n",
    "# Instantiate objects\n",
    "m = Mouse()\n",
    "k = Keyboard()\n",
    "u = Udisk()\n",
    "\n",
    "m.start()\n",
    "k.start()\n",
    "u.start()"
   ]
  },
  {
   "cell_type": "code",
   "execution_count": null,
   "metadata": {},
   "outputs": [],
   "source": []
  }
 ],
 "metadata": {
  "kernelspec": {
   "display_name": "base",
   "language": "python",
   "name": "python3"
  },
  "language_info": {
   "codemirror_mode": {
    "name": "ipython",
    "version": 3
   },
   "file_extension": ".py",
   "mimetype": "text/x-python",
   "name": "python",
   "nbconvert_exporter": "python",
   "pygments_lexer": "ipython3",
   "version": "3.9.16"
  },
  "orig_nbformat": 4
 },
 "nbformat": 4,
 "nbformat_minor": 2
}
