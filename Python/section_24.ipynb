{
 "cells": [
  {
   "cell_type": "markdown",
   "metadata": {},
   "source": [
    "# SECTION 24, decorator"
   ]
  },
  {
   "cell_type": "code",
   "execution_count": 1,
   "metadata": {},
   "outputs": [],
   "source": [
    "# Define an outer function that accepts another function as a parameter\n",
    "def outer(f):\n",
    "    # Define an inner function, which calls the parameter function from the outer function\n",
    "    def inner():\n",
    "        print('I am the inner function 1 in the outer function')\n",
    "        f()\n",
    "        print('I am the inner function 2 in the outer function')\n",
    "    return inner\n",
    "\n",
    "# Define a regular function\n",
    "def old():\n",
    "    print('I am a regular function')\n",
    "\n",
    "# old() # Directly calling the regular function\n",
    "\n",
    "old = outer(old) # outer returns the inner function, which is assigned to old\n",
    "# old()"
   ]
  },
  {
   "cell_type": "code",
   "execution_count": 2,
   "metadata": {},
   "outputs": [
    {
     "name": "stdout",
     "output_type": "stream",
     "text": [
      "I am the inner function 1 in the outer function\n",
      "I am a regular function\n",
      "I am the inner function 2 in the outer function\n"
     ]
    }
   ],
   "source": [
    "# Decorator usage\n",
    "@outer # Here outer is used as a decorator\n",
    "def old():\n",
    "    print('I am a regular function')\n",
    "\n",
    "old()"
   ]
  },
  {
   "cell_type": "code",
   "execution_count": 3,
   "metadata": {},
   "outputs": [
    {
     "name": "stdout",
     "output_type": "stream",
     "text": [
      "0 1 2 3 4 \n",
      "The function call execution time is: 5.137644667\n"
     ]
    }
   ],
   "source": [
    "import time\n",
    "\n",
    "# Define a decorator to measure the execution time of a function\n",
    "def runtime(f):\n",
    "    def inner():\n",
    "        start = time.perf_counter()\n",
    "        f()\n",
    "        end = time.perf_counter() - start\n",
    "        print(f'\\nThe function call execution time is: {end}')\n",
    "    return inner\n",
    "\n",
    "# Define a regular function\n",
    "@runtime\n",
    "def func():\n",
    "    for i in range(5):\n",
    "        print(i, end=\" \")\n",
    "        time.sleep(1)\n",
    "\n",
    "# func = runtime(func)\n",
    "func()"
   ]
  },
  {
   "cell_type": "code",
   "execution_count": 4,
   "metadata": {},
   "outputs": [
    {
     "name": "stdout",
     "output_type": "stream",
     "text": [
      "Got the WeChat of the girl, success... 1\n",
      "Had a big meal with the girl.. 2\n",
      "Talking about life and ideals with the girl... 3\n",
      "Watched a late-night movie with the girl... 4\n",
      "Sending the girl home... 5\n"
     ]
    }
   ],
   "source": [
    "\n",
    "def begin(f):\n",
    "    def begin_inner():\n",
    "        print('Got the WeChat of the girl, success... 1')\n",
    "        f()\n",
    "        print('Sending the girl home... 5')\n",
    "    return begin_inner\n",
    "\n",
    "def evolve(f):\n",
    "    def evolve_inner():\n",
    "        print('Had a big meal with the girl.. 2')\n",
    "        f()\n",
    "        print('Watched a late-night movie with the girl... 4')\n",
    "    return evolve_inner\n",
    "\n",
    "@begin\n",
    "@evolve\n",
    "def love():\n",
    "    print('Talking about life and ideals with the girl... 3')\n",
    "\n",
    "love()"
   ]
  },
  {
   "cell_type": "code",
   "execution_count": 5,
   "metadata": {},
   "outputs": [
    {
     "name": "stdout",
     "output_type": "stream",
     "text": [
      "Found the girl Lucy, successfully got her WeChat...\n",
      "Talking about life with Lucy...\n",
      "Inviting the girl Lucy to watch a late-night movie...\n"
     ]
    }
   ],
   "source": [
    "\n",
    "# Define a decorator\n",
    "def outer(f):\n",
    "    def inner(var):\n",
    "        print(f'Found the girl {var}, successfully got her WeChat...')\n",
    "        f(var)\n",
    "        print(f'Inviting the girl {var} to watch a late-night movie...')\n",
    "    return inner\n",
    "\n",
    "# Function with parameters\n",
    "@outer\n",
    "def love(name):\n",
    "    print(f'Talking about life with {name}...')\n",
    "\n",
    "love('Lucy')"
   ]
  },
  {
   "cell_type": "code",
   "execution_count": 6,
   "metadata": {},
   "outputs": [
    {
     "name": "stdout",
     "output_type": "stream",
     "text": [
      "Found the girl Lucy, successfully got her WeChat...\n",
      "Talking about life with Lucy...\n",
      "Inviting the girl Lucy to watch a late-night movie...\n"
     ]
    }
   ],
   "source": [
    "# Define a decorator\n",
    "def outer(f):\n",
    "    def inner(var):\n",
    "        print(f'Found the girl {var}, successfully got her WeChat...')\n",
    "        f(var)\n",
    "        print(f'Inviting the girl {var} to watch a late-night movie...')\n",
    "    return inner\n",
    "\n",
    "# Function with parameters\n",
    "@outer\n",
    "def love(name):\n",
    "    print(f'Talking about life with {name}...')\n",
    "\n",
    "love('Lucy')"
   ]
  },
  {
   "cell_type": "code",
   "execution_count": 7,
   "metadata": {},
   "outputs": [
    {
     "name": "stdout",
     "output_type": "stream",
     "text": [
      "Tea got the WeChat of Lucy...\n",
      "Tea talks about life with Lucy...\n",
      "Took Lucy to eat a lot of delicious food: ('Hotpot', 'Seafood', 'Dessert')\n",
      "Watched a late-night movie with Lucy: {'movie': 'The First Part of Fengshen'}\n",
      "The sky is getting darker...\n"
     ]
    }
   ],
   "source": [
    "# Decorate a function with multiple parameters\n",
    "def outer(f):\n",
    "    def inner(man, name, *args, **kwargs):\n",
    "        print(f'{man} got the WeChat of {name}...')\n",
    "        f(man, name, *args, **kwargs)\n",
    "        print('The sky is getting darker...')\n",
    "    return inner\n",
    "\n",
    "# Define a function with multiple parameters\n",
    "@outer\n",
    "def love(man, name, *args, **kwargs):\n",
    "    print(f'{man} talks about life with {name}...')\n",
    "    print(f'Took {name} to eat a lot of delicious food: {args}')\n",
    "    print(f'Watched a late-night movie with {name}: {kwargs}')\n",
    "\n",
    "love('Tea', 'Lucy', 'Hotpot', 'Seafood', 'Dessert', movie='The First Part of Fengshen')"
   ]
  },
  {
   "cell_type": "code",
   "execution_count": 8,
   "metadata": {},
   "outputs": [
    {
     "name": "stdout",
     "output_type": "stream",
     "text": [
      "The girl gave you her friend’s WeChat\n"
     ]
    }
   ],
   "source": [
    "def put(var):\n",
    "    def outer(f):\n",
    "        def inner1():\n",
    "            print('The girl gave you her WeChat')\n",
    "        def inner2():\n",
    "            print('The girl gave you her friend’s WeChat')\n",
    "        def inner3():\n",
    "            print('The girl gave you a touching line: Go away...')\n",
    "\n",
    "        # The parameter in the decorator shell can be used for flow control within the function.\n",
    "        if var == 1:\n",
    "            return inner1\n",
    "        elif var == 2:\n",
    "            return inner2\n",
    "        else:\n",
    "            return inner3\n",
    "    return outer\n",
    "\n",
    "@put(2)\n",
    "def love():\n",
    "    print('Talking about life...')\n",
    "\n",
    "love()"
   ]
  },
  {
   "cell_type": "code",
   "execution_count": 9,
   "metadata": {},
   "outputs": [
    {
     "name": "stdout",
     "output_type": "stream",
     "text": [
      "Got the girl’s WeChat...\n",
      "Tea talks about ideals and life with the girl...\n",
      "Watch a late-night movie...\n",
      "<bound method Outer.inner of <__main__.Outer object at 0x103ca9100>>\n"
     ]
    }
   ],
   "source": [
    "# Class decorator to decorate a function\n",
    "class Outer():\n",
    "    # Magic method: Automatically triggered when the object of this class is called as a function\n",
    "    def __call__(self, func):\n",
    "        # Assign the passed function as a member method of the object\n",
    "        self.func = func \n",
    "        # Return a function\n",
    "        return self.inner\n",
    "    \n",
    "    # In the new method defined, perform decoration and processing\n",
    "    def inner(self, who):\n",
    "        print('Got the girl’s WeChat...')\n",
    "        self.func(who)\n",
    "        print('Watch a late-night movie...')\n",
    "'''\n",
    "Outer() instantiates an object => obj\n",
    "@obj is equivalent to obj(love)\n",
    "Enter the class => __call__(love)\n",
    "Receive the returned parameter `inner()`\n",
    "'''\n",
    "@Outer()\n",
    "def love(who):\n",
    "    print(f'{who} talks about ideals and life with the girl...')\n",
    "\n",
    "# inner('Tea')\n",
    "love('Tea')\n",
    "# At this point, love is the inner method of the `Outer` class object\n",
    "print(love)"
   ]
  },
  {
   "cell_type": "code",
   "execution_count": 10,
   "metadata": {},
   "outputs": [
    {
     "name": "stdout",
     "output_type": "stream",
     "text": [
      "Got the girl’s WeChat...\n",
      "Talking about life and having tea with the girl...\n",
      "Watch a late-night movie...\n"
     ]
    }
   ],
   "source": [
    "# Decorate functions with class methods\n",
    "class Outer():\n",
    "    def newinner(f):\n",
    "        # Define the passed function as a class method\n",
    "        Outer.func = f\n",
    "        # Also return a new class method\n",
    "        return Outer.inner\n",
    "    \n",
    "    def inner():\n",
    "        print('Got the girl’s WeChat...')\n",
    "        Outer.func()\n",
    "        print('Watch a late-night movie...')\n",
    "\n",
    "'''\n",
    "Outer.newinner(love) \n",
    "Receive the returned parameter: Outer.inner\n",
    "'''\n",
    "\n",
    "@Outer.newinner\n",
    "def love():\n",
    "    print('Talking about life and having tea with the girl...')\n",
    "\n",
    "# love() is equivalent to Outer.inner()\n",
    "love()"
   ]
  },
  {
   "cell_type": "code",
   "execution_count": 11,
   "metadata": {},
   "outputs": [
    {
     "name": "stdout",
     "output_type": "stream",
     "text": [
      "I am the func method defined in the Demo class\n",
      "I am a new method added in the decorator, func2\n",
      "I am a new attribute name added in the decorator\n"
     ]
    }
   ],
   "source": [
    "# Define a function that accepts a class and returns the modified class\n",
    "def expand(cls):\n",
    "    def func2():\n",
    "        print('I am a new method added in the decorator, func2')\n",
    "    cls.func2 = func2 # Add the newly defined method to the class\n",
    "    cls.name = 'I am a new attribute name added in the decorator'\n",
    "\n",
    "    # Return the class with the new members added\n",
    "    return cls\n",
    "\n",
    "@expand   # expand(Demo) ==> cls ==> Demo\n",
    "class Demo():\n",
    "    def func():\n",
    "        print('I am the func method defined in the Demo class')\n",
    "\n",
    "Demo.func() # Now calling the Demo class which is updated by the decorator\n",
    "Demo.func2()\n",
    "print(Demo.name)"
   ]
  },
  {
   "cell_type": "code",
   "execution_count": 12,
   "metadata": {},
   "outputs": [
    {
     "name": "stdout",
     "output_type": "stream",
     "text": [
      "I am the func method defined in the Demo class\n",
      "I am a new method func2 added in the class decorator\n",
      "I am a new attribute name added in the class decorator\n",
      "<__main__.Demo object at 0x103b33490>\n"
     ]
    },
    {
     "data": {
      "text/plain": [
       "'\\nAt this point, obj is still an instance of the Demo class, but after decoration, it has added new attributes and methods.\\n'"
      ]
     },
     "execution_count": 12,
     "metadata": {},
     "output_type": "execute_result"
    }
   ],
   "source": [
    "# Use class decorator to decorate a class\n",
    "class expand():\n",
    "    def __call__(self, cls):\n",
    "        # Assign the received class to the current object as an attribute\n",
    "        self.cls = cls\n",
    "        # Return a function\n",
    "        return self.newfunc\n",
    "\n",
    "    def newfunc(self):\n",
    "        self.cls.name = 'I am a new attribute name added in the class decorator'\n",
    "        self.cls.func2 = self.func2\n",
    "        # Return the instantiated result of the class\n",
    "        return self.cls()\n",
    "\n",
    "    def func2(self):\n",
    "        print('I am a new method func2 added in the class decorator')\n",
    "\n",
    "'''\n",
    "expand() ==> obj ==> @obj(Demo) ==> __call__(Demo) ==> newfunc\n",
    "'''\n",
    "@expand() \n",
    "class Demo():\n",
    "    def func(self):\n",
    "        print('I am the func method defined in the Demo class')\n",
    "\n",
    "obj = Demo()  # Demo() ==> newfunc() ==> obj\n",
    "obj.func()\n",
    "obj.func2()\n",
    "print(obj.name)\n",
    "\n",
    "# Thought: At this point, which class does the obj object belong to, Demo or expand\n",
    "print(obj) \n",
    "\n",
    "'''\n",
    "At this point, obj is still an instance of the Demo class, but after decoration, it has added new attributes and methods.\n",
    "'''"
   ]
  },
  {
   "cell_type": "code",
   "execution_count": null,
   "metadata": {},
   "outputs": [],
   "source": []
  }
 ],
 "metadata": {
  "kernelspec": {
   "display_name": "base",
   "language": "python",
   "name": "python3"
  },
  "language_info": {
   "codemirror_mode": {
    "name": "ipython",
    "version": 3
   },
   "file_extension": ".py",
   "mimetype": "text/x-python",
   "name": "python",
   "nbconvert_exporter": "python",
   "pygments_lexer": "ipython3",
   "version": "3.9.16"
  },
  "orig_nbformat": 4
 },
 "nbformat": 4,
 "nbformat_minor": 2
}
