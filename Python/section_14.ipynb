{
 "cells": [
  {
   "cell_type": "markdown",
   "metadata": {},
   "source": [
    "# Exercise questions Register to log in to the system"
   ]
  },
  {
   "cell_type": "markdown",
   "metadata": {},
   "source": [
    "## Implement registration first"
   ]
  },
  {
   "cell_type": "code",
   "execution_count": 5,
   "metadata": {},
   "outputs": [
    {
     "name": "stdout",
     "output_type": "stream",
     "text": [
      "Registration successful: Username: simon\n"
     ]
    }
   ],
   "source": [
    "# First, implement the registration functionality\n",
    "# Define data variables to store registered user information\n",
    "userdict = {}\n",
    "userlist = []\n",
    "\n",
    "# Read all registration information\n",
    "with open('./data/user.txt', 'a+', encoding=\"utf-8\") as fp:\n",
    "    fp.seek(0, 0)  # Move pointer to the beginning of the file\n",
    "    res = fp.readlines()  # Read all user data line by line\n",
    "    for i in res:  # Loop through each line of data\n",
    "        r = i.strip()  # Remove newline characters from each line\n",
    "        mydict = r.split(':')\n",
    "        userdict.update({mydict[0]: mydict[1]})\n",
    "        userlist = userdict.keys()\n",
    "        # print(userdict)\n",
    "\n",
    "# Define a function to handle registration\n",
    "def register():\n",
    "    # Define a variable to control the outer loop\n",
    "    site = True\n",
    "    # Loop for username operation\n",
    "    while site:\n",
    "        # Get the username input from the user\n",
    "        username = input('Welcome to register, please enter your username: ')\n",
    "\n",
    "        # Check if the username already exists\n",
    "        if username in userlist:\n",
    "            print('The username already exists, please choose another one.')\n",
    "        else:\n",
    "            # Loop until everything is correct\n",
    "            while True:\n",
    "                # Get the password input from the user\n",
    "                password = input('Please enter your password: ')\n",
    "                \n",
    "                # Check if the password length is at least 6 characters\n",
    "                if len(password) >= 6:\n",
    "                    # Confirm your password\n",
    "                    re_password = input('Please enter your password again: ')\n",
    "                    # Check if the password and confirmation match\n",
    "                    if re_password == password:\n",
    "                        # Username and password are correct, write to file\n",
    "                        with open('./data/user.txt', 'a+', encoding='UTF-8') as fp:\n",
    "                            fp.write(f'{username}:{password}\\n')\n",
    "                        print(f'Registration successful: Username: {username}')\n",
    "                        # End the loop\n",
    "                        site = False\n",
    "                        break\n",
    "                    else:\n",
    "                        print('The passwords do not match, please try again.', username, password, re_password)\n",
    "\n",
    "                # Password length is insufficient\n",
    "                else:\n",
    "                    print('Password format is incorrect:', username, password)\n",
    "\n",
    "register()"
   ]
  },
  {
   "cell_type": "markdown",
   "metadata": {},
   "source": [
    "## Login function\n",
    "\n",
    "1. You need to use your registered user information to log in.\n",
    "2. If the password is entered incorrectly 3 times, the account information will be locked (the account can no longer be used to log in)."
   ]
  },
  {
   "cell_type": "code",
   "execution_count": 6,
   "metadata": {},
   "outputs": [
    {
     "name": "stdout",
     "output_type": "stream",
     "text": [
      "userdict:{'hivan': '123456', 'du': '098765', 'fan': '7654321', 'simon': '5647382910'},\n",
      "userlist:dict_keys(['hivan', 'du', 'fan', 'simon'])\n",
      "5647382910\n"
     ]
    }
   ],
   "source": [
    "# Implement login functionality\n",
    "# Define data variables to store registered user information\n",
    "userdict = {}\n",
    "userlist = []\n",
    "blackUserList = []  # Define a variable for the blacklist\n",
    "\n",
    "# Read all registration information\n",
    "with open('./data/user.txt', 'a+', encoding=\"utf-8\") as fp:\n",
    "    fp.seek(0, 0)  # Move pointer to the beginning of the file\n",
    "    res = fp.readlines()  # Read all user data line by line\n",
    "    for i in res:  # Loop through each line of data\n",
    "        r = i.strip()  # Remove newline characters from each line\n",
    "        mydict = r.split(':')\n",
    "        userdict.update({mydict[0]: mydict[1]})\n",
    "        userlist = userdict.keys()\n",
    "    print(f'userdict:{userdict},\\nuserlist:{userlist}')\n",
    "\n",
    "# Read all blacklist users\n",
    "with open('./data/black.txt', 'a+', encoding='utf-8') as fp:\n",
    "    fp.seek(0, 0)\n",
    "    res = fp.readlines()\n",
    "    for i in res:\n",
    "        r = i.strip()  # Remove newline characters\n",
    "        blackUserList.append(r)\n",
    "\n",
    "# Define the login function\n",
    "def login():\n",
    "    \n",
    "    # Custom variable to control the outer loop\n",
    "    isLogin = True\n",
    "    # Variable to record the number of incorrect password attempts\n",
    "    errorNum = 3\n",
    "\n",
    "    # Create loop\n",
    "    while isLogin:\n",
    "\n",
    "        # Get the username input from the user\n",
    "        username = input('Welcome to login, please enter your username: ')\n",
    "        \n",
    "        # Check if the username is in the blacklist\n",
    "        if username in blackUserList:\n",
    "            print('Your account has been locked and you have not provided offerings to the administrator.')\n",
    "            isLogin = False  # End the outer loop\n",
    "        elif username in userlist:\n",
    "            while True:\n",
    "                # Get the password input from the user\n",
    "                pwd = input('Please enter your password: ')\n",
    "                # Check if the entered password is correct\n",
    "                if pwd == userdict[username]:\n",
    "                    print(pwd)\n",
    "                    isLogin = False  # End the outer loop\n",
    "                    break  # End the inner loop\n",
    "                else:\n",
    "                    # Password is incorrect, decrement the error count\n",
    "                    errorNum -= 1\n",
    "                    # Check the current number of incorrect attempts\n",
    "                    if errorNum == 0:\n",
    "                        print('You had your chance, but you failed. The account has been locked. Please contact the administrator and provide offerings.')\n",
    "                        # Lock the current account and add the user to the blacklist\n",
    "                        with open('./data/black.txt', 'a+', encoding='UTF-8') as fp:\n",
    "                            fp.write(username + '\\n')\n",
    "                        isLogin = False\n",
    "                        break\n",
    "                    else:\n",
    "                        print(f'Your password is incorrect, you have {errorNum} attempts left.')\n",
    "        else:\n",
    "            # Username does not exist\n",
    "            print('Username error, please try again')\n",
    "\n",
    "    # Check if the user is in a locked state\n",
    "\n",
    "login()"
   ]
  },
  {
   "cell_type": "code",
   "execution_count": null,
   "metadata": {},
   "outputs": [],
   "source": []
  }
 ],
 "metadata": {
  "kernelspec": {
   "display_name": "base",
   "language": "python",
   "name": "python3"
  },
  "language_info": {
   "codemirror_mode": {
    "name": "ipython",
    "version": 3
   },
   "file_extension": ".py",
   "mimetype": "text/x-python",
   "name": "python",
   "nbconvert_exporter": "python",
   "pygments_lexer": "ipython3",
   "version": "3.9.16"
  },
  "orig_nbformat": 4
 },
 "nbformat": 4,
 "nbformat_minor": 2
}
