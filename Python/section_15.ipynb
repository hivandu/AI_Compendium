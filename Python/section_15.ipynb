{
 "cells": [
  {
   "cell_type": "markdown",
   "metadata": {},
   "source": [
    "# SECTION 15, system-integrated module"
   ]
  },
  {
   "cell_type": "markdown",
   "metadata": {},
   "source": [
    "## Serialized modules"
   ]
  },
  {
   "cell_type": "code",
   "execution_count": 54,
   "metadata": {},
   "outputs": [
    {
     "name": "stdout",
     "output_type": "stream",
     "text": [
      "b'\\x80\\x04\\x95\\x0e\\x00\\x00\\x00\\x00\\x00\\x00\\x00\\x8c\\nI love you\\x94.' <class 'bytes'>\n"
     ]
    }
   ],
   "source": [
    "import pickle\n",
    "myStr = 'I love you'\n",
    "res = pickle.dumps(myStr)\n",
    "print(res, type(res))"
   ]
  },
  {
   "cell_type": "code",
   "execution_count": 55,
   "metadata": {},
   "outputs": [
    {
     "name": "stdout",
     "output_type": "stream",
     "text": [
      "b'\\x80\\x04\\x95\\x0f\\x00\\x00\\x00\\x00\\x00\\x00\\x00]\\x94(K\\x01K\\x02K\\x03K\\x04K\\x05e.' <class 'bytes'>\n"
     ]
    }
   ],
   "source": [
    "myList = [1, 2, 3, 4, 5]\n",
    "res = pickle.dumps(myList)\n",
    "print(res, type(res))"
   ]
  },
  {
   "cell_type": "code",
   "execution_count": 56,
   "metadata": {},
   "outputs": [
    {
     "name": "stdout",
     "output_type": "stream",
     "text": [
      "b'\\x80\\x04\\x95\\x10\\x00\\x00\\x00\\x00\\x00\\x00\\x00(K\\x01K\\x02K\\x03K\\x04K\\x05K\\x06t\\x94.' <class 'bytes'>\n"
     ]
    }
   ],
   "source": [
    "myTuple = (1, 2, 3, 4, 5, 6)\n",
    "res = pickle.dumps(myTuple)\n",
    "print(res, type(res))"
   ]
  },
  {
   "cell_type": "code",
   "execution_count": 57,
   "metadata": {},
   "outputs": [
    {
     "name": "stdout",
     "output_type": "stream",
     "text": [
      "(1, 2, 3, 4, 5, 6) <class 'tuple'>\n"
     ]
    }
   ],
   "source": [
    "res = pickle.loads(res)\n",
    "print(res, type(res))"
   ]
  },
  {
   "cell_type": "code",
   "execution_count": 58,
   "metadata": {},
   "outputs": [],
   "source": [
    "# Define data\n",
    "myDict = {'name': 'Hivan', 'age': 32, 'sex': 'male'}\n",
    "# Serialize the data\n",
    "res = pickle.dumps(myDict)\n",
    "# Write to file\n",
    "with open('./data/data.txt', 'wb') as fp:\n",
    "    fp.write(res)"
   ]
  },
  {
   "cell_type": "code",
   "execution_count": 59,
   "metadata": {},
   "outputs": [
    {
     "name": "stdout",
     "output_type": "stream",
     "text": [
      "{'name': 'Hivan', 'age': 32, 'sex': 'male'}\n"
     ]
    }
   ],
   "source": [
    "with open('./data/data.txt', 'rb') as fp:\n",
    "    res = fp.read()\n",
    "\n",
    "# Deserialize the data\n",
    "myDict = pickle.loads(res)\n",
    "print(myDict)"
   ]
  },
  {
   "cell_type": "code",
   "execution_count": 60,
   "metadata": {},
   "outputs": [
    {
     "name": "stdout",
     "output_type": "stream",
     "text": [
      "{'name': 'Hivan', 'age': 32, 'sex': 'male'}\n"
     ]
    }
   ],
   "source": [
    "myDict = {'name':'Hivan', 'age':32, 'sex':'male'}\n",
    "with open('./data/data2.txt', 'wb') as fp:\n",
    "    pickle.dump(myDict, fp)\n",
    "\n",
    "with open('./data/data2.txt', 'rb') as fp:\n",
    "    newdict = pickle.load(fp)\n",
    "    print(newdict)"
   ]
  },
  {
   "cell_type": "code",
   "execution_count": 9,
   "metadata": {},
   "outputs": [
    {
     "name": "stdout",
     "output_type": "stream",
     "text": [
      "{'name': 'Hivan', 'age': 32, 'sex': 'male'} <class 'dict'>\n",
      "{\"name\": \"Hivan\", \"age\": 32, \"sex\": \"male\"} <class 'str'>\n"
     ]
    }
   ],
   "source": [
    "import json\n",
    "\n",
    "myDict = {'name': 'Hivan', 'age': 32, 'sex': 'male'}\n",
    "print(myDict, type(myDict))\n",
    "\n",
    "# Convert to JSON format using the dumps method from the JSON module\n",
    "res = json.dumps(myDict)\n",
    "print(res, type(res))"
   ]
  },
  {
   "cell_type": "code",
   "execution_count": 10,
   "metadata": {},
   "outputs": [
    {
     "name": "stdout",
     "output_type": "stream",
     "text": [
      "{'name': 'Hivan', 'age': 32, 'sex': 'male'} <class 'dict'>\n"
     ]
    }
   ],
   "source": [
    "newDict = json.loads(res)\n",
    "print(newDict, type(newDict))"
   ]
  },
  {
   "cell_type": "code",
   "execution_count": 11,
   "metadata": {},
   "outputs": [],
   "source": [
    "myList = [{'name':'admin','age':1000, 'sex':'female'},{'name':'du','age':34,'sex':'male'}]\n",
    "with open('./data/15_data.json', 'w') as fp:\n",
    "    json.dump(myList, fp)"
   ]
  },
  {
   "cell_type": "code",
   "execution_count": 12,
   "metadata": {},
   "outputs": [
    {
     "name": "stdout",
     "output_type": "stream",
     "text": [
      "[{'name': 'admin', 'age': 1000, 'sex': 'female'}, {'name': 'du', 'age': 34, 'sex': 'male'}]\n"
     ]
    }
   ],
   "source": [
    "with open('./data/15_data.json', 'r') as fp:\n",
    "    newList = json.load(fp)\n",
    "    print(newList)"
   ]
  },
  {
   "cell_type": "markdown",
   "metadata": {},
   "source": [
    "## Math modules"
   ]
  },
  {
   "cell_type": "code",
   "execution_count": 13,
   "metadata": {},
   "outputs": [
    {
     "name": "stdout",
     "output_type": "stream",
     "text": [
      "4\n",
      "3\n",
      "4\n",
      "3\n",
      "1.44\n",
      "2.0\n",
      "3.14\n",
      "(0.8999999999999999, 3.0)\n",
      "3.0\n",
      "-3.0\n",
      "6.0\n",
      "6.0\n",
      "24\n",
      "3.141592653589793\n"
     ]
    }
   ],
   "source": [
    "import math\n",
    "\n",
    "# math.ceil() - Round up to the nearest integer\n",
    "res = math.ceil(3.14)\n",
    "print(res)\n",
    "\n",
    "# Round to the nearest integer\n",
    "print(round(3.14))\n",
    "print(round(3.5))\n",
    "\n",
    "# Round down to the nearest integer\n",
    "print(math.floor(3.94))\n",
    "\n",
    "# Calculate the power of a number, result is a float\n",
    "print(math.pow(1.2, 2))\n",
    "\n",
    "# Square root\n",
    "print(math.sqrt(4))\n",
    "\n",
    "# Absolute value\n",
    "print(math.fabs(-3.14))\n",
    "\n",
    "# Split the number into its fractional and integer parts\n",
    "print(math.modf(3.9))\n",
    "\n",
    "# Copy sign\n",
    "print(math.copysign(-3, 99))\n",
    "print(math.copysign(3, -2))\n",
    "\n",
    "# Sum of floating-point numbers\n",
    "print(math.fsum([1, 2, 3]))\n",
    "print(math.fsum({1, 2, 3}))\n",
    "\n",
    "# Factorial calculation\n",
    "print(math.factorial(4))\n",
    "\n",
    "# Constant π\n",
    "print(math.pi)"
   ]
  },
  {
   "cell_type": "markdown",
   "metadata": {},
   "source": [
    "## Random module"
   ]
  },
  {
   "cell_type": "code",
   "execution_count": 14,
   "metadata": {},
   "outputs": [
    {
     "name": "stdout",
     "output_type": "stream",
     "text": [
      "0.7012223100486732\n"
     ]
    }
   ],
   "source": [
    "import random\n",
    "\n",
    "# Return a random float number between 0.0 (inclusive) and 1.0 (exclusive)\n",
    "print(random.random())"
   ]
  },
  {
   "cell_type": "code",
   "execution_count": 15,
   "metadata": {},
   "outputs": [
    {
     "name": "stdout",
     "output_type": "stream",
     "text": [
      "3\n",
      "5\n",
      "8\n"
     ]
    }
   ],
   "source": [
    "print(random.randrange(5))\n",
    "print(random.randrange(3,6))\n",
    "print(random.randrange(4,10,2))"
   ]
  },
  {
   "cell_type": "code",
   "execution_count": 16,
   "metadata": {},
   "outputs": [
    {
     "name": "stdout",
     "output_type": "stream",
     "text": [
      "10\n"
     ]
    }
   ],
   "source": [
    "print(random.randint(5, 10))"
   ]
  },
  {
   "cell_type": "code",
   "execution_count": 17,
   "metadata": {},
   "outputs": [
    {
     "name": "stdout",
     "output_type": "stream",
     "text": [
      "6.392331854742396\n",
      "9.122342908141347\n",
      "5.0\n"
     ]
    }
   ],
   "source": [
    "print(random.uniform(5, 10))\n",
    "print(random.uniform(10, 5))\n",
    "print(random.uniform(5, 5))"
   ]
  },
  {
   "cell_type": "code",
   "execution_count": 18,
   "metadata": {},
   "outputs": [
    {
     "name": "stdout",
     "output_type": "stream",
     "text": [
      "1\n",
      "1\n"
     ]
    }
   ],
   "source": [
    "print(random.choice('123'))\n",
    "print(random.choice([1,2,3,4]))"
   ]
  },
  {
   "cell_type": "code",
   "execution_count": 19,
   "metadata": {},
   "outputs": [
    {
     "name": "stdout",
     "output_type": "stream",
     "text": [
      "arr:[5, 1, 2, 3, 4] \n",
      "res:None\n"
     ]
    }
   ],
   "source": [
    "arr = [1, 2, 3, 4, 5]\n",
    "res = random.shuffle(arr)\n",
    "print(f'arr:{arr} \\nres:{res}')"
   ]
  },
  {
   "cell_type": "markdown",
   "metadata": {},
   "source": [
    "## OS Module"
   ]
  },
  {
   "cell_type": "code",
   "execution_count": 20,
   "metadata": {},
   "outputs": [
    {
     "name": "stdout",
     "output_type": "stream",
     "text": [
      "/Volumes/Library/SynologyDrive/AI_Compendium/Python\n"
     ]
    }
   ],
   "source": [
    "import os\n",
    "res = os.getcwd()\n",
    "print(res)"
   ]
  },
  {
   "cell_type": "code",
   "execution_count": 24,
   "metadata": {},
   "outputs": [
    {
     "name": "stdout",
     "output_type": "stream",
     "text": [
      "/Volumes/Library/SynologyDrive/AI_Compendium\n"
     ]
    }
   ],
   "source": [
    "os.chdir('/Volumes/Library/SynologyDrive/AI_Compendium/')\n",
    "res = os.getcwd()\n",
    "print(res)"
   ]
  },
  {
   "cell_type": "code",
   "execution_count": 25,
   "metadata": {},
   "outputs": [
    {
     "name": "stdout",
     "output_type": "stream",
     "text": [
      "['section_1.ipynb', 'section_3.ipynb', 'section_7.ipynb', '.DS_Store', 'section_5.ipynb', 'section_2.ipynb', 'section_4.ipynb', 'section_6.ipynb', 'section_14_ex.py', 'section_14.ipynb', 'section_8.ipynb', 'section_12.ipynb', 'section_10.ipynb', 'section_9.ipynb', 'section_15.ipynb', 'data', 'section_11.ipynb', 'section_13.ipynb']\n"
     ]
    }
   ],
   "source": [
    "os.chdir('/Volumes/Library/SynologyDrive/AI_Compendium/Python/')\n",
    "res = os.listdir()\n",
    "print(res)"
   ]
  },
  {
   "cell_type": "code",
   "execution_count": 26,
   "metadata": {},
   "outputs": [
    {
     "name": "stdout",
     "output_type": "stream",
     "text": [
      "['AI_Cheats', 'Ebook', 'fee-paying_course', '.DS_Store', 'Icon\\r', '付费项目整理', 'Simon_Data', 'Projects', 'mp_weixin', 'FanFan', 'AI_Compendium', 'data']\n"
     ]
    }
   ],
   "source": [
    "res = os.listdir('/Volumes/Library/SynologyDrive/')\n",
    "print(res)"
   ]
  },
  {
   "cell_type": "code",
   "execution_count": 27,
   "metadata": {},
   "outputs": [
    {
     "name": "stdout",
     "output_type": "stream",
     "text": [
      "['black.txt', 'user.txt', '13-2.txt', '13-1.txt', 'data2.txt', '13-x+.txt', '15_data.json', 'data.txt']\n",
      "['black.txt', 'user.txt', 'test', '13-2.txt', '13-1.txt', 'data2.txt', '13-x+.txt', '15_data.json', 'data.txt']\n"
     ]
    }
   ],
   "source": [
    "print(os.listdir('./data/'))\n",
    "os.mkdir('./data/test', 0o777)\n",
    "print(os.listdir('./data/'))"
   ]
  },
  {
   "cell_type": "code",
   "execution_count": 35,
   "metadata": {},
   "outputs": [],
   "source": [
    "os.makedirs('./data/test/a/b/c/d/e/f/')"
   ]
  },
  {
   "cell_type": "code",
   "execution_count": 36,
   "metadata": {},
   "outputs": [
    {
     "ename": "OSError",
     "evalue": "[Errno 66] Directory not empty: './data/test'",
     "output_type": "error",
     "traceback": [
      "\u001b[0;31m---------------------------------------------------------------------------\u001b[0m",
      "\u001b[0;31mOSError\u001b[0m                                   Traceback (most recent call last)",
      "Cell \u001b[0;32mIn[36], line 1\u001b[0m\n\u001b[0;32m----> 1\u001b[0m \u001b[43mos\u001b[49m\u001b[38;5;241;43m.\u001b[39;49m\u001b[43mrmdir\u001b[49m\u001b[43m(\u001b[49m\u001b[38;5;124;43m'\u001b[39;49m\u001b[38;5;124;43m./data/test\u001b[39;49m\u001b[38;5;124;43m'\u001b[39;49m\u001b[43m)\u001b[49m\n",
      "\u001b[0;31mOSError\u001b[0m: [Errno 66] Directory not empty: './data/test'"
     ]
    }
   ],
   "source": [
    "os.rmdir('./data/test')"
   ]
  },
  {
   "cell_type": "code",
   "execution_count": 37,
   "metadata": {},
   "outputs": [],
   "source": [
    "os.rmdir('./data/test/a/b/c/d/e/f/')"
   ]
  },
  {
   "cell_type": "code",
   "execution_count": 38,
   "metadata": {},
   "outputs": [],
   "source": [
    "os.removedirs('./data/test/a/b/c/d/e/')"
   ]
  },
  {
   "cell_type": "code",
   "execution_count": 39,
   "metadata": {},
   "outputs": [],
   "source": [
    "os.rename('./data/test.txt', './data/test_update.txt')"
   ]
  },
  {
   "cell_type": "code",
   "execution_count": 40,
   "metadata": {},
   "outputs": [],
   "source": [
    "os.remove('./data/test_update.txt')"
   ]
  },
  {
   "cell_type": "code",
   "execution_count": 41,
   "metadata": {},
   "outputs": [
    {
     "name": "stdout",
     "output_type": "stream",
     "text": [
      "total 736\n",
      "drwxr-xr-x  20 du  staff    640 Aug  1 12:51 \u001b[1m\u001b[36m.\u001b[m\u001b[m\n",
      "drwxr-xr-x   7 du  staff    224 Jul 31 16:07 \u001b[1m\u001b[36m..\u001b[m\u001b[m\n",
      "-rw-r--r--@  1 du  staff   6148 Aug  1 12:57 .DS_Store\n",
      "drwxr-xr-x  11 du  staff    352 Aug  1 12:58 \u001b[1m\u001b[36mdata\u001b[m\u001b[m\n",
      "-rw-r--r--   1 du  staff   4045 Jul 31 14:02 section_1.ipynb\n",
      "-rw-r--r--   1 du  staff  15126 Aug  1 01:23 section_10.ipynb\n",
      "-rw-r--r--   1 du  staff  18852 Aug  1 01:57 section_11.ipynb\n",
      "-rw-r--r--   1 du  staff  15721 Aug  1 01:56 section_12.ipynb\n",
      "-rw-r--r--   1 du  staff   8979 Aug  1 11:42 section_13.ipynb\n",
      "-rw-r--r--   1 du  staff   8228 Aug  1 12:51 section_14.ipynb\n",
      "-rw-r--r--   1 du  staff   5780 Aug  1 12:37 section_14_ex.py\n",
      "-rw-r--r--   1 du  staff  27655 Aug  1 12:58 section_15.ipynb\n",
      "-rw-r--r--   1 du  staff   6841 Jul 31 16:26 section_2.ipynb\n",
      "-rw-r--r--   1 du  staff   5006 Jul 31 17:05 section_3.ipynb\n",
      "-rw-r--r--   1 du  staff  18403 Jul 31 18:34 section_4.ipynb\n",
      "-rw-r--r--   1 du  staff  58207 Jul 31 20:51 section_5.ipynb\n",
      "-rw-r--r--   1 du  staff  70970 Jul 31 21:14 section_6.ipynb\n",
      "-rw-r--r--   1 du  staff  13193 Jul 31 22:38 section_7.ipynb\n",
      "-rw-r--r--   1 du  staff  23206 Aug  1 01:56 section_8.ipynb\n",
      "-rw-r--r--   1 du  staff  35913 Aug  1 01:01 section_9.ipynb\n"
     ]
    },
    {
     "data": {
      "text/plain": [
       "0"
      ]
     },
     "execution_count": 41,
     "metadata": {},
     "output_type": "execute_result"
    }
   ],
   "source": [
    "os.system('ls -al')"
   ]
  },
  {
   "cell_type": "code",
   "execution_count": 42,
   "metadata": {},
   "outputs": [
    {
     "name": "stdout",
     "output_type": "stream",
     "text": [
      "/Volumes/Library/SynologyDrive/AI_Compendium/Python/section_15.ipynb\n",
      "/Volumes/Library/SynologyDrive/AI_Compendium/Python\n"
     ]
    }
   ],
   "source": [
    "print(os.path.abspath('./section_15.ipynb'))\n",
    "print(os.path.abspath('./'))"
   ]
  },
  {
   "cell_type": "code",
   "execution_count": 43,
   "metadata": {},
   "outputs": [
    {
     "name": "stdout",
     "output_type": "stream",
     "text": [
      "section_15.ipynb\n"
     ]
    }
   ],
   "source": [
    "res = os.path.abspath('./section_15.ipynb')\n",
    "print(os.path.basename(res))"
   ]
  },
  {
   "cell_type": "code",
   "execution_count": 44,
   "metadata": {},
   "outputs": [
    {
     "name": "stdout",
     "output_type": "stream",
     "text": [
      "/Users/du/git/AI_Cheats/Python/data\n"
     ]
    }
   ],
   "source": [
    "res = os.path.dirname('/Users/du/git/AI_Cheats/Python/data/data.txt')\n",
    "print(res)"
   ]
  },
  {
   "cell_type": "code",
   "execution_count": 45,
   "metadata": {},
   "outputs": [
    {
     "name": "stdout",
     "output_type": "stream",
     "text": [
      ".\n"
     ]
    }
   ],
   "source": [
    "res = os.path.dirname('./section_1.ipynb')\n",
    "print(res)"
   ]
  },
  {
   "cell_type": "code",
   "execution_count": 46,
   "metadata": {},
   "outputs": [
    {
     "name": "stdout",
     "output_type": "stream",
     "text": [
      "./data/test/2.txt\n"
     ]
    }
   ],
   "source": [
    "res = os.path.join('./data/test', '2.txt')\n",
    "print(res)"
   ]
  },
  {
   "cell_type": "code",
   "execution_count": 47,
   "metadata": {},
   "outputs": [
    {
     "name": "stdout",
     "output_type": "stream",
     "text": [
      "('./data/test', '2.txt')\n"
     ]
    }
   ],
   "source": [
    "res = os.path.split('./data/test/2.txt')\n",
    "print(res)"
   ]
  },
  {
   "cell_type": "code",
   "execution_count": 48,
   "metadata": {},
   "outputs": [
    {
     "name": "stdout",
     "output_type": "stream",
     "text": [
      "('./data/test/2', '.jpg')\n"
     ]
    }
   ],
   "source": [
    "res = os.path.splitext('./data/test/2.jpg')\n",
    "print(res)"
   ]
  },
  {
   "cell_type": "code",
   "execution_count": 49,
   "metadata": {},
   "outputs": [
    {
     "name": "stdout",
     "output_type": "stream",
     "text": [
      "91\n"
     ]
    }
   ],
   "source": [
    "res = os.path.getsize('./data/15_data.json')\n",
    "print(res)"
   ]
  },
  {
   "cell_type": "code",
   "execution_count": 50,
   "metadata": {},
   "outputs": [
    {
     "name": "stdout",
     "output_type": "stream",
     "text": [
      "False\n"
     ]
    }
   ],
   "source": [
    "res = os.path.isdir('./data/test')\n",
    "print(res)"
   ]
  },
  {
   "cell_type": "code",
   "execution_count": 51,
   "metadata": {},
   "outputs": [
    {
     "name": "stdout",
     "output_type": "stream",
     "text": [
      "False\n"
     ]
    }
   ],
   "source": [
    "res = os.path.isfile('./data/test_update.txt')\n",
    "print(res)"
   ]
  },
  {
   "cell_type": "code",
   "execution_count": 52,
   "metadata": {},
   "outputs": [
    {
     "name": "stdout",
     "output_type": "stream",
     "text": [
      "False\n",
      "False\n"
     ]
    }
   ],
   "source": [
    "res = os.path.exists('./data/test_update.txt')\n",
    "print(res)\n",
    "res = os.path.exists('./data/test')\n",
    "print(res)"
   ]
  },
  {
   "cell_type": "code",
   "execution_count": 62,
   "metadata": {},
   "outputs": [
    {
     "name": "stdout",
     "output_type": "stream",
     "text": [
      "True\n"
     ]
    }
   ],
   "source": [
    "a = './data/data.txt'\n",
    "b = '/Volumes/Library/SynologyDrive/AI_Compendium/Python/data/data.txt'\n",
    "\n",
    "res = os.path.samefile(a, b)\n",
    "print(res)"
   ]
  },
  {
   "cell_type": "code",
   "execution_count": 64,
   "metadata": {},
   "outputs": [
    {
     "data": {
      "text/plain": [
       "'./data/test/data.txt'"
      ]
     },
     "execution_count": 64,
     "metadata": {},
     "output_type": "execute_result"
    }
   ],
   "source": [
    "import shutil\n",
    "\n",
    "shutil.copy('./data/data.txt', './data/test/data.txt')"
   ]
  },
  {
   "cell_type": "code",
   "execution_count": 67,
   "metadata": {},
   "outputs": [
    {
     "data": {
      "text/plain": [
       "'./data/test/data.txt'"
      ]
     },
     "execution_count": 67,
     "metadata": {},
     "output_type": "execute_result"
    }
   ],
   "source": [
    "os.mkdir('./data/test')\n",
    "shutil.copy('./data/data.txt', './data/test/data.txt')"
   ]
  },
  {
   "cell_type": "code",
   "execution_count": 68,
   "metadata": {},
   "outputs": [
    {
     "data": {
      "text/plain": [
       "'./data/test/data.txt'"
      ]
     },
     "execution_count": 68,
     "metadata": {},
     "output_type": "execute_result"
    }
   ],
   "source": [
    "shutil.copy2('./data/data.txt', './data/test/data.txt')"
   ]
  },
  {
   "cell_type": "code",
   "execution_count": 69,
   "metadata": {},
   "outputs": [
    {
     "data": {
      "text/plain": [
       "'./data/test/data2.txt'"
      ]
     },
     "execution_count": 69,
     "metadata": {},
     "output_type": "execute_result"
    }
   ],
   "source": [
    "shutil.copyfile('./data/data.txt', './data/test/data2.txt')"
   ]
  },
  {
   "cell_type": "code",
   "execution_count": 70,
   "metadata": {},
   "outputs": [],
   "source": [
    "os.makedirs('./data/test/a/b/c/d/e/f/')"
   ]
  },
  {
   "cell_type": "code",
   "execution_count": 71,
   "metadata": {},
   "outputs": [],
   "source": [
    "shutil.rmtree('./data/test')"
   ]
  },
  {
   "cell_type": "code",
   "execution_count": 72,
   "metadata": {},
   "outputs": [
    {
     "data": {
      "text/plain": [
       "'./data/data_copy.txt'"
      ]
     },
     "execution_count": 72,
     "metadata": {},
     "output_type": "execute_result"
    }
   ],
   "source": [
    "shutil.move('./data/data.txt', './data/data_copy.txt')"
   ]
  },
  {
   "cell_type": "markdown",
   "metadata": {},
   "source": [
    "## zipfile"
   ]
  },
  {
   "cell_type": "code",
   "execution_count": 73,
   "metadata": {},
   "outputs": [],
   "source": [
    "import zipfile, os\n",
    "\n",
    "with zipfile.ZipFile('temp.zip', 'w') as myzip:\n",
    "    myzip.write('./data/data_copy.txt')\n",
    "    myzip.write('./data/black.txt')\n",
    "    myzip.write('./data/user.txt')"
   ]
  },
  {
   "cell_type": "code",
   "execution_count": 74,
   "metadata": {},
   "outputs": [],
   "source": [
    "with zipfile.ZipFile('temp.zip', 'r') as myzip:\n",
    "    myzip.extractall('./data2')"
   ]
  },
  {
   "cell_type": "code",
   "execution_count": 75,
   "metadata": {},
   "outputs": [
    {
     "name": "stdout",
     "output_type": "stream",
     "text": [
      "['section_1.ipynb', 'section_3.ipynb', 'section_7.ipynb', '.DS_Store', 'temp.zip', 'section_5.ipynb', 'section_2.ipynb', 'section_4.ipynb', 'section_6.ipynb', 'section_14_ex.py', 'section_14.ipynb', 'section_8.ipynb', 'section_12.ipynb', 'section_10.ipynb', 'section_9.ipynb', 'section_15.ipynb', 'data', 'section_11.ipynb', 'data2', 'section_13.ipynb']\n"
     ]
    }
   ],
   "source": [
    "with zipfile.ZipFile('temp.zip','w', zipfile.ZIP_DEFLATED) as myzip:\n",
    "    arr = os.listdir('./')\n",
    "    print(arr)\n",
    "    for i in arr:\n",
    "        myzip.write(i)"
   ]
  },
  {
   "cell_type": "code",
   "execution_count": 76,
   "metadata": {},
   "outputs": [
    {
     "data": {
      "text/plain": [
       "'/Volumes/Library/SynologyDrive/AI_Compendium/Python/temp.tar'"
      ]
     },
     "execution_count": 76,
     "metadata": {},
     "output_type": "execute_result"
    }
   ],
   "source": [
    "shutil.make_archive('temp', 'tar', './data')"
   ]
  },
  {
   "cell_type": "code",
   "execution_count": null,
   "metadata": {},
   "outputs": [],
   "source": []
  }
 ],
 "metadata": {
  "kernelspec": {
   "display_name": "base",
   "language": "python",
   "name": "python3"
  },
  "language_info": {
   "codemirror_mode": {
    "name": "ipython",
    "version": 3
   },
   "file_extension": ".py",
   "mimetype": "text/x-python",
   "name": "python",
   "nbconvert_exporter": "python",
   "pygments_lexer": "ipython3",
   "version": "3.9.16"
  },
  "orig_nbformat": 4
 },
 "nbformat": 4,
 "nbformat_minor": 2
}
