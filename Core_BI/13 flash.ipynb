{
 "cells": [
  {
   "cell_type": "markdown",
   "metadata": {},
   "source": [
    "# Flask"
   ]
  },
  {
   "cell_type": "code",
   "execution_count": 3,
   "metadata": {},
   "outputs": [],
   "source": [
    "from flask import Flask\n",
    "import dash\n",
    "from dash.dependencies import Input, Output\n",
    "from dash import dcc, html\n",
    "from datetime import datetime as dt\n",
    "from pandas_datareader.data import DataReader\n",
    "import tushare as ts\n",
    "import pyecharts.options as opts\n",
    "from pyecharts.charts import Bar"
   ]
  },
  {
   "cell_type": "code",
   "execution_count": 4,
   "metadata": {},
   "outputs": [
    {
     "name": "stdout",
     "output_type": "stream",
     "text": [
      " * Serving Flask app '__main__'\n",
      " * Debug mode: off\n"
     ]
    },
    {
     "name": "stderr",
     "output_type": "stream",
     "text": [
      "WARNING: This is a development server. Do not use it in a production deployment. Use a production WSGI server instead.\n",
      " * Running on http://127.0.0.1:8989\n",
      "Press CTRL+C to quit\n",
      "127.0.0.1 - - [23/Dec/2024 16:44:12] \"GET / HTTP/1.1\" 200 -\n",
      "127.0.0.1 - - [23/Dec/2024 16:44:13] \"GET /favicon.ico HTTP/1.1\" 404 -\n"
     ]
    }
   ],
   "source": [
    "# Hello\n",
    "app = Flask(__name__)\n",
    "\n",
    "@app.route('/')\n",
    "def hello():\n",
    "    return 'Hello，Hivan'\n",
    "\n",
    "if __name__ == '__main__':\n",
    "    app.run(host='127.0.0.1', port=8989)"
   ]
  },
  {
   "cell_type": "markdown",
   "metadata": {},
   "source": [
    "## Create Dash Application"
   ]
  },
  {
   "cell_type": "code",
   "execution_count": 5,
   "metadata": {},
   "outputs": [
    {
     "data": {
      "text/html": [
       "\n",
       "        <iframe\n",
       "            width=\"100%\"\n",
       "            height=\"650\"\n",
       "            src=\"http://127.0.0.1:8050/\"\n",
       "            frameborder=\"0\"\n",
       "            allowfullscreen\n",
       "            \n",
       "        ></iframe>\n",
       "        "
      ],
      "text/plain": [
       "<IPython.lib.display.IFrame at 0x1130bf760>"
      ]
     },
     "metadata": {},
     "output_type": "display_data"
    },
    {
     "name": "stderr",
     "output_type": "stream",
     "text": [
      "[2024-12-23 16:45:52,622] ERROR in app: Exception on /_dash-update-component [POST]\n",
      "Traceback (most recent call last):\n",
      "  File \"/Users/du/miniforge3/envs/ml/lib/python3.9/site-packages/flask/app.py\", line 1473, in wsgi_app\n",
      "    response = self.full_dispatch_request()\n",
      "  File \"/Users/du/miniforge3/envs/ml/lib/python3.9/site-packages/flask/app.py\", line 882, in full_dispatch_request\n",
      "    rv = self.handle_user_exception(e)\n",
      "  File \"/Users/du/miniforge3/envs/ml/lib/python3.9/site-packages/flask/app.py\", line 880, in full_dispatch_request\n",
      "    rv = self.dispatch_request()\n",
      "  File \"/Users/du/miniforge3/envs/ml/lib/python3.9/site-packages/flask/app.py\", line 865, in dispatch_request\n",
      "    return self.ensure_sync(self.view_functions[rule.endpoint])(**view_args)  # type: ignore[no-any-return]\n",
      "  File \"/Users/du/miniforge3/envs/ml/lib/python3.9/site-packages/dash/dash.py\", line 1352, in dispatch\n",
      "    ctx.run(\n",
      "  File \"/Users/du/miniforge3/envs/ml/lib/python3.9/site-packages/dash/_callback.py\", line 450, in add_context\n",
      "    output_value = _invoke_callback(func, *func_args, **func_kwargs)\n",
      "  File \"/Users/du/miniforge3/envs/ml/lib/python3.9/site-packages/dash/_callback.py\", line 39, in _invoke_callback\n",
      "    return func(*args, **kwargs)  # %% callback invoked %%\n",
      "  File \"/var/folders/h4/7cr1cmpn7v5b3x20_9wz8m740000gn/T/ipykernel_94693/1131910206.py\", line 23, in update_graph\n",
      "    df = pro.daily(ts_code=selected_dropdown_value, start_date='20230701', end_date='20231130')\n",
      "NameError: name 'pro' is not defined\n",
      "[2024-12-23 16:46:01,437] ERROR in app: Exception on /_dash-update-component [POST]\n",
      "Traceback (most recent call last):\n",
      "  File \"/Users/du/miniforge3/envs/ml/lib/python3.9/site-packages/flask/app.py\", line 1473, in wsgi_app\n",
      "    response = self.full_dispatch_request()\n",
      "  File \"/Users/du/miniforge3/envs/ml/lib/python3.9/site-packages/flask/app.py\", line 882, in full_dispatch_request\n",
      "    rv = self.handle_user_exception(e)\n",
      "  File \"/Users/du/miniforge3/envs/ml/lib/python3.9/site-packages/flask/app.py\", line 880, in full_dispatch_request\n",
      "    rv = self.dispatch_request()\n",
      "  File \"/Users/du/miniforge3/envs/ml/lib/python3.9/site-packages/flask/app.py\", line 865, in dispatch_request\n",
      "    return self.ensure_sync(self.view_functions[rule.endpoint])(**view_args)  # type: ignore[no-any-return]\n",
      "  File \"/Users/du/miniforge3/envs/ml/lib/python3.9/site-packages/dash/dash.py\", line 1352, in dispatch\n",
      "    ctx.run(\n",
      "  File \"/Users/du/miniforge3/envs/ml/lib/python3.9/site-packages/dash/_callback.py\", line 450, in add_context\n",
      "    output_value = _invoke_callback(func, *func_args, **func_kwargs)\n",
      "  File \"/Users/du/miniforge3/envs/ml/lib/python3.9/site-packages/dash/_callback.py\", line 39, in _invoke_callback\n",
      "    return func(*args, **kwargs)  # %% callback invoked %%\n",
      "  File \"/var/folders/h4/7cr1cmpn7v5b3x20_9wz8m740000gn/T/ipykernel_94693/1131910206.py\", line 23, in update_graph\n",
      "    df = pro.daily(ts_code=selected_dropdown_value, start_date='20230701', end_date='20231130')\n",
      "NameError: name 'pro' is not defined\n",
      "[2024-12-23 16:46:05,355] ERROR in app: Exception on /_dash-update-component [POST]\n",
      "Traceback (most recent call last):\n",
      "  File \"/Users/du/miniforge3/envs/ml/lib/python3.9/site-packages/flask/app.py\", line 1473, in wsgi_app\n",
      "    response = self.full_dispatch_request()\n",
      "  File \"/Users/du/miniforge3/envs/ml/lib/python3.9/site-packages/flask/app.py\", line 882, in full_dispatch_request\n",
      "    rv = self.handle_user_exception(e)\n",
      "  File \"/Users/du/miniforge3/envs/ml/lib/python3.9/site-packages/flask/app.py\", line 880, in full_dispatch_request\n",
      "    rv = self.dispatch_request()\n",
      "  File \"/Users/du/miniforge3/envs/ml/lib/python3.9/site-packages/flask/app.py\", line 865, in dispatch_request\n",
      "    return self.ensure_sync(self.view_functions[rule.endpoint])(**view_args)  # type: ignore[no-any-return]\n",
      "  File \"/Users/du/miniforge3/envs/ml/lib/python3.9/site-packages/dash/dash.py\", line 1352, in dispatch\n",
      "    ctx.run(\n",
      "  File \"/Users/du/miniforge3/envs/ml/lib/python3.9/site-packages/dash/_callback.py\", line 450, in add_context\n",
      "    output_value = _invoke_callback(func, *func_args, **func_kwargs)\n",
      "  File \"/Users/du/miniforge3/envs/ml/lib/python3.9/site-packages/dash/_callback.py\", line 39, in _invoke_callback\n",
      "    return func(*args, **kwargs)  # %% callback invoked %%\n",
      "  File \"/var/folders/h4/7cr1cmpn7v5b3x20_9wz8m740000gn/T/ipykernel_94693/1131910206.py\", line 23, in update_graph\n",
      "    df = pro.daily(ts_code=selected_dropdown_value, start_date='20230701', end_date='20231130')\n",
      "NameError: name 'pro' is not defined\n"
     ]
    }
   ],
   "source": [
    "# Create a application\n",
    "app = dash.Dash()\n",
    "\n",
    "# Set layout\n",
    "\n",
    "app.layout = html.Div([\n",
    "    html.H1('K-line chart'),\n",
    "    dcc.Dropdown(\n",
    "        id='my-dropdown',\n",
    "        options=[\n",
    "            {'label': '探路者', 'value':'300005.SZ'},\n",
    "            {'label': '莱美药业', 'value':'300006.SZ'},\n",
    "            {'label': '汉威科技', 'value':'300007.SZ'},\n",
    "            {'label': '天海防务', 'value':'300008.SZ'},\n",
    "            {'label': '安科生物', 'value':'300009.SZ'},\n",
    "        ],\n",
    "        value='300005'),\n",
    "    dcc.Graph(id='my-graph')\n",
    "])\n",
    "\n",
    "@app.callback(Output('my-graph', 'figure'), [Input('my-dropdown', 'value')])\n",
    "def update_graph(selected_dropdown_value):\n",
    "    df = pro.daily(ts_code=selected_dropdown_value, start_date='20230701', end_date='20231130')\n",
    "    return {\n",
    "        'data': [\n",
    "            {\n",
    "                'x': df.index,\n",
    "                'y': df.close,\n",
    "            }\n",
    "        ]\n",
    "    }\n",
    "\n",
    "if __name__ == '__main__':\n",
    "    app.run_server(host='127.0.0.1')"
   ]
  },
  {
   "cell_type": "code",
   "execution_count": null,
   "metadata": {},
   "outputs": [],
   "source": []
  }
 ],
 "metadata": {
  "kernelspec": {
   "display_name": "ml",
   "language": "python",
   "name": "python3"
  },
  "language_info": {
   "codemirror_mode": {
    "name": "ipython",
    "version": 3
   },
   "file_extension": ".py",
   "mimetype": "text/x-python",
   "name": "python",
   "nbconvert_exporter": "python",
   "pygments_lexer": "ipython3",
   "version": "3.9.16"
  }
 },
 "nbformat": 4,
 "nbformat_minor": 2
}
