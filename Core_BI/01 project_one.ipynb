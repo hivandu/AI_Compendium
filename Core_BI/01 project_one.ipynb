{
 "cells": [
  {
   "cell_type": "markdown",
   "metadata": {},
   "source": [
    "# Project One: Employee Turnover Forecasting"
   ]
  },
  {
   "cell_type": "markdown",
   "metadata": {},
   "source": [
    "#### step 1, explore the data"
   ]
  },
  {
   "cell_type": "code",
   "execution_count": 44,
   "metadata": {},
   "outputs": [],
   "source": [
    "import pandas as pd\n",
    "from sklearn.linear_model._logistic import LogisticRegression\n",
    "from sklearn.model_selection import train_test_split\n",
    "from sklearn.feature_extraction import DictVectorizer\n",
    "from sklearn.preprocessing import LabelEncoder\n",
    "from sklearn.calibration import LinearSVC\n",
    "from sklearn.preprocessing import MinMaxScaler\n",
    "\n",
    "import os\n",
    "import warnings\n",
    "\n",
    "dp = os.environ.get('DATA_PATH') + 'AI_Cheats/'\n",
    "warnings.filterwarnings('ignore')"
   ]
  },
  {
   "cell_type": "code",
   "execution_count": 45,
   "metadata": {},
   "outputs": [],
   "source": [
    "train = pd.read_csv(dp + 'employee_turnover/train.csv', index_col=0)\n",
    "test = pd.read_csv(dp + 'employee_turnover/test.csv', index_col=0)\n",
    "\n",
    "# print(train['Attrition'].value_counts())\n",
    "\n",
    "# Process the 'Attrition' field\n",
    "train['Attrition'] = train['Attrition'].map(lambda x: 1 if x == 'Yes' else 0)\n",
    "\n",
    "# Check if there are any missing values in each column\n",
    "# print(train.isna().sum())"
   ]
  },
  {
   "cell_type": "markdown",
   "metadata": {},
   "source": [
    "#### step2, remove useless features, process classification features"
   ]
  },
  {
   "cell_type": "code",
   "execution_count": 46,
   "metadata": {},
   "outputs": [
    {
     "name": "stdout",
     "output_type": "stream",
     "text": [
      "80    1176\n",
      "Name: StandardHours, dtype: int64\n"
     ]
    }
   ],
   "source": [
    "print(train['StandardHours'].value_counts())"
   ]
  },
  {
   "cell_type": "code",
   "execution_count": 47,
   "metadata": {},
   "outputs": [],
   "source": [
    "# Drop useless columns, EmployeeNumber, StandardHours (=80)\n",
    "train = train.drop(['EmployeeNumber', 'StandardHours'], axis=1)\n",
    "test = test.drop(['EmployeeNumber', 'StandardHours'], axis=1)"
   ]
  },
  {
   "cell_type": "code",
   "execution_count": 49,
   "metadata": {},
   "outputs": [
    {
     "name": "stdout",
     "output_type": "stream",
     "text": [
      "<class 'pandas.core.frame.DataFrame'>\n",
      "Int64Index: 294 entries, 442 to 1229\n",
      "Data columns (total 32 columns):\n",
      " #   Column                    Non-Null Count  Dtype \n",
      "---  ------                    --------------  ----- \n",
      " 0   Age                       294 non-null    int64 \n",
      " 1   BusinessTravel            294 non-null    object\n",
      " 2   DailyRate                 294 non-null    int64 \n",
      " 3   Department                294 non-null    object\n",
      " 4   DistanceFromHome          294 non-null    int64 \n",
      " 5   Education                 294 non-null    int64 \n",
      " 6   EducationField            294 non-null    object\n",
      " 7   EmployeeCount             294 non-null    int64 \n",
      " 8   EnvironmentSatisfaction   294 non-null    int64 \n",
      " 9   Gender                    294 non-null    object\n",
      " 10  HourlyRate                294 non-null    int64 \n",
      " 11  JobInvolvement            294 non-null    int64 \n",
      " 12  JobLevel                  294 non-null    int64 \n",
      " 13  JobRole                   294 non-null    object\n",
      " 14  JobSatisfaction           294 non-null    int64 \n",
      " 15  MaritalStatus             294 non-null    object\n",
      " 16  MonthlyIncome             294 non-null    int64 \n",
      " 17  MonthlyRate               294 non-null    int64 \n",
      " 18  NumCompaniesWorked        294 non-null    int64 \n",
      " 19  Over18                    294 non-null    object\n",
      " 20  OverTime                  294 non-null    object\n",
      " 21  PercentSalaryHike         294 non-null    int64 \n",
      " 22  PerformanceRating         294 non-null    int64 \n",
      " 23  RelationshipSatisfaction  294 non-null    int64 \n",
      " 24  StockOptionLevel          294 non-null    int64 \n",
      " 25  TotalWorkingYears         294 non-null    int64 \n",
      " 26  TrainingTimesLastYear     294 non-null    int64 \n",
      " 27  WorkLifeBalance           294 non-null    int64 \n",
      " 28  YearsAtCompany            294 non-null    int64 \n",
      " 29  YearsInCurrentRole        294 non-null    int64 \n",
      " 30  YearsSinceLastPromotion   294 non-null    int64 \n",
      " 31  YearsWithCurrManager      294 non-null    int64 \n",
      "dtypes: int64(24), object(8)\n",
      "memory usage: 75.8+ KB\n"
     ]
    },
    {
     "data": {
      "text/plain": [
       "(294, 32)"
      ]
     },
     "execution_count": 49,
     "metadata": {},
     "output_type": "execute_result"
    }
   ],
   "source": [
    "test.info()"
   ]
  },
  {
   "cell_type": "code",
   "execution_count": 50,
   "metadata": {},
   "outputs": [],
   "source": [
    "# Eigenvalue encoding for categorical features\n",
    "attr=['Age','BusinessTravel','Department','Education','EducationField','Gender','JobRole','MaritalStatus','Over18','OverTime']\n",
    "lbe_list=[]\n",
    "for feature in attr:\n",
    "    lbe=LabelEncoder()\n",
    "    train[feature]=lbe.fit_transform(train[feature])\n",
    "    test[feature]=lbe.transform(test[feature])\n",
    "    lbe_list.append(lbe)"
   ]
  },
  {
   "cell_type": "code",
   "execution_count": 51,
   "metadata": {},
   "outputs": [
    {
     "name": "stdout",
     "output_type": "stream",
     "text": [
      "<class 'pandas.core.frame.DataFrame'>\n",
      "Int64Index: 294 entries, 442 to 1229\n",
      "Data columns (total 32 columns):\n",
      " #   Column                    Non-Null Count  Dtype\n",
      "---  ------                    --------------  -----\n",
      " 0   Age                       294 non-null    int64\n",
      " 1   BusinessTravel            294 non-null    int64\n",
      " 2   DailyRate                 294 non-null    int64\n",
      " 3   Department                294 non-null    int64\n",
      " 4   DistanceFromHome          294 non-null    int64\n",
      " 5   Education                 294 non-null    int64\n",
      " 6   EducationField            294 non-null    int64\n",
      " 7   EmployeeCount             294 non-null    int64\n",
      " 8   EnvironmentSatisfaction   294 non-null    int64\n",
      " 9   Gender                    294 non-null    int64\n",
      " 10  HourlyRate                294 non-null    int64\n",
      " 11  JobInvolvement            294 non-null    int64\n",
      " 12  JobLevel                  294 non-null    int64\n",
      " 13  JobRole                   294 non-null    int64\n",
      " 14  JobSatisfaction           294 non-null    int64\n",
      " 15  MaritalStatus             294 non-null    int64\n",
      " 16  MonthlyIncome             294 non-null    int64\n",
      " 17  MonthlyRate               294 non-null    int64\n",
      " 18  NumCompaniesWorked        294 non-null    int64\n",
      " 19  Over18                    294 non-null    int64\n",
      " 20  OverTime                  294 non-null    int64\n",
      " 21  PercentSalaryHike         294 non-null    int64\n",
      " 22  PerformanceRating         294 non-null    int64\n",
      " 23  RelationshipSatisfaction  294 non-null    int64\n",
      " 24  StockOptionLevel          294 non-null    int64\n",
      " 25  TotalWorkingYears         294 non-null    int64\n",
      " 26  TrainingTimesLastYear     294 non-null    int64\n",
      " 27  WorkLifeBalance           294 non-null    int64\n",
      " 28  YearsAtCompany            294 non-null    int64\n",
      " 29  YearsInCurrentRole        294 non-null    int64\n",
      " 30  YearsSinceLastPromotion   294 non-null    int64\n",
      " 31  YearsWithCurrManager      294 non-null    int64\n",
      "dtypes: int64(32)\n",
      "memory usage: 75.8 KB\n"
     ]
    }
   ],
   "source": [
    "test.info()"
   ]
  },
  {
   "cell_type": "code",
   "execution_count": 52,
   "metadata": {},
   "outputs": [],
   "source": [
    "train.to_csv(dp + 'employee_turnover/train_label_encoder.csv')\n",
    "test.to_csv(dp + 'employee_turnover/test_label_encoder.csv')"
   ]
  },
  {
   "cell_type": "code",
   "execution_count": 60,
   "metadata": {},
   "outputs": [],
   "source": [
    "train_load = pd.read_csv(dp + 'employee_turnover/train_label_encoder.csv', index_col=0)\n",
    "test_load = pd.read_csv(dp + 'employee_turnover/test_label_encoder.csv', index_col=0)\n",
    "\n",
    "X_train, X_valid, y_train, y_valid = train_test_split(train_load.drop('Attrition',axis=1), train_load['Attrition'], test_size=0.2, random_state=2024)"
   ]
  },
  {
   "cell_type": "markdown",
   "metadata": {},
   "source": [
    "## LR"
   ]
  },
  {
   "cell_type": "code",
   "execution_count": 54,
   "metadata": {},
   "outputs": [
    {
     "name": "stdout",
     "output_type": "stream",
     "text": [
      "RUNNING THE L-BFGS-B CODE\n",
      "\n",
      "           * * *\n",
      "\n",
      "Machine precision = 2.220D-16\n",
      " N =           33     M =           10\n",
      "\n",
      "At X0         0 variables are exactly at the bounds\n",
      "\n",
      "At iterate    0    f=  6.93147D-01    |proj g|=  4.79184D+03\n",
      "\n",
      "At iterate   50    f=  4.07559D-01    |proj g|=  1.23471D+00\n",
      "\n",
      "At iterate  100    f=  3.95693D-01    |proj g|=  4.22680D+00\n",
      "\n",
      "           * * *\n",
      "\n",
      "Tit   = total number of iterations\n",
      "Tnf   = total number of function evaluations\n",
      "Tnint = total number of segments explored during Cauchy searches\n",
      "Skip  = number of BFGS updates skipped\n",
      "Nact  = number of active bounds at final generalized Cauchy point\n",
      "Projg = norm of the final projected gradient\n",
      "F     = final function value\n",
      "\n",
      "           * * *\n",
      "\n",
      "   N    Tit     Tnf  Tnint  Skip  Nact     Projg        F\n",
      "   33    100    122      1     0     0   4.227D+00   3.957D-01\n",
      "  F =  0.39569270566385484     \n",
      "\n",
      "STOP: TOTAL NO. of ITERATIONS REACHED LIMIT                 \n",
      "\n",
      "Predict: \n",
      "[0.09569216 0.33722098 0.26765036 0.08178544 0.38732371 0.28350498\n",
      " 0.090753   0.08443647 0.04786205 0.21205977 0.02909786 0.39471125\n",
      " 0.09035991 0.16829692 0.07848846 0.10527189 0.10315739 0.13259876\n",
      " 0.12244059 0.28704828 0.21645767 0.02052637 0.14458645 0.1595225\n",
      " 0.32944151 0.12045666 0.23238461 0.04248928 0.33186488 0.11943585\n",
      " 0.05586686 0.06910547 0.15668345 0.05312916 0.09602929 0.06600425\n",
      " 0.07483042 0.25267303 0.05676775 0.30964727 0.05560978 0.07856426\n",
      " 0.02952252 0.0311815  0.06352071 0.26699627 0.30992949 0.05780998\n",
      " 0.31584908 0.22401531 0.07140484 0.1865063  0.13447531 0.07849884\n",
      " 0.17293551 0.11707229 0.18649221 0.13430028 0.153677   0.25630495\n",
      " 0.08479275 0.27186559 0.09191194 0.07338037 0.21777769 0.07885585\n",
      " 0.13741875 0.11779009 0.17124878 0.19478694 0.04061816 0.35729706\n",
      " 0.26428925 0.25663992 0.166353   0.28092633 0.23575667 0.04960085\n",
      " 0.325099   0.07163932 0.02165914 0.0679506  0.236133   0.12250758\n",
      " 0.11732832 0.10295616 0.01108285 0.10898121 0.10374815 0.19292565\n",
      " 0.27931903 0.23434823 0.33502594 0.25369806 0.06099758 0.31993649\n",
      " 0.37624556 0.26827592 0.17305677 0.09793376 0.18936508 0.34483222\n",
      " 0.06428958 0.10584012 0.14148425 0.10724185 0.05661714 0.25705903\n",
      " 0.19972446 0.12582421 0.09708677 0.0164166  0.10247726 0.19216406\n",
      " 0.1793835  0.0835491  0.04984925 0.08197414 0.02636075 0.07040523\n",
      " 0.27915422 0.16414261 0.09914    0.46370311 0.11233959 0.01430215\n",
      " 0.04584311 0.19642335 0.15022801 0.04166804 0.0192505  0.27166194\n",
      " 0.22734953 0.13560419 0.06786697 0.07261813 0.22615703 0.10527798\n",
      " 0.11778181 0.08773282 0.06223686 0.1109995  0.08510204 0.10457081\n",
      " 0.05995086 0.13400122 0.04071278 0.00708974 0.03940205 0.10289042\n",
      " 0.12041874 0.11373622 0.2324538  0.00738797 0.02162758 0.0725968\n",
      " 0.03459824 0.22373858 0.09892496 0.03913865 0.03007239 0.0307445\n",
      " 0.28022855 0.42123151 0.09373103 0.26000808 0.06409906 0.25124449\n",
      " 0.2478136  0.02174014 0.10108036 0.09708648 0.14259366 0.34533961\n",
      " 0.01492335 0.28163154 0.18527592 0.03084547 0.17599757 0.06950978\n",
      " 0.16558323 0.09981324 0.01471569 0.20004423 0.1605264  0.18812378\n",
      " 0.25689573 0.05847424 0.37945766 0.3415238  0.36289058 0.25821182\n",
      " 0.22857238 0.18690514 0.25648907 0.0684943  0.08378726 0.06122253\n",
      " 0.29531129 0.07484121 0.18770791 0.26888433 0.35409575 0.14304403\n",
      " 0.3630236  0.14549737 0.31851357 0.02749118 0.1842241  0.05218613\n",
      " 0.1883622  0.26682295 0.11345304 0.17815714 0.15252485 0.10405283\n",
      " 0.01721632 0.1399002  0.06834711 0.21915665 0.15476058 0.29109759\n",
      " 0.47195164 0.03501567 0.22541554 0.17219199 0.26495612 0.16295572\n",
      " 0.32092694 0.08846843 0.0272293  0.19567028 0.17728146 0.13073785\n",
      " 0.09061243 0.20171213 0.34114515 0.08759542 0.16132174 0.06550235\n",
      " 0.19408988 0.25960661 0.01255976 0.17550115 0.07144446 0.09357954\n",
      " 0.14608177 0.15862302 0.09153957 0.05639152 0.36858947 0.06051764\n",
      " 0.5616948  0.07766731 0.13000796 0.18944073 0.00626691 0.33712509\n",
      " 0.35914588 0.1436971  0.13818024 0.06953189 0.1246541  0.1835396\n",
      " 0.10756812 0.22228847 0.06545461 0.15007327 0.20021871 0.10645359\n",
      " 0.14500685 0.05961614 0.30060745 0.18182274 0.1045617  0.0521636\n",
      " 0.06528359 0.09954058 0.34967562 0.21921675 0.22245691 0.1284389\n",
      " 0.19621701 0.06753303 0.00627709 0.17380867 0.06752743 0.27718049\n",
      " 0.00896249 0.07399686 0.18514223 0.15980163 0.17773122 0.20370602]\n"
     ]
    },
    {
     "name": "stderr",
     "output_type": "stream",
     "text": [
      " This problem is unconstrained.\n"
     ]
    }
   ],
   "source": [
    "model = LogisticRegression(max_iter=100, \n",
    "                           verbose=True, \n",
    "                           random_state=2024,\n",
    "                           tol=1e-4\n",
    "                          )\n",
    "\n",
    "model.fit(X_train, y_train)\n",
    "\n",
    "# Binary classification result, 0 or 1\n",
    "# predict = model.predict(test_load)\n",
    "# print(predict)\n",
    "\n",
    "# Binary classification task, with 2 probability values: the probability for label=0 and label=1\n",
    "predict = model.predict_proba(test_load)[:, 1]\n",
    "print('\\nPredict: \\n{}'.format(predict))"
   ]
  },
  {
   "cell_type": "code",
   "execution_count": 56,
   "metadata": {},
   "outputs": [
    {
     "name": "stdout",
     "output_type": "stream",
     "text": [
      "submit_lr.csv saved\n"
     ]
    }
   ],
   "source": [
    "test_load['Attrition'] = predict\n",
    "test_load[['Attrition']].to_csv(dp + 'employee_turnover/submit_lr.csv')\n",
    "print('submit_lr.csv saved')"
   ]
  },
  {
   "cell_type": "code",
   "execution_count": 37,
   "metadata": {},
   "outputs": [],
   "source": [
    "# Convert to binary classification output\n",
    "#test_load['Attrition'] = test_load['Attrition'].map(lambda x: 1 if x >= 0.5 else 0)\n",
    "#test_load[['Attrition']].to_csv('dataset/submit_lr.csv')"
   ]
  },
  {
   "cell_type": "markdown",
   "metadata": {},
   "source": [
    "## SVM (Support Vector Machine)"
   ]
  },
  {
   "cell_type": "code",
   "execution_count": 61,
   "metadata": {},
   "outputs": [],
   "source": [
    "# Three SVM Methods\n",
    "\n",
    "# sklearn.svm.SVC(C=1.0, kernel='rbf', degree=3, gamma='auto', coef0=0.0, shrinking=True, probability=False, tol=0.001, cache_size=200, class_weight=None, verbose=False, max_iter=1, decision_function_shape='ovr', random_state=None)\n",
    "\n",
    "# sklearn.svm.NuSVC(nu=0.5, kernel='rbf', degree=3, gamma='auto', coef0=0.0, shrinking=True, probability=False, tol=0.001, cache_size=200, class_weight=None, verbose=False, max_iter=1, decision_function_shape='ovr', random_state=None)\n",
    "\n",
    "# sklearn.svm.LinearSVC(penalty='l2', loss='squared_hinge', dual=True, tol=0.0001, C=1.0, multi_class='ovr', fit_intercept=True, intercept_scaling=1, class_weight=None, verbose=0, random_state=None, max_iter=1000)"
   ]
  },
  {
   "cell_type": "code",
   "execution_count": 62,
   "metadata": {},
   "outputs": [],
   "source": [
    "mms = MinMaxScaler(feature_range=(0, 1))\n",
    "X_train = mms.fit_transform(X_train)\n",
    "X_valid = mms.fit_transform(X_valid)\n",
    "Y_test = mms.fit_transform(test_load)"
   ]
  },
  {
   "cell_type": "code",
   "execution_count": 63,
   "metadata": {},
   "outputs": [
    {
     "data": {
      "text/plain": [
       "(940, 32)"
      ]
     },
     "execution_count": 63,
     "metadata": {},
     "output_type": "execute_result"
    }
   ],
   "source": [
    "X_train.shape"
   ]
  },
  {
   "cell_type": "code",
   "execution_count": 64,
   "metadata": {},
   "outputs": [
    {
     "name": "stdout",
     "output_type": "stream",
     "text": [
      "[LibLinear]iter  1 act 4.358e+02 pre 4.358e+02 delta 2.541e-01 f 9.400e+02 |g| 3.430e+03 CG   1\n",
      "cg reaches trust region boundary\n",
      "iter  2 act 4.791e+01 pre 4.791e+01 delta 5.731e-01 f 5.042e+02 |g| 2.423e+02 CG   1\n",
      "cg reaches trust region boundary\n",
      "iter  3 act 5.192e+01 pre 4.635e+01 delta 6.917e-01 f 4.563e+02 |g| 2.785e+02 CG   3\n",
      "cg reaches trust region boundary\n",
      "iter  4 act 1.604e+01 pre 1.391e+01 delta 8.292e-01 f 4.044e+02 |g| 1.273e+02 CG   5\n",
      "cg reaches trust region boundary\n",
      "iter  5 act 4.172e+00 pre 3.797e+00 delta 9.209e-01 f 3.884e+02 |g| 6.714e+01 CG   8\n",
      "iter  6 act 8.779e-01 pre 8.635e-01 delta 9.209e-01 f 3.842e+02 |g| 2.235e+01 CG  10\n",
      "iter  7 act 2.629e-02 pre 2.624e-02 delta 9.209e-01 f 3.833e+02 |g| 2.757e+00 CG   8\n",
      "iter  8 act 1.439e-03 pre 1.440e-03 delta 9.209e-01 f 3.833e+02 |g| 2.317e-01 CG  12\n",
      "\n",
      "Predict\n",
      ":[0 0 0 0 1 0 1 0 0 0 0 0 0 1 0 0 0 0 0 0 0 0 0 0 1 0 0 0 1 0 0 0 0 0 0 0 0\n",
      " 0 0 0 0 0 0 0 0 0 0 0 1 0 0 1 0 0 1 0 0 0 0 0 0 0 0 0 0 0 0 0 0 0 0 0 0 0\n",
      " 0 0 0 0 0 0 0 0 0 0 0 0 0 0 0 0 0 0 0 0 0 0 0 0 0 0 0 1 1 0 0 0 0 0 0 0 0\n",
      " 0 0 0 0 0 0 0 0 0 0 0 0 1 0 0 0 0 0 0 0 0 1 0 0 1 1 0 0 0 0 0 0 0 0 0 0 0\n",
      " 0 0 0 0 0 0 0 0 0 0 0 0 0 0 0 1 0 0 0 0 0 0 0 0 0 0 0 0 0 0 0 0 0 0 0 1 0\n",
      " 0 0 0 1 0 0 0 0 0 0 0 0 0 0 0 0 0 1 0 0 0 0 0 0 0 0 0 0 0 0 0 0 0 0 0 0 0\n",
      " 1 0 0 0 0 0 0 0 0 0 0 0 0 0 0 0 0 0 0 0 0 0 0 0 0 0 0 0 0 0 1 0 0 0 0 1 0\n",
      " 0 0 0 0 0 0 0 0 0 0 0 0 0 0 0 0 0 0 0 0 0 0 0 0 0 0 0 0 0 0 0 0 1 0 0]\n"
     ]
    }
   ],
   "source": [
    "\n",
    "model = LinearSVC(max_iter=1000,\n",
    "                  random_state=33,\n",
    "                  verbose=True)\n",
    "\n",
    "model.fit(X_train, y_train)\n",
    "predict = model.predict(Y_test)\n",
    "print('\\nPredict\\n:{}'.format(predict))"
   ]
  },
  {
   "cell_type": "code",
   "execution_count": 65,
   "metadata": {},
   "outputs": [],
   "source": [
    "# predict_series = pd.Series(predict, index = test_load.index)\n",
    "# submission_df = pd.DataFrame({'Attrition':predict})\n",
    "\n",
    "test_load['Attrition'] = predict\n",
    "test_load[['Attrition']].to_csv(dp + 'employee_turnover/submit_svc.csv')\n",
    "# print('submit_svc.csv saved')"
   ]
  },
  {
   "cell_type": "code",
   "execution_count": null,
   "metadata": {},
   "outputs": [],
   "source": []
  }
 ],
 "metadata": {
  "kernelspec": {
   "display_name": "ml",
   "language": "python",
   "name": "python3"
  },
  "language_info": {
   "codemirror_mode": {
    "name": "ipython",
    "version": 3
   },
   "file_extension": ".py",
   "mimetype": "text/x-python",
   "name": "python",
   "nbconvert_exporter": "python",
   "pygments_lexer": "ipython3",
   "version": "3.9.16"
  }
 },
 "nbformat": 4,
 "nbformat_minor": 2
}
