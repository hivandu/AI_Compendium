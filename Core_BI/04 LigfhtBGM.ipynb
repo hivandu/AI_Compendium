{
 "cells": [
  {
   "cell_type": "markdown",
   "metadata": {},
   "source": [
    "# LightGBM"
   ]
  },
  {
   "cell_type": "code",
   "execution_count": 1,
   "metadata": {},
   "outputs": [],
   "source": [
    "import pandas as pd\n",
    "import numpy as np\n",
    "import lightgbm as lgb\n",
    "from sklearn.preprocessing import LabelEncoder, OneHotEncoder\n",
    "from sklearn.model_selection import train_test_split\n",
    "from sklearn.metrics import accuracy_score\n",
    "import os\n",
    "\n",
    "data_path = os.environ.get('DATA_PATH') + 'AI_Cheats/'"
   ]
  },
  {
   "cell_type": "code",
   "execution_count": 3,
   "metadata": {},
   "outputs": [],
   "source": [
    "# Load the training and testing data\n",
    "train = pd.read_csv(data_path + 'employee_turnover/train.csv', index_col=0)\n",
    "test = pd.read_csv(data_path + 'employee_turnover/test.csv', index_col=0)\n",
    "\n",
    "# Process the Attrition column, converting 'Yes' to 1 and 'No' to 0\n",
    "train['Attrition'] = train['Attrition'].map(lambda x: 1 if x == 'Yes' else 0)\n",
    "\n",
    "# Check for missing values in each column\n",
    "# print(train.isna().sum())"
   ]
  },
  {
   "cell_type": "code",
   "execution_count": 4,
   "metadata": {},
   "outputs": [],
   "source": [
    "# Drop unnecessary columns: EmployeeNumber and StandardHours (since they are constant)\n",
    "train = train.drop(['EmployeeNumber', 'StandardHours'], axis=1)\n",
    "test = test.drop(['EmployeeNumber', 'StandardHours'], axis=1)"
   ]
  },
  {
   "cell_type": "code",
   "execution_count": 5,
   "metadata": {},
   "outputs": [],
   "source": [
    "# Categorical features that need encoding\n",
    "attr = ['Age', 'BusinessTravel', 'Department', 'Education', 'EducationField', \n",
    "        'Gender', 'JobRole', 'MaritalStatus', 'Over18', 'OverTime']"
   ]
  },
  {
   "cell_type": "code",
   "execution_count": 6,
   "metadata": {},
   "outputs": [],
   "source": [
    "label_encoder = LabelEncoder()\n",
    "\n",
    "for col in attr:\n",
    "    train[col] = label_encoder.fit_transform(train[col])\n",
    "    test[col] = label_encoder.transform(test[col])\n",
    "\n",
    "X_train, X_valid, y_train, y_valid = train_test_split(train.drop('Attrition', axis=1), train['Attrition'], test_size=0.2, random_state=2023)"
   ]
  },
  {
   "cell_type": "code",
   "execution_count": 7,
   "metadata": {},
   "outputs": [
    {
     "name": "stdout",
     "output_type": "stream",
     "text": [
      "[LightGBM] [Info] Number of positive: 153, number of negative: 787\n",
      "[LightGBM] [Info] Total Bins 1128\n",
      "[LightGBM] [Info] Number of data points in the train set: 940, number of used features: 30\n",
      "[LightGBM] [Info] [binary:BoostFromScore]: pavg=0.162766 -> initscore=-1.637790\n",
      "[LightGBM] [Info] Start training from score -1.637790\n",
      "Accuracy: 0.864406779661017\n"
     ]
    }
   ],
   "source": [
    "# LightGBM parameters for training\n",
    "params = {\n",
    "    'boosting_type': 'gbdt',\n",
    "    'objective': 'binary', \n",
    "    'eta': 0.01,\n",
    "    'max_depth': 6,\n",
    "    'num_leaves': 8,  # Adjust based on performance\n",
    "    'colsample_bytree': 0.8,\n",
    "    'subsample': 0.9,\n",
    "    'subsample_freq': 8,\n",
    "    'alpha': 0.6,\n",
    "    'lambda': 0,\n",
    "    'device_type': 'cpu',\n",
    "    'force_row_wise': True\n",
    "}\n",
    "\n",
    "# Prepare training and validation datasets\n",
    "trn_data = lgb.Dataset(X_train, label=y_train)\n",
    "val_data = lgb.Dataset(X_valid, label=y_valid)\n",
    "\n",
    "# Train the LightGBM model\n",
    "model = lgb.train(params, trn_data, num_boost_round=100, valid_sets=[val_data], \n",
    "                  feature_name='auto', categorical_feature='auto', keep_training_booster=False)\n",
    "\n",
    "# Use the trained model to make predictions\n",
    "y_pred = model.predict(X_valid, num_iteration=model.best_iteration)\n",
    "\n",
    "# Convert probability predictions to binary labels (0 or 1) using a threshold\n",
    "threshold = 0.5\n",
    "y_pred_binary = np.where(y_pred > threshold, 1, 0)\n",
    "\n",
    "# Calculate the accuracy\n",
    "accuracy = accuracy_score(y_valid, y_pred_binary)\n",
    "print(f\"Accuracy: {accuracy}\")"
   ]
  },
  {
   "cell_type": "code",
   "execution_count": null,
   "metadata": {},
   "outputs": [],
   "source": []
  }
 ],
 "metadata": {
  "kernelspec": {
   "display_name": "ml",
   "language": "python",
   "name": "python3"
  },
  "language_info": {
   "codemirror_mode": {
    "name": "ipython",
    "version": 3
   },
   "file_extension": ".py",
   "mimetype": "text/x-python",
   "name": "python",
   "nbconvert_exporter": "python",
   "pygments_lexer": "ipython3",
   "version": "3.9.16"
  }
 },
 "nbformat": 4,
 "nbformat_minor": 2
}
