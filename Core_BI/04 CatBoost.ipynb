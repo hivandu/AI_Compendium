{
 "cells": [
  {
   "cell_type": "markdown",
   "metadata": {},
   "source": [
    "# CatBoost"
   ]
  },
  {
   "cell_type": "code",
   "execution_count": 1,
   "metadata": {},
   "outputs": [],
   "source": [
    "import pandas as pd\n",
    "import numpy as np\n",
    "import catboost as cb\n",
    "from sklearn.preprocessing import LabelEncoder, OneHotEncoder\n",
    "from sklearn.model_selection import train_test_split\n",
    "from sklearn.metrics import accuracy_score\n",
    "import os\n",
    "data_path = os.environ.get('DATA_PATH')"
   ]
  },
  {
   "cell_type": "code",
   "execution_count": 2,
   "metadata": {},
   "outputs": [],
   "source": [
    "# Load the training and testing data\n",
    "train = pd.read_csv(data_path + 'AI_Cheats/employee_turnover/train.csv', index_col=0)\n",
    "test = pd.read_csv(data_path + 'AI_Cheats/employee_turnover/test.csv', index_col=0)\n",
    "\n",
    "# Process the Attrition column, converting 'Yes' to 1 and 'No' to 0\n",
    "train['Attrition'] = train['Attrition'].map(lambda x: 1 if x == 'Yes' else 0)\n",
    "\n",
    "# Check for missing values in each column\n",
    "# print(train.isna().sum())"
   ]
  },
  {
   "cell_type": "code",
   "execution_count": 3,
   "metadata": {},
   "outputs": [],
   "source": [
    "# Drop unnecessary columns: EmployeeNumber and StandardHours (since they are constant)\n",
    "train = train.drop(['EmployeeNumber', 'StandardHours'], axis=1)\n",
    "test = test.drop(['EmployeeNumber', 'StandardHours'], axis=1)"
   ]
  },
  {
   "cell_type": "code",
   "execution_count": 4,
   "metadata": {},
   "outputs": [],
   "source": [
    "# List of categorical features that need encoding\n",
    "attr = ['Age', 'BusinessTravel', 'Department', 'Education', 'EducationField', \n",
    "        'Gender', 'JobRole', 'MaritalStatus', 'Over18', 'OverTime']\n",
    "\n",
    "# Encode categorical features using LabelEncoder\n",
    "lbe_list = []\n",
    "for feature in attr:\n",
    "    lbe = LabelEncoder()\n",
    "    train[feature] = lbe.fit_transform(train[feature])\n",
    "    test[feature] = lbe.transform(test[feature])\n",
    "    lbe_list.append(lbe)\n",
    "# Print the processed training data to check encoding\n",
    "# print(train)"
   ]
  },
  {
   "cell_type": "code",
   "execution_count": 5,
   "metadata": {},
   "outputs": [],
   "source": [
    "X_train, X_valid, y_train, y_valid = train_test_split(train.drop('Attrition',axis=1), train['Attrition'], test_size=0.2, random_state=42)"
   ]
  },
  {
   "cell_type": "code",
   "execution_count": 6,
   "metadata": {},
   "outputs": [],
   "source": [
    "model = cb.CatBoostClassifier(\n",
    "    iterations=1000, \n",
    "    depth=7, \n",
    "    learning_rate=0.01, \n",
    "    loss_function='Logloss', \n",
    "    eval_metric='AUC',\n",
    "    logging_level='Verbose', \n",
    "    metric_period=50\n",
    ")"
   ]
  },
  {
   "cell_type": "code",
   "execution_count": 7,
   "metadata": {},
   "outputs": [
    {
     "name": "stdout",
     "output_type": "stream",
     "text": [
      "[0, 1, 3, 5, 6, 9, 13, 15, 19, 20]\n"
     ]
    }
   ],
   "source": [
    "# Get the column indices of the categorical features\n",
    "categorical_features_indices = []\n",
    "for i in range(len(X_train.columns)):\n",
    "    if X_train.columns.values[i] in attr:\n",
    "        categorical_features_indices.append(i)\n",
    "\n",
    "print(categorical_features_indices)"
   ]
  },
  {
   "cell_type": "code",
   "execution_count": 8,
   "metadata": {},
   "outputs": [
    {
     "name": "stdout",
     "output_type": "stream",
     "text": [
      "0:\ttest: 0.6390374\tbest: 0.6390374 (0)\ttotal: 60ms\tremaining: 59.9s\n",
      "50:\ttest: 0.7895886\tbest: 0.7895886 (50)\ttotal: 173ms\tremaining: 3.22s\n",
      "100:\ttest: 0.8008294\tbest: 0.8008294 (100)\ttotal: 269ms\tremaining: 2.39s\n",
      "150:\ttest: 0.8057405\tbest: 0.8057405 (150)\ttotal: 383ms\tremaining: 2.15s\n",
      "200:\ttest: 0.8041035\tbest: 0.8057405 (150)\ttotal: 500ms\tremaining: 1.99s\n",
      "250:\ttest: 0.8037761\tbest: 0.8057405 (150)\ttotal: 625ms\tremaining: 1.86s\n",
      "300:\ttest: 0.8060679\tbest: 0.8060679 (300)\ttotal: 749ms\tremaining: 1.74s\n",
      "350:\ttest: 0.8037761\tbest: 0.8060679 (300)\ttotal: 864ms\tremaining: 1.6s\n",
      "400:\ttest: 0.8019208\tbest: 0.8060679 (300)\ttotal: 985ms\tremaining: 1.47s\n",
      "450:\ttest: 0.8061770\tbest: 0.8061770 (450)\ttotal: 1.1s\tremaining: 1.33s\n",
      "500:\ttest: 0.8080323\tbest: 0.8080323 (500)\ttotal: 1.21s\tremaining: 1.21s\n",
      "550:\ttest: 0.8079232\tbest: 0.8080323 (500)\ttotal: 1.32s\tremaining: 1.08s\n",
      "600:\ttest: 0.8103241\tbest: 0.8103241 (600)\ttotal: 1.43s\tremaining: 948ms\n",
      "650:\ttest: 0.8099967\tbest: 0.8103241 (600)\ttotal: 1.55s\tremaining: 829ms\n",
      "700:\ttest: 0.8123977\tbest: 0.8123977 (700)\ttotal: 1.7s\tremaining: 723ms\n",
      "750:\ttest: 0.8109789\tbest: 0.8123977 (700)\ttotal: 2s\tremaining: 664ms\n",
      "800:\ttest: 0.8120703\tbest: 0.8123977 (700)\ttotal: 2.15s\tremaining: 533ms\n",
      "850:\ttest: 0.8115246\tbest: 0.8123977 (700)\ttotal: 2.3s\tremaining: 402ms\n",
      "900:\ttest: 0.8119611\tbest: 0.8123977 (700)\ttotal: 2.43s\tremaining: 267ms\n",
      "950:\ttest: 0.8091236\tbest: 0.8123977 (700)\ttotal: 2.58s\tremaining: 133ms\n",
      "999:\ttest: 0.8101059\tbest: 0.8123977 (700)\ttotal: 2.72s\tremaining: 0us\n",
      "\n",
      "bestTest = 0.8123976863\n",
      "bestIteration = 700\n",
      "\n",
      "Shrink model to first 701 iterations.\n"
     ]
    },
    {
     "data": {
      "text/plain": [
       "<catboost.core.CatBoostClassifier at 0x107a62f10>"
      ]
     },
     "execution_count": 8,
     "metadata": {},
     "output_type": "execute_result"
    }
   ],
   "source": [
    "model.fit(X_train, y_train, eval_set=(X_valid, y_valid), cat_features=categorical_features_indices)"
   ]
  },
  {
   "cell_type": "code",
   "execution_count": 9,
   "metadata": {},
   "outputs": [],
   "source": [
    "predict = model.predict(test)\n",
    "test['Attrition']=predict\n",
    "test[['Attrition']].to_csv(data_path + 'AI_Cheats/employee_turnover/submit_cb.csv')"
   ]
  },
  {
   "cell_type": "code",
   "execution_count": null,
   "metadata": {},
   "outputs": [],
   "source": []
  }
 ],
 "metadata": {
  "kernelspec": {
   "display_name": "ml",
   "language": "python",
   "name": "python3"
  },
  "language_info": {
   "codemirror_mode": {
    "name": "ipython",
    "version": 3
   },
   "file_extension": ".py",
   "mimetype": "text/x-python",
   "name": "python",
   "nbconvert_exporter": "python",
   "pygments_lexer": "ipython3",
   "version": "3.9.16"
  }
 },
 "nbformat": 4,
 "nbformat_minor": 2
}
